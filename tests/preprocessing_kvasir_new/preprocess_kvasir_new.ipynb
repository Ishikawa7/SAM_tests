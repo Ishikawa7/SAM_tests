{
 "cells": [
  {
   "cell_type": "code",
   "execution_count": 17,
   "metadata": {},
   "outputs": [],
   "source": [
    "from PIL import Image\n",
    "import numpy as np\n",
    "import matplotlib.pyplot as plt\n",
    "import os"
   ]
  },
  {
   "cell_type": "code",
   "execution_count": 18,
   "metadata": {},
   "outputs": [],
   "source": [
    "path_images_train = \"../../data/kvasir_new/train_images\"\n",
    "path_masks_train = \"../../data/kvasir_new/train_masks\"\n",
    "path_images_val = \"../../data/kvasir_new/validation_images\"\n",
    "path_masks_val = \"../../data/kvasir_new/validation_masks\"\n",
    "path_images_test = \"../../data/kvasir_new/test_images\"\n",
    "path_masks_test = \"../../data/kvasir_new/test_masks\""
   ]
  },
  {
   "cell_type": "code",
   "execution_count": 19,
   "metadata": {},
   "outputs": [],
   "source": [
    "train_images_names = [str(img).split(\".\")[0] for img in os.listdir(path_images_train)]\n",
    "val_images_names = [str(img).split(\".\")[0] for img in os.listdir(path_images_val)]\n",
    "test_images_names = [str(img).split(\".\")[0] for img in os.listdir(path_images_test)]"
   ]
  },
  {
   "cell_type": "code",
   "execution_count": 20,
   "metadata": {},
   "outputs": [],
   "source": [
    "directories = [\n",
    "    \"../../data/kvasir_new_processed/train/images\",\n",
    "    \"../../data/kvasir_new_processed/train/masks\",\n",
    "    \"../../data/kvasir_new_processed/test/images\",\n",
    "    \"../../data/kvasir_new_processed/test/masks\",\n",
    "    \"../../data/kvasir_new_processed/val/images\",\n",
    "    \"../../data/kvasir_new_processed/val/masks\",\n",
    "] \n",
    "# create directories if they don't exist\n",
    "for directory in directories:\n",
    "    if not os.path.exists(directory):\n",
    "        os.makedirs(directory, exist_ok=True)"
   ]
  },
  {
   "cell_type": "code",
   "execution_count": 21,
   "metadata": {},
   "outputs": [],
   "source": [
    "def process_images(path_images, path_masks, path_save, images_names):\n",
    "    for name in images_names:\n",
    "        img_path = os.path.join(path_images, name + \".jpg\")\n",
    "        mask_path = os.path.join(path_masks, name + \"_segmentation.png\")\n",
    "\n",
    "        img = Image.open(img_path)\n",
    "        mask = Image.open(mask_path)\n",
    "\n",
    "        img = img.resize((128, 128), Image.BICUBIC)\n",
    "        mask = mask.resize((128, 128), Image.NEAREST)\n",
    "\n",
    "        img.save(os.path.join(path_save+\"/images/\", name + \".png\"))\n",
    "        mask.save(os.path.join(path_save+\"/masks/\", name + \"_segmentation.png\"))\n",
    "\n",
    "        img.close()\n",
    "        mask.close()"
   ]
  },
  {
   "cell_type": "code",
   "execution_count": 22,
   "metadata": {},
   "outputs": [],
   "source": [
    "# process train, test and validation images\n",
    "process_images(path_images_train, path_masks_train, \"../../data/kvasir_new_processed/train\", train_images_names)\n",
    "process_images(path_images_val, path_masks_val, \"../../data/kvasir_new_processed/val\", val_images_names)\n",
    "process_images(path_images_test, path_masks_test, \"../../data/kvasir_new_processed/test\", test_images_names)"
   ]
  },
  {
   "cell_type": "code",
   "execution_count": 23,
   "metadata": {},
   "outputs": [],
   "source": [
    "## read and display 10 random images and masks from the training set\n",
    "#images = os.listdir(\"../data/kvasir-seg/Kvasir-SEG-processed/train/images\")\n",
    "#masks = os.listdir(\"../data/kvasir-seg/Kvasir-SEG-processed/train/masks\")\n",
    "#\n",
    "#for i in range(10):\n",
    "#    random_index = np.random.randint(0, len(images))\n",
    "#    img = Image.open(os.path.join(\"../data/kvasir-seg/Kvasir-SEG-processed/train/images\", images[random_index]))\n",
    "#    mask = Image.open(os.path.join(\"../data/kvasir-seg/Kvasir-SEG-processed/train/masks\", masks[random_index]))\n",
    "#    img_original = Image.open(os.path.join(\"../data/kvasir-seg/Kvasir-SEG/images\", images[random_index]))\n",
    "#    mask_original = Image.open(os.path.join(\"../data/kvasir-seg/Kvasir-SEG/masks\", masks[random_index]))\n",
    "#    \n",
    "#    fig, ax = plt.subplots(1, 4, figsize=(15, 10))\n",
    "#    ax[0].imshow(img)\n",
    "#    ax[0].axis(\"off\")\n",
    "#    ax[0].set_title(\"Image\")\n",
    "#    ax[1].imshow(mask)\n",
    "#    ax[1].axis(\"off\")\n",
    "#    ax[1].set_title(\"Mask\")\n",
    "#    ax[2].imshow(img_original)\n",
    "#    ax[2].axis(\"off\")\n",
    "#    ax[2].set_title(\"Original Image\")\n",
    "#    ax[3].imshow(mask_original)\n",
    "#    ax[3].axis(\"off\")\n",
    "#    ax[3].set_title(\"Original Mask\")\n",
    "#    plt.show()\n",
    "#    \n",
    "#    img.close()\n",
    "#    mask.close()"
   ]
  },
  {
   "cell_type": "code",
   "execution_count": null,
   "metadata": {},
   "outputs": [],
   "source": []
  },
  {
   "cell_type": "code",
   "execution_count": null,
   "metadata": {},
   "outputs": [],
   "source": []
  },
  {
   "cell_type": "code",
   "execution_count": null,
   "metadata": {},
   "outputs": [],
   "source": []
  },
  {
   "cell_type": "code",
   "execution_count": null,
   "metadata": {},
   "outputs": [],
   "source": []
  },
  {
   "cell_type": "code",
   "execution_count": null,
   "metadata": {},
   "outputs": [],
   "source": []
  },
  {
   "cell_type": "code",
   "execution_count": null,
   "metadata": {},
   "outputs": [],
   "source": []
  }
 ],
 "metadata": {
  "kernelspec": {
   "display_name": "env",
   "language": "python",
   "name": "python3"
  },
  "language_info": {
   "codemirror_mode": {
    "name": "ipython",
    "version": 3
   },
   "file_extension": ".py",
   "mimetype": "text/x-python",
   "name": "python",
   "nbconvert_exporter": "python",
   "pygments_lexer": "ipython3",
   "version": "3.12.3"
  }
 },
 "nbformat": 4,
 "nbformat_minor": 2
}
