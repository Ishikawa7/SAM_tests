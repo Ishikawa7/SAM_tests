{
 "cells": [
  {
   "cell_type": "code",
   "execution_count": 1,
   "metadata": {},
   "outputs": [],
   "source": [
    "import pandas as pd\n",
    "import numpy as np\n",
    "import plotly.express as px"
   ]
  },
  {
   "cell_type": "code",
   "execution_count": 5,
   "metadata": {},
   "outputs": [
    {
     "data": {
      "text/html": [
       "<div>\n",
       "<style scoped>\n",
       "    .dataframe tbody tr th:only-of-type {\n",
       "        vertical-align: middle;\n",
       "    }\n",
       "\n",
       "    .dataframe tbody tr th {\n",
       "        vertical-align: top;\n",
       "    }\n",
       "\n",
       "    .dataframe thead th {\n",
       "        text-align: right;\n",
       "    }\n",
       "</style>\n",
       "<table border=\"1\" class=\"dataframe\">\n",
       "  <thead>\n",
       "    <tr style=\"text-align: right;\">\n",
       "      <th></th>\n",
       "      <th>dice_score_ig</th>\n",
       "      <th>iou_score_ig</th>\n",
       "      <th>dice_score_saliency</th>\n",
       "      <th>iou_score_saliency</th>\n",
       "      <th>dice_score_deep_lift</th>\n",
       "      <th>iou_score_deep_lift</th>\n",
       "      <th>label_ground_truth</th>\n",
       "      <th>label_predicted</th>\n",
       "    </tr>\n",
       "  </thead>\n",
       "  <tbody>\n",
       "    <tr>\n",
       "      <th>ISIC_0012266</th>\n",
       "      <td>0.722</td>\n",
       "      <td>0.565</td>\n",
       "      <td>0.645</td>\n",
       "      <td>0.476</td>\n",
       "      <td>0.650</td>\n",
       "      <td>0.482</td>\n",
       "      <td>1</td>\n",
       "      <td>1</td>\n",
       "    </tr>\n",
       "    <tr>\n",
       "      <th>ISIC_0014186</th>\n",
       "      <td>0.652</td>\n",
       "      <td>0.484</td>\n",
       "      <td>0.625</td>\n",
       "      <td>0.455</td>\n",
       "      <td>0.653</td>\n",
       "      <td>0.485</td>\n",
       "      <td>0</td>\n",
       "      <td>1</td>\n",
       "    </tr>\n",
       "    <tr>\n",
       "      <th>ISIC_0012510</th>\n",
       "      <td>0.429</td>\n",
       "      <td>0.273</td>\n",
       "      <td>0.525</td>\n",
       "      <td>0.355</td>\n",
       "      <td>0.439</td>\n",
       "      <td>0.282</td>\n",
       "      <td>1</td>\n",
       "      <td>1</td>\n",
       "    </tr>\n",
       "    <tr>\n",
       "      <th>ISIC_0012272</th>\n",
       "      <td>0.892</td>\n",
       "      <td>0.804</td>\n",
       "      <td>0.924</td>\n",
       "      <td>0.859</td>\n",
       "      <td>0.902</td>\n",
       "      <td>0.821</td>\n",
       "      <td>1</td>\n",
       "      <td>1</td>\n",
       "    </tr>\n",
       "    <tr>\n",
       "      <th>ISIC_0014336</th>\n",
       "      <td>0.511</td>\n",
       "      <td>0.343</td>\n",
       "      <td>0.552</td>\n",
       "      <td>0.381</td>\n",
       "      <td>0.532</td>\n",
       "      <td>0.362</td>\n",
       "      <td>0</td>\n",
       "      <td>1</td>\n",
       "    </tr>\n",
       "    <tr>\n",
       "      <th>...</th>\n",
       "      <td>...</td>\n",
       "      <td>...</td>\n",
       "      <td>...</td>\n",
       "      <td>...</td>\n",
       "      <td>...</td>\n",
       "      <td>...</td>\n",
       "      <td>...</td>\n",
       "      <td>...</td>\n",
       "    </tr>\n",
       "    <tr>\n",
       "      <th>ISIC_0013617</th>\n",
       "      <td>0.902</td>\n",
       "      <td>0.822</td>\n",
       "      <td>0.904</td>\n",
       "      <td>0.824</td>\n",
       "      <td>0.916</td>\n",
       "      <td>0.846</td>\n",
       "      <td>0</td>\n",
       "      <td>0</td>\n",
       "    </tr>\n",
       "    <tr>\n",
       "      <th>ISIC_0012395</th>\n",
       "      <td>0.327</td>\n",
       "      <td>0.196</td>\n",
       "      <td>0.341</td>\n",
       "      <td>0.206</td>\n",
       "      <td>0.330</td>\n",
       "      <td>0.198</td>\n",
       "      <td>0</td>\n",
       "      <td>1</td>\n",
       "    </tr>\n",
       "    <tr>\n",
       "      <th>ISIC_0014800</th>\n",
       "      <td>0.976</td>\n",
       "      <td>0.953</td>\n",
       "      <td>0.985</td>\n",
       "      <td>0.970</td>\n",
       "      <td>0.977</td>\n",
       "      <td>0.955</td>\n",
       "      <td>0</td>\n",
       "      <td>0</td>\n",
       "    </tr>\n",
       "    <tr>\n",
       "      <th>ISIC_0015142</th>\n",
       "      <td>0.803</td>\n",
       "      <td>0.671</td>\n",
       "      <td>0.775</td>\n",
       "      <td>0.632</td>\n",
       "      <td>0.779</td>\n",
       "      <td>0.638</td>\n",
       "      <td>0</td>\n",
       "      <td>0</td>\n",
       "    </tr>\n",
       "    <tr>\n",
       "      <th>ISIC_0013814</th>\n",
       "      <td>0.696</td>\n",
       "      <td>0.534</td>\n",
       "      <td>0.684</td>\n",
       "      <td>0.519</td>\n",
       "      <td>0.694</td>\n",
       "      <td>0.532</td>\n",
       "      <td>0</td>\n",
       "      <td>1</td>\n",
       "    </tr>\n",
       "  </tbody>\n",
       "</table>\n",
       "<p>207 rows × 8 columns</p>\n",
       "</div>"
      ],
      "text/plain": [
       "              dice_score_ig  iou_score_ig  dice_score_saliency  \\\n",
       "ISIC_0012266          0.722         0.565                0.645   \n",
       "ISIC_0014186          0.652         0.484                0.625   \n",
       "ISIC_0012510          0.429         0.273                0.525   \n",
       "ISIC_0012272          0.892         0.804                0.924   \n",
       "ISIC_0014336          0.511         0.343                0.552   \n",
       "...                     ...           ...                  ...   \n",
       "ISIC_0013617          0.902         0.822                0.904   \n",
       "ISIC_0012395          0.327         0.196                0.341   \n",
       "ISIC_0014800          0.976         0.953                0.985   \n",
       "ISIC_0015142          0.803         0.671                0.775   \n",
       "ISIC_0013814          0.696         0.534                0.684   \n",
       "\n",
       "              iou_score_saliency  dice_score_deep_lift  iou_score_deep_lift  \\\n",
       "ISIC_0012266               0.476                 0.650                0.482   \n",
       "ISIC_0014186               0.455                 0.653                0.485   \n",
       "ISIC_0012510               0.355                 0.439                0.282   \n",
       "ISIC_0012272               0.859                 0.902                0.821   \n",
       "ISIC_0014336               0.381                 0.532                0.362   \n",
       "...                          ...                   ...                  ...   \n",
       "ISIC_0013617               0.824                 0.916                0.846   \n",
       "ISIC_0012395               0.206                 0.330                0.198   \n",
       "ISIC_0014800               0.970                 0.977                0.955   \n",
       "ISIC_0015142               0.632                 0.779                0.638   \n",
       "ISIC_0013814               0.519                 0.694                0.532   \n",
       "\n",
       "              label_ground_truth  label_predicted  \n",
       "ISIC_0012266                   1                1  \n",
       "ISIC_0014186                   0                1  \n",
       "ISIC_0012510                   1                1  \n",
       "ISIC_0012272                   1                1  \n",
       "ISIC_0014336                   0                1  \n",
       "...                          ...              ...  \n",
       "ISIC_0013617                   0                0  \n",
       "ISIC_0012395                   0                1  \n",
       "ISIC_0014800                   0                0  \n",
       "ISIC_0015142                   0                0  \n",
       "ISIC_0013814                   0                1  \n",
       "\n",
       "[207 rows x 8 columns]"
      ]
     },
     "execution_count": 5,
     "metadata": {},
     "output_type": "execute_result"
    }
   ],
   "source": [
    "df_res = pd.read_csv('df_results_skincancer_new_interpretability_with_optimized_boxes_binary_classes.csv', index_col=0)\n",
    "df_res = df_res.round(3)\n",
    "df_res"
   ]
  },
  {
   "cell_type": "code",
   "execution_count": 6,
   "metadata": {},
   "outputs": [
    {
     "data": {
      "text/plain": [
       "Index(['dice_score_ig', 'iou_score_ig', 'dice_score_saliency',\n",
       "       'iou_score_saliency', 'dice_score_deep_lift', 'iou_score_deep_lift',\n",
       "       'label_ground_truth', 'label_predicted'],\n",
       "      dtype='object')"
      ]
     },
     "execution_count": 6,
     "metadata": {},
     "output_type": "execute_result"
    }
   ],
   "source": [
    "df_res.columns"
   ]
  },
  {
   "cell_type": "code",
   "execution_count": 9,
   "metadata": {},
   "outputs": [
    {
     "data": {
      "text/html": [
       "<div>\n",
       "<style scoped>\n",
       "    .dataframe tbody tr th:only-of-type {\n",
       "        vertical-align: middle;\n",
       "    }\n",
       "\n",
       "    .dataframe tbody tr th {\n",
       "        vertical-align: top;\n",
       "    }\n",
       "\n",
       "    .dataframe thead th {\n",
       "        text-align: right;\n",
       "    }\n",
       "</style>\n",
       "<table border=\"1\" class=\"dataframe\">\n",
       "  <thead>\n",
       "    <tr style=\"text-align: right;\">\n",
       "      <th></th>\n",
       "      <th>dice_score_ig</th>\n",
       "      <th>dice_score_saliency</th>\n",
       "      <th>dice_score_deep_lift</th>\n",
       "    </tr>\n",
       "  </thead>\n",
       "  <tbody>\n",
       "    <tr>\n",
       "      <th>count</th>\n",
       "      <td>207.000000</td>\n",
       "      <td>207.000000</td>\n",
       "      <td>207.000000</td>\n",
       "    </tr>\n",
       "    <tr>\n",
       "      <th>mean</th>\n",
       "      <td>0.519251</td>\n",
       "      <td>0.529517</td>\n",
       "      <td>0.534106</td>\n",
       "    </tr>\n",
       "    <tr>\n",
       "      <th>std</th>\n",
       "      <td>0.245707</td>\n",
       "      <td>0.239910</td>\n",
       "      <td>0.240018</td>\n",
       "    </tr>\n",
       "    <tr>\n",
       "      <th>min</th>\n",
       "      <td>0.000000</td>\n",
       "      <td>0.000000</td>\n",
       "      <td>0.000000</td>\n",
       "    </tr>\n",
       "    <tr>\n",
       "      <th>25%</th>\n",
       "      <td>0.345500</td>\n",
       "      <td>0.365000</td>\n",
       "      <td>0.354500</td>\n",
       "    </tr>\n",
       "    <tr>\n",
       "      <th>50%</th>\n",
       "      <td>0.561000</td>\n",
       "      <td>0.570000</td>\n",
       "      <td>0.574000</td>\n",
       "    </tr>\n",
       "    <tr>\n",
       "      <th>75%</th>\n",
       "      <td>0.714000</td>\n",
       "      <td>0.717000</td>\n",
       "      <td>0.719000</td>\n",
       "    </tr>\n",
       "    <tr>\n",
       "      <th>max</th>\n",
       "      <td>0.976000</td>\n",
       "      <td>0.985000</td>\n",
       "      <td>0.977000</td>\n",
       "    </tr>\n",
       "  </tbody>\n",
       "</table>\n",
       "</div>"
      ],
      "text/plain": [
       "       dice_score_ig  dice_score_saliency  dice_score_deep_lift\n",
       "count     207.000000           207.000000            207.000000\n",
       "mean        0.519251             0.529517              0.534106\n",
       "std         0.245707             0.239910              0.240018\n",
       "min         0.000000             0.000000              0.000000\n",
       "25%         0.345500             0.365000              0.354500\n",
       "50%         0.561000             0.570000              0.574000\n",
       "75%         0.714000             0.717000              0.719000\n",
       "max         0.976000             0.985000              0.977000"
      ]
     },
     "execution_count": 9,
     "metadata": {},
     "output_type": "execute_result"
    }
   ],
   "source": [
    "df_res[['dice_score_ig', 'dice_score_saliency', 'dice_score_deep_lift']].describe()"
   ]
  },
  {
   "cell_type": "code",
   "execution_count": 10,
   "metadata": {},
   "outputs": [
    {
     "data": {
      "text/html": [
       "<div>\n",
       "<style scoped>\n",
       "    .dataframe tbody tr th:only-of-type {\n",
       "        vertical-align: middle;\n",
       "    }\n",
       "\n",
       "    .dataframe tbody tr th {\n",
       "        vertical-align: top;\n",
       "    }\n",
       "\n",
       "    .dataframe thead th {\n",
       "        text-align: right;\n",
       "    }\n",
       "</style>\n",
       "<table border=\"1\" class=\"dataframe\">\n",
       "  <thead>\n",
       "    <tr style=\"text-align: right;\">\n",
       "      <th></th>\n",
       "      <th>iou_score_ig</th>\n",
       "      <th>iou_score_saliency</th>\n",
       "      <th>iou_score_deep_lift</th>\n",
       "    </tr>\n",
       "  </thead>\n",
       "  <tbody>\n",
       "    <tr>\n",
       "      <th>count</th>\n",
       "      <td>207.000000</td>\n",
       "      <td>207.000000</td>\n",
       "      <td>207.000000</td>\n",
       "    </tr>\n",
       "    <tr>\n",
       "      <th>mean</th>\n",
       "      <td>0.387585</td>\n",
       "      <td>0.395594</td>\n",
       "      <td>0.400507</td>\n",
       "    </tr>\n",
       "    <tr>\n",
       "      <th>std</th>\n",
       "      <td>0.226393</td>\n",
       "      <td>0.221978</td>\n",
       "      <td>0.225231</td>\n",
       "    </tr>\n",
       "    <tr>\n",
       "      <th>min</th>\n",
       "      <td>0.000000</td>\n",
       "      <td>0.000000</td>\n",
       "      <td>0.000000</td>\n",
       "    </tr>\n",
       "    <tr>\n",
       "      <th>25%</th>\n",
       "      <td>0.209000</td>\n",
       "      <td>0.223500</td>\n",
       "      <td>0.215000</td>\n",
       "    </tr>\n",
       "    <tr>\n",
       "      <th>50%</th>\n",
       "      <td>0.390000</td>\n",
       "      <td>0.398000</td>\n",
       "      <td>0.403000</td>\n",
       "    </tr>\n",
       "    <tr>\n",
       "      <th>75%</th>\n",
       "      <td>0.555000</td>\n",
       "      <td>0.559000</td>\n",
       "      <td>0.561500</td>\n",
       "    </tr>\n",
       "    <tr>\n",
       "      <th>max</th>\n",
       "      <td>0.953000</td>\n",
       "      <td>0.970000</td>\n",
       "      <td>0.955000</td>\n",
       "    </tr>\n",
       "  </tbody>\n",
       "</table>\n",
       "</div>"
      ],
      "text/plain": [
       "       iou_score_ig  iou_score_saliency  iou_score_deep_lift\n",
       "count    207.000000          207.000000           207.000000\n",
       "mean       0.387585            0.395594             0.400507\n",
       "std        0.226393            0.221978             0.225231\n",
       "min        0.000000            0.000000             0.000000\n",
       "25%        0.209000            0.223500             0.215000\n",
       "50%        0.390000            0.398000             0.403000\n",
       "75%        0.555000            0.559000             0.561500\n",
       "max        0.953000            0.970000             0.955000"
      ]
     },
     "execution_count": 10,
     "metadata": {},
     "output_type": "execute_result"
    }
   ],
   "source": [
    "df_res[['iou_score_ig', 'iou_score_saliency','iou_score_deep_lift']].describe()"
   ]
  },
  {
   "cell_type": "code",
   "execution_count": 11,
   "metadata": {},
   "outputs": [
    {
     "data": {
      "text/plain": [
       "Index(['dice_score_ig', 'iou_score_ig', 'dice_score_saliency',\n",
       "       'iou_score_saliency', 'dice_score_deep_lift', 'iou_score_deep_lift',\n",
       "       'label_ground_truth', 'label_predicted'],\n",
       "      dtype='object')"
      ]
     },
     "execution_count": 11,
     "metadata": {},
     "output_type": "execute_result"
    }
   ],
   "source": [
    "df_res.columns"
   ]
  },
  {
   "cell_type": "code",
   "execution_count": 12,
   "metadata": {},
   "outputs": [
    {
     "data": {
      "application/vnd.plotly.v1+json": {
       "config": {
        "plotlyServerURL": "https://plot.ly"
       },
       "data": [
        {
         "alignmentgroup": "True",
         "box": {
          "visible": true
         },
         "hovertemplate": "variable=%{x}<br>value=%{y}<extra></extra>",
         "legendgroup": "",
         "marker": {
          "color": "darkblue"
         },
         "name": "",
         "offsetgroup": "",
         "orientation": "v",
         "points": "all",
         "scalegroup": "True",
         "showlegend": false,
         "type": "violin",
         "x": [
          "dice_score_ig",
          "dice_score_ig",
          "dice_score_ig",
          "dice_score_ig",
          "dice_score_ig",
          "dice_score_ig",
          "dice_score_ig",
          "dice_score_ig",
          "dice_score_ig",
          "dice_score_ig",
          "dice_score_ig",
          "dice_score_ig",
          "dice_score_ig",
          "dice_score_ig",
          "dice_score_ig",
          "dice_score_ig",
          "dice_score_ig",
          "dice_score_ig",
          "dice_score_ig",
          "dice_score_ig",
          "dice_score_ig",
          "dice_score_ig",
          "dice_score_ig",
          "dice_score_ig",
          "dice_score_ig",
          "dice_score_ig",
          "dice_score_ig",
          "dice_score_ig",
          "dice_score_ig",
          "dice_score_ig",
          "dice_score_ig",
          "dice_score_ig",
          "dice_score_ig",
          "dice_score_ig",
          "dice_score_ig",
          "dice_score_ig",
          "dice_score_ig",
          "dice_score_ig",
          "dice_score_ig",
          "dice_score_ig",
          "dice_score_ig",
          "dice_score_ig",
          "dice_score_ig",
          "dice_score_ig",
          "dice_score_ig",
          "dice_score_ig",
          "dice_score_ig",
          "dice_score_ig",
          "dice_score_ig",
          "dice_score_ig",
          "dice_score_ig",
          "dice_score_ig",
          "dice_score_ig",
          "dice_score_ig",
          "dice_score_ig",
          "dice_score_ig",
          "dice_score_ig",
          "dice_score_ig",
          "dice_score_ig",
          "dice_score_ig",
          "dice_score_ig",
          "dice_score_ig",
          "dice_score_ig",
          "dice_score_ig",
          "dice_score_ig",
          "dice_score_ig",
          "dice_score_ig",
          "dice_score_ig",
          "dice_score_ig",
          "dice_score_ig",
          "dice_score_ig",
          "dice_score_ig",
          "dice_score_ig",
          "dice_score_ig",
          "dice_score_ig",
          "dice_score_ig",
          "dice_score_ig",
          "dice_score_ig",
          "dice_score_ig",
          "dice_score_ig",
          "dice_score_ig",
          "dice_score_ig",
          "dice_score_ig",
          "dice_score_ig",
          "dice_score_ig",
          "dice_score_ig",
          "dice_score_ig",
          "dice_score_ig",
          "dice_score_ig",
          "dice_score_ig",
          "dice_score_ig",
          "dice_score_ig",
          "dice_score_ig",
          "dice_score_ig",
          "dice_score_ig",
          "dice_score_ig",
          "dice_score_ig",
          "dice_score_ig",
          "dice_score_ig",
          "dice_score_ig",
          "dice_score_ig",
          "dice_score_ig",
          "dice_score_ig",
          "dice_score_ig",
          "dice_score_ig",
          "dice_score_ig",
          "dice_score_ig",
          "dice_score_ig",
          "dice_score_ig",
          "dice_score_ig",
          "dice_score_ig",
          "dice_score_ig",
          "dice_score_ig",
          "dice_score_ig",
          "dice_score_ig",
          "dice_score_ig",
          "dice_score_ig",
          "dice_score_ig",
          "dice_score_ig",
          "dice_score_ig",
          "dice_score_ig",
          "dice_score_ig",
          "dice_score_ig",
          "dice_score_ig",
          "dice_score_ig",
          "dice_score_ig",
          "dice_score_ig",
          "dice_score_ig",
          "dice_score_ig",
          "dice_score_ig",
          "dice_score_ig",
          "dice_score_ig",
          "dice_score_ig",
          "dice_score_ig",
          "dice_score_ig",
          "dice_score_ig",
          "dice_score_ig",
          "dice_score_ig",
          "dice_score_ig",
          "dice_score_ig",
          "dice_score_ig",
          "dice_score_ig",
          "dice_score_ig",
          "dice_score_ig",
          "dice_score_ig",
          "dice_score_ig",
          "dice_score_ig",
          "dice_score_ig",
          "dice_score_ig",
          "dice_score_ig",
          "dice_score_ig",
          "dice_score_ig",
          "dice_score_ig",
          "dice_score_ig",
          "dice_score_ig",
          "dice_score_ig",
          "dice_score_ig",
          "dice_score_ig",
          "dice_score_ig",
          "dice_score_ig",
          "dice_score_ig",
          "dice_score_ig",
          "dice_score_ig",
          "dice_score_ig",
          "dice_score_ig",
          "dice_score_ig",
          "dice_score_ig",
          "dice_score_ig",
          "dice_score_ig",
          "dice_score_ig",
          "dice_score_ig",
          "dice_score_ig",
          "dice_score_ig",
          "dice_score_ig",
          "dice_score_ig",
          "dice_score_ig",
          "dice_score_ig",
          "dice_score_ig",
          "dice_score_ig",
          "dice_score_ig",
          "dice_score_ig",
          "dice_score_ig",
          "dice_score_ig",
          "dice_score_ig",
          "dice_score_ig",
          "dice_score_ig",
          "dice_score_ig",
          "dice_score_ig",
          "dice_score_ig",
          "dice_score_ig",
          "dice_score_ig",
          "dice_score_ig",
          "dice_score_ig",
          "dice_score_ig",
          "dice_score_ig",
          "dice_score_ig",
          "dice_score_ig",
          "dice_score_ig",
          "dice_score_ig",
          "dice_score_ig",
          "dice_score_ig",
          "dice_score_ig",
          "dice_score_ig",
          "dice_score_ig",
          "dice_score_ig",
          "dice_score_ig",
          "dice_score_ig",
          "dice_score_saliency",
          "dice_score_saliency",
          "dice_score_saliency",
          "dice_score_saliency",
          "dice_score_saliency",
          "dice_score_saliency",
          "dice_score_saliency",
          "dice_score_saliency",
          "dice_score_saliency",
          "dice_score_saliency",
          "dice_score_saliency",
          "dice_score_saliency",
          "dice_score_saliency",
          "dice_score_saliency",
          "dice_score_saliency",
          "dice_score_saliency",
          "dice_score_saliency",
          "dice_score_saliency",
          "dice_score_saliency",
          "dice_score_saliency",
          "dice_score_saliency",
          "dice_score_saliency",
          "dice_score_saliency",
          "dice_score_saliency",
          "dice_score_saliency",
          "dice_score_saliency",
          "dice_score_saliency",
          "dice_score_saliency",
          "dice_score_saliency",
          "dice_score_saliency",
          "dice_score_saliency",
          "dice_score_saliency",
          "dice_score_saliency",
          "dice_score_saliency",
          "dice_score_saliency",
          "dice_score_saliency",
          "dice_score_saliency",
          "dice_score_saliency",
          "dice_score_saliency",
          "dice_score_saliency",
          "dice_score_saliency",
          "dice_score_saliency",
          "dice_score_saliency",
          "dice_score_saliency",
          "dice_score_saliency",
          "dice_score_saliency",
          "dice_score_saliency",
          "dice_score_saliency",
          "dice_score_saliency",
          "dice_score_saliency",
          "dice_score_saliency",
          "dice_score_saliency",
          "dice_score_saliency",
          "dice_score_saliency",
          "dice_score_saliency",
          "dice_score_saliency",
          "dice_score_saliency",
          "dice_score_saliency",
          "dice_score_saliency",
          "dice_score_saliency",
          "dice_score_saliency",
          "dice_score_saliency",
          "dice_score_saliency",
          "dice_score_saliency",
          "dice_score_saliency",
          "dice_score_saliency",
          "dice_score_saliency",
          "dice_score_saliency",
          "dice_score_saliency",
          "dice_score_saliency",
          "dice_score_saliency",
          "dice_score_saliency",
          "dice_score_saliency",
          "dice_score_saliency",
          "dice_score_saliency",
          "dice_score_saliency",
          "dice_score_saliency",
          "dice_score_saliency",
          "dice_score_saliency",
          "dice_score_saliency",
          "dice_score_saliency",
          "dice_score_saliency",
          "dice_score_saliency",
          "dice_score_saliency",
          "dice_score_saliency",
          "dice_score_saliency",
          "dice_score_saliency",
          "dice_score_saliency",
          "dice_score_saliency",
          "dice_score_saliency",
          "dice_score_saliency",
          "dice_score_saliency",
          "dice_score_saliency",
          "dice_score_saliency",
          "dice_score_saliency",
          "dice_score_saliency",
          "dice_score_saliency",
          "dice_score_saliency",
          "dice_score_saliency",
          "dice_score_saliency",
          "dice_score_saliency",
          "dice_score_saliency",
          "dice_score_saliency",
          "dice_score_saliency",
          "dice_score_saliency",
          "dice_score_saliency",
          "dice_score_saliency",
          "dice_score_saliency",
          "dice_score_saliency",
          "dice_score_saliency",
          "dice_score_saliency",
          "dice_score_saliency",
          "dice_score_saliency",
          "dice_score_saliency",
          "dice_score_saliency",
          "dice_score_saliency",
          "dice_score_saliency",
          "dice_score_saliency",
          "dice_score_saliency",
          "dice_score_saliency",
          "dice_score_saliency",
          "dice_score_saliency",
          "dice_score_saliency",
          "dice_score_saliency",
          "dice_score_saliency",
          "dice_score_saliency",
          "dice_score_saliency",
          "dice_score_saliency",
          "dice_score_saliency",
          "dice_score_saliency",
          "dice_score_saliency",
          "dice_score_saliency",
          "dice_score_saliency",
          "dice_score_saliency",
          "dice_score_saliency",
          "dice_score_saliency",
          "dice_score_saliency",
          "dice_score_saliency",
          "dice_score_saliency",
          "dice_score_saliency",
          "dice_score_saliency",
          "dice_score_saliency",
          "dice_score_saliency",
          "dice_score_saliency",
          "dice_score_saliency",
          "dice_score_saliency",
          "dice_score_saliency",
          "dice_score_saliency",
          "dice_score_saliency",
          "dice_score_saliency",
          "dice_score_saliency",
          "dice_score_saliency",
          "dice_score_saliency",
          "dice_score_saliency",
          "dice_score_saliency",
          "dice_score_saliency",
          "dice_score_saliency",
          "dice_score_saliency",
          "dice_score_saliency",
          "dice_score_saliency",
          "dice_score_saliency",
          "dice_score_saliency",
          "dice_score_saliency",
          "dice_score_saliency",
          "dice_score_saliency",
          "dice_score_saliency",
          "dice_score_saliency",
          "dice_score_saliency",
          "dice_score_saliency",
          "dice_score_saliency",
          "dice_score_saliency",
          "dice_score_saliency",
          "dice_score_saliency",
          "dice_score_saliency",
          "dice_score_saliency",
          "dice_score_saliency",
          "dice_score_saliency",
          "dice_score_saliency",
          "dice_score_saliency",
          "dice_score_saliency",
          "dice_score_saliency",
          "dice_score_saliency",
          "dice_score_saliency",
          "dice_score_saliency",
          "dice_score_saliency",
          "dice_score_saliency",
          "dice_score_saliency",
          "dice_score_saliency",
          "dice_score_saliency",
          "dice_score_saliency",
          "dice_score_saliency",
          "dice_score_saliency",
          "dice_score_saliency",
          "dice_score_saliency",
          "dice_score_saliency",
          "dice_score_saliency",
          "dice_score_saliency",
          "dice_score_saliency",
          "dice_score_saliency",
          "dice_score_saliency",
          "dice_score_saliency",
          "dice_score_saliency",
          "dice_score_saliency",
          "dice_score_saliency",
          "dice_score_saliency",
          "dice_score_saliency",
          "dice_score_saliency",
          "dice_score_deep_lift",
          "dice_score_deep_lift",
          "dice_score_deep_lift",
          "dice_score_deep_lift",
          "dice_score_deep_lift",
          "dice_score_deep_lift",
          "dice_score_deep_lift",
          "dice_score_deep_lift",
          "dice_score_deep_lift",
          "dice_score_deep_lift",
          "dice_score_deep_lift",
          "dice_score_deep_lift",
          "dice_score_deep_lift",
          "dice_score_deep_lift",
          "dice_score_deep_lift",
          "dice_score_deep_lift",
          "dice_score_deep_lift",
          "dice_score_deep_lift",
          "dice_score_deep_lift",
          "dice_score_deep_lift",
          "dice_score_deep_lift",
          "dice_score_deep_lift",
          "dice_score_deep_lift",
          "dice_score_deep_lift",
          "dice_score_deep_lift",
          "dice_score_deep_lift",
          "dice_score_deep_lift",
          "dice_score_deep_lift",
          "dice_score_deep_lift",
          "dice_score_deep_lift",
          "dice_score_deep_lift",
          "dice_score_deep_lift",
          "dice_score_deep_lift",
          "dice_score_deep_lift",
          "dice_score_deep_lift",
          "dice_score_deep_lift",
          "dice_score_deep_lift",
          "dice_score_deep_lift",
          "dice_score_deep_lift",
          "dice_score_deep_lift",
          "dice_score_deep_lift",
          "dice_score_deep_lift",
          "dice_score_deep_lift",
          "dice_score_deep_lift",
          "dice_score_deep_lift",
          "dice_score_deep_lift",
          "dice_score_deep_lift",
          "dice_score_deep_lift",
          "dice_score_deep_lift",
          "dice_score_deep_lift",
          "dice_score_deep_lift",
          "dice_score_deep_lift",
          "dice_score_deep_lift",
          "dice_score_deep_lift",
          "dice_score_deep_lift",
          "dice_score_deep_lift",
          "dice_score_deep_lift",
          "dice_score_deep_lift",
          "dice_score_deep_lift",
          "dice_score_deep_lift",
          "dice_score_deep_lift",
          "dice_score_deep_lift",
          "dice_score_deep_lift",
          "dice_score_deep_lift",
          "dice_score_deep_lift",
          "dice_score_deep_lift",
          "dice_score_deep_lift",
          "dice_score_deep_lift",
          "dice_score_deep_lift",
          "dice_score_deep_lift",
          "dice_score_deep_lift",
          "dice_score_deep_lift",
          "dice_score_deep_lift",
          "dice_score_deep_lift",
          "dice_score_deep_lift",
          "dice_score_deep_lift",
          "dice_score_deep_lift",
          "dice_score_deep_lift",
          "dice_score_deep_lift",
          "dice_score_deep_lift",
          "dice_score_deep_lift",
          "dice_score_deep_lift",
          "dice_score_deep_lift",
          "dice_score_deep_lift",
          "dice_score_deep_lift",
          "dice_score_deep_lift",
          "dice_score_deep_lift",
          "dice_score_deep_lift",
          "dice_score_deep_lift",
          "dice_score_deep_lift",
          "dice_score_deep_lift",
          "dice_score_deep_lift",
          "dice_score_deep_lift",
          "dice_score_deep_lift",
          "dice_score_deep_lift",
          "dice_score_deep_lift",
          "dice_score_deep_lift",
          "dice_score_deep_lift",
          "dice_score_deep_lift",
          "dice_score_deep_lift",
          "dice_score_deep_lift",
          "dice_score_deep_lift",
          "dice_score_deep_lift",
          "dice_score_deep_lift",
          "dice_score_deep_lift",
          "dice_score_deep_lift",
          "dice_score_deep_lift",
          "dice_score_deep_lift",
          "dice_score_deep_lift",
          "dice_score_deep_lift",
          "dice_score_deep_lift",
          "dice_score_deep_lift",
          "dice_score_deep_lift",
          "dice_score_deep_lift",
          "dice_score_deep_lift",
          "dice_score_deep_lift",
          "dice_score_deep_lift",
          "dice_score_deep_lift",
          "dice_score_deep_lift",
          "dice_score_deep_lift",
          "dice_score_deep_lift",
          "dice_score_deep_lift",
          "dice_score_deep_lift",
          "dice_score_deep_lift",
          "dice_score_deep_lift",
          "dice_score_deep_lift",
          "dice_score_deep_lift",
          "dice_score_deep_lift",
          "dice_score_deep_lift",
          "dice_score_deep_lift",
          "dice_score_deep_lift",
          "dice_score_deep_lift",
          "dice_score_deep_lift",
          "dice_score_deep_lift",
          "dice_score_deep_lift",
          "dice_score_deep_lift",
          "dice_score_deep_lift",
          "dice_score_deep_lift",
          "dice_score_deep_lift",
          "dice_score_deep_lift",
          "dice_score_deep_lift",
          "dice_score_deep_lift",
          "dice_score_deep_lift",
          "dice_score_deep_lift",
          "dice_score_deep_lift",
          "dice_score_deep_lift",
          "dice_score_deep_lift",
          "dice_score_deep_lift",
          "dice_score_deep_lift",
          "dice_score_deep_lift",
          "dice_score_deep_lift",
          "dice_score_deep_lift",
          "dice_score_deep_lift",
          "dice_score_deep_lift",
          "dice_score_deep_lift",
          "dice_score_deep_lift",
          "dice_score_deep_lift",
          "dice_score_deep_lift",
          "dice_score_deep_lift",
          "dice_score_deep_lift",
          "dice_score_deep_lift",
          "dice_score_deep_lift",
          "dice_score_deep_lift",
          "dice_score_deep_lift",
          "dice_score_deep_lift",
          "dice_score_deep_lift",
          "dice_score_deep_lift",
          "dice_score_deep_lift",
          "dice_score_deep_lift",
          "dice_score_deep_lift",
          "dice_score_deep_lift",
          "dice_score_deep_lift",
          "dice_score_deep_lift",
          "dice_score_deep_lift",
          "dice_score_deep_lift",
          "dice_score_deep_lift",
          "dice_score_deep_lift",
          "dice_score_deep_lift",
          "dice_score_deep_lift",
          "dice_score_deep_lift",
          "dice_score_deep_lift",
          "dice_score_deep_lift",
          "dice_score_deep_lift",
          "dice_score_deep_lift",
          "dice_score_deep_lift",
          "dice_score_deep_lift",
          "dice_score_deep_lift",
          "dice_score_deep_lift",
          "dice_score_deep_lift",
          "dice_score_deep_lift",
          "dice_score_deep_lift",
          "dice_score_deep_lift",
          "dice_score_deep_lift",
          "dice_score_deep_lift",
          "dice_score_deep_lift",
          "dice_score_deep_lift",
          "dice_score_deep_lift",
          "dice_score_deep_lift",
          "dice_score_deep_lift",
          "dice_score_deep_lift",
          "dice_score_deep_lift",
          "dice_score_deep_lift",
          "dice_score_deep_lift",
          "dice_score_deep_lift",
          "dice_score_deep_lift",
          "dice_score_deep_lift",
          "dice_score_deep_lift"
         ],
         "x0": " ",
         "xaxis": "x",
         "y": [
          0.722,
          0.652,
          0.429,
          0.892,
          0.511,
          0.398,
          0.701,
          0.561,
          0.778,
          0.472,
          0.489,
          0.318,
          0.554,
          0.745,
          0.774,
          0.658,
          0.59,
          0.759,
          0.456,
          0.444,
          0.583,
          0.049,
          0.823,
          0.829,
          0.475,
          0.419,
          0.498,
          0.09,
          0.254,
          0.641,
          0.696,
          0.797,
          0.098,
          0.812,
          0.449,
          0.379,
          0.048,
          0.384,
          0.675,
          0.717,
          0.347,
          0.809,
          0.346,
          0.755,
          0.433,
          0.522,
          0.763,
          0.751,
          0.607,
          0.333,
          0.801,
          0.726,
          0.859,
          0.325,
          0.363,
          0.112,
          0.249,
          0.68,
          0.733,
          0.015,
          0.658,
          0.201,
          0.62,
          0.255,
          0.176,
          0.533,
          0.039,
          0.372,
          0.775,
          0.877,
          0.039,
          0.627,
          0.338,
          0.685,
          0.837,
          0.062,
          0.78,
          0.158,
          0.899,
          0,
          0.855,
          0.463,
          0.024,
          0.655,
          0.567,
          0.617,
          0.262,
          0.359,
          0.467,
          0.286,
          0.274,
          0.452,
          0.727,
          0.883,
          0.46,
          0.197,
          0.116,
          0.354,
          0.619,
          0.571,
          0.675,
          0.356,
          0.682,
          0.419,
          0.027,
          0.816,
          0.637,
          0.168,
          0.421,
          0.505,
          0.034,
          0.589,
          0.7,
          0.016,
          0.912,
          0.569,
          0.367,
          0.261,
          0.345,
          0.572,
          0.409,
          0.414,
          0.778,
          0.644,
          0.528,
          0.174,
          0.493,
          0.575,
          0.277,
          0.275,
          0.333,
          0.687,
          0.625,
          0.726,
          0.246,
          0.343,
          0.531,
          0.927,
          0.408,
          0.573,
          0.732,
          0.71,
          0.001,
          0.518,
          0.544,
          0.546,
          0.751,
          0.805,
          0.639,
          0.71,
          0.607,
          0.533,
          0.736,
          0.418,
          0.703,
          0.16,
          0.525,
          0.682,
          0.227,
          0.29,
          0.393,
          0.769,
          0.689,
          0.598,
          0.807,
          0.252,
          0.828,
          0.844,
          0.687,
          0.642,
          0.487,
          0.163,
          0.872,
          0.47,
          0.045,
          0.564,
          0.614,
          0.295,
          0.463,
          0.868,
          0.596,
          0.377,
          0.839,
          0.933,
          0.726,
          0.711,
          0.105,
          0.846,
          0.28,
          0.843,
          0.653,
          0.36,
          0.262,
          0.6,
          0.019,
          0.849,
          0.736,
          0.58,
          0.657,
          0.294,
          0.425,
          0.579,
          0.902,
          0.327,
          0.976,
          0.803,
          0.696,
          0.645,
          0.625,
          0.525,
          0.924,
          0.552,
          0.661,
          0.718,
          0.599,
          0.777,
          0.49,
          0.452,
          0.221,
          0.552,
          0.745,
          0.779,
          0.656,
          0.588,
          0.725,
          0.453,
          0.678,
          0.564,
          0.084,
          0.812,
          0.804,
          0.526,
          0.379,
          0.554,
          0.098,
          0.351,
          0.666,
          0.67,
          0.806,
          0.1,
          0.75,
          0.49,
          0.456,
          0.8,
          0.374,
          0.709,
          0.729,
          0.371,
          0.003,
          0.333,
          0.758,
          0.447,
          0.515,
          0.766,
          0.726,
          0.605,
          0.382,
          0.844,
          0.705,
          0.849,
          0.345,
          0.469,
          0.212,
          0.245,
          0.677,
          0.706,
          0.009,
          0.651,
          0.539,
          0.613,
          0.277,
          0.18,
          0.452,
          0.037,
          0.391,
          0.773,
          0.874,
          0.036,
          0.375,
          0.314,
          0.57,
          0.807,
          0.065,
          0.795,
          0.141,
          0.901,
          0.001,
          0.795,
          0.475,
          0.443,
          0.641,
          0.652,
          0.63,
          0.307,
          0.344,
          0.469,
          0.25,
          0.169,
          0.45,
          0.731,
          0.852,
          0.598,
          0.273,
          0.161,
          0.62,
          0.623,
          0.574,
          0.665,
          0.351,
          0.713,
          0.393,
          0.028,
          0.843,
          0.464,
          0.427,
          0.385,
          0.535,
          0.156,
          0.594,
          0.737,
          0.016,
          0.918,
          0.607,
          0.382,
          0.323,
          0.348,
          0.663,
          0.763,
          0.407,
          0.787,
          0.721,
          0.494,
          0.173,
          0.517,
          0.546,
          0.266,
          0.278,
          0.277,
          0.668,
          0.628,
          0.685,
          0.288,
          0.346,
          0.522,
          0.927,
          0.398,
          0.636,
          0.701,
          0.608,
          0,
          0.467,
          0.54,
          0.554,
          0.716,
          0.741,
          0.614,
          0.759,
          0.586,
          0.541,
          0.719,
          0.813,
          0.775,
          0.157,
          0.518,
          0.676,
          0.211,
          0.262,
          0.505,
          0.784,
          0.712,
          0.614,
          0.811,
          0.256,
          0.802,
          0.865,
          0.593,
          0.65,
          0.518,
          0.18,
          0.845,
          0.422,
          0.034,
          0.645,
          0.624,
          0.379,
          0.427,
          0.875,
          0.504,
          0.359,
          0.825,
          0.944,
          0.719,
          0.659,
          0.114,
          0.891,
          0.284,
          0.846,
          0.57,
          0.392,
          0.31,
          0.578,
          0.017,
          0.832,
          0.055,
          0.596,
          0.681,
          0.312,
          0.481,
          0.675,
          0.904,
          0.341,
          0.985,
          0.775,
          0.684,
          0.65,
          0.653,
          0.439,
          0.902,
          0.532,
          0.679,
          0.725,
          0.602,
          0.767,
          0.427,
          0.476,
          0.221,
          0.55,
          0.729,
          0.77,
          0.693,
          0.584,
          0.737,
          0.456,
          0.676,
          0.711,
          0.097,
          0.828,
          0.837,
          0.61,
          0.517,
          0.49,
          0.1,
          0.289,
          0.653,
          0.685,
          0.808,
          0.103,
          0.821,
          0.377,
          0.456,
          0.806,
          0.409,
          0.703,
          0.718,
          0.353,
          0.82,
          0.342,
          0.754,
          0.434,
          0.45,
          0.802,
          0.724,
          0.597,
          0.38,
          0.664,
          0.683,
          0.861,
          0.356,
          0.3,
          0.095,
          0.249,
          0.672,
          0.72,
          0.01,
          0.641,
          0.608,
          0.602,
          0.262,
          0.178,
          0.428,
          0.042,
          0.376,
          0.761,
          0.902,
          0.042,
          0.395,
          0.307,
          0.637,
          0.853,
          0.073,
          0.821,
          0.158,
          0.906,
          0.016,
          0.857,
          0.185,
          0.424,
          0.668,
          0.588,
          0.628,
          0.264,
          0.35,
          0.453,
          0.4,
          0.281,
          0.466,
          0.734,
          0.823,
          0.505,
          0.29,
          0.155,
          0.344,
          0.622,
          0.548,
          0.729,
          0.377,
          0.74,
          0.388,
          0.687,
          0.827,
          0.411,
          0.176,
          0.462,
          0.53,
          0.119,
          0.604,
          0.738,
          0.016,
          0.911,
          0.66,
          0.397,
          0.278,
          0.282,
          0.589,
          0.772,
          0.462,
          0.826,
          0.667,
          0.429,
          0.169,
          0.512,
          0.574,
          0.305,
          0.282,
          0.317,
          0.736,
          0.639,
          0.703,
          0.295,
          0.335,
          0.534,
          0.93,
          0.406,
          0.583,
          0.737,
          0.632,
          0,
          0.503,
          0.546,
          0.492,
          0.704,
          0.845,
          0.541,
          0.698,
          0.628,
          0.662,
          0.62,
          0.436,
          0.776,
          0.162,
          0.517,
          0.669,
          0.283,
          0.284,
          0.347,
          0.787,
          0.696,
          0.606,
          0.872,
          0.26,
          0.796,
          0.829,
          0.678,
          0.656,
          0.543,
          0.177,
          0.882,
          0.445,
          0.047,
          0.591,
          0.646,
          0.288,
          0.426,
          0.862,
          0.514,
          0.383,
          0.839,
          0.945,
          0.715,
          0.677,
          0,
          0.892,
          0.643,
          0.865,
          0.538,
          0.398,
          0.266,
          0.574,
          0.276,
          0.845,
          0.749,
          0.564,
          0.01,
          0.309,
          0.477,
          0.674,
          0.916,
          0.33,
          0.977,
          0.779,
          0.694
         ],
         "y0": " ",
         "yaxis": "y"
        }
       ],
       "layout": {
        "height": 700,
        "legend": {
         "tracegroupgap": 0
        },
        "template": {
         "data": {
          "bar": [
           {
            "error_x": {
             "color": "#2a3f5f"
            },
            "error_y": {
             "color": "#2a3f5f"
            },
            "marker": {
             "line": {
              "color": "#E5ECF6",
              "width": 0.5
             },
             "pattern": {
              "fillmode": "overlay",
              "size": 10,
              "solidity": 0.2
             }
            },
            "type": "bar"
           }
          ],
          "barpolar": [
           {
            "marker": {
             "line": {
              "color": "#E5ECF6",
              "width": 0.5
             },
             "pattern": {
              "fillmode": "overlay",
              "size": 10,
              "solidity": 0.2
             }
            },
            "type": "barpolar"
           }
          ],
          "carpet": [
           {
            "aaxis": {
             "endlinecolor": "#2a3f5f",
             "gridcolor": "white",
             "linecolor": "white",
             "minorgridcolor": "white",
             "startlinecolor": "#2a3f5f"
            },
            "baxis": {
             "endlinecolor": "#2a3f5f",
             "gridcolor": "white",
             "linecolor": "white",
             "minorgridcolor": "white",
             "startlinecolor": "#2a3f5f"
            },
            "type": "carpet"
           }
          ],
          "choropleth": [
           {
            "colorbar": {
             "outlinewidth": 0,
             "ticks": ""
            },
            "type": "choropleth"
           }
          ],
          "contour": [
           {
            "colorbar": {
             "outlinewidth": 0,
             "ticks": ""
            },
            "colorscale": [
             [
              0,
              "#0d0887"
             ],
             [
              0.1111111111111111,
              "#46039f"
             ],
             [
              0.2222222222222222,
              "#7201a8"
             ],
             [
              0.3333333333333333,
              "#9c179e"
             ],
             [
              0.4444444444444444,
              "#bd3786"
             ],
             [
              0.5555555555555556,
              "#d8576b"
             ],
             [
              0.6666666666666666,
              "#ed7953"
             ],
             [
              0.7777777777777778,
              "#fb9f3a"
             ],
             [
              0.8888888888888888,
              "#fdca26"
             ],
             [
              1,
              "#f0f921"
             ]
            ],
            "type": "contour"
           }
          ],
          "contourcarpet": [
           {
            "colorbar": {
             "outlinewidth": 0,
             "ticks": ""
            },
            "type": "contourcarpet"
           }
          ],
          "heatmap": [
           {
            "colorbar": {
             "outlinewidth": 0,
             "ticks": ""
            },
            "colorscale": [
             [
              0,
              "#0d0887"
             ],
             [
              0.1111111111111111,
              "#46039f"
             ],
             [
              0.2222222222222222,
              "#7201a8"
             ],
             [
              0.3333333333333333,
              "#9c179e"
             ],
             [
              0.4444444444444444,
              "#bd3786"
             ],
             [
              0.5555555555555556,
              "#d8576b"
             ],
             [
              0.6666666666666666,
              "#ed7953"
             ],
             [
              0.7777777777777778,
              "#fb9f3a"
             ],
             [
              0.8888888888888888,
              "#fdca26"
             ],
             [
              1,
              "#f0f921"
             ]
            ],
            "type": "heatmap"
           }
          ],
          "heatmapgl": [
           {
            "colorbar": {
             "outlinewidth": 0,
             "ticks": ""
            },
            "colorscale": [
             [
              0,
              "#0d0887"
             ],
             [
              0.1111111111111111,
              "#46039f"
             ],
             [
              0.2222222222222222,
              "#7201a8"
             ],
             [
              0.3333333333333333,
              "#9c179e"
             ],
             [
              0.4444444444444444,
              "#bd3786"
             ],
             [
              0.5555555555555556,
              "#d8576b"
             ],
             [
              0.6666666666666666,
              "#ed7953"
             ],
             [
              0.7777777777777778,
              "#fb9f3a"
             ],
             [
              0.8888888888888888,
              "#fdca26"
             ],
             [
              1,
              "#f0f921"
             ]
            ],
            "type": "heatmapgl"
           }
          ],
          "histogram": [
           {
            "marker": {
             "pattern": {
              "fillmode": "overlay",
              "size": 10,
              "solidity": 0.2
             }
            },
            "type": "histogram"
           }
          ],
          "histogram2d": [
           {
            "colorbar": {
             "outlinewidth": 0,
             "ticks": ""
            },
            "colorscale": [
             [
              0,
              "#0d0887"
             ],
             [
              0.1111111111111111,
              "#46039f"
             ],
             [
              0.2222222222222222,
              "#7201a8"
             ],
             [
              0.3333333333333333,
              "#9c179e"
             ],
             [
              0.4444444444444444,
              "#bd3786"
             ],
             [
              0.5555555555555556,
              "#d8576b"
             ],
             [
              0.6666666666666666,
              "#ed7953"
             ],
             [
              0.7777777777777778,
              "#fb9f3a"
             ],
             [
              0.8888888888888888,
              "#fdca26"
             ],
             [
              1,
              "#f0f921"
             ]
            ],
            "type": "histogram2d"
           }
          ],
          "histogram2dcontour": [
           {
            "colorbar": {
             "outlinewidth": 0,
             "ticks": ""
            },
            "colorscale": [
             [
              0,
              "#0d0887"
             ],
             [
              0.1111111111111111,
              "#46039f"
             ],
             [
              0.2222222222222222,
              "#7201a8"
             ],
             [
              0.3333333333333333,
              "#9c179e"
             ],
             [
              0.4444444444444444,
              "#bd3786"
             ],
             [
              0.5555555555555556,
              "#d8576b"
             ],
             [
              0.6666666666666666,
              "#ed7953"
             ],
             [
              0.7777777777777778,
              "#fb9f3a"
             ],
             [
              0.8888888888888888,
              "#fdca26"
             ],
             [
              1,
              "#f0f921"
             ]
            ],
            "type": "histogram2dcontour"
           }
          ],
          "mesh3d": [
           {
            "colorbar": {
             "outlinewidth": 0,
             "ticks": ""
            },
            "type": "mesh3d"
           }
          ],
          "parcoords": [
           {
            "line": {
             "colorbar": {
              "outlinewidth": 0,
              "ticks": ""
             }
            },
            "type": "parcoords"
           }
          ],
          "pie": [
           {
            "automargin": true,
            "type": "pie"
           }
          ],
          "scatter": [
           {
            "fillpattern": {
             "fillmode": "overlay",
             "size": 10,
             "solidity": 0.2
            },
            "type": "scatter"
           }
          ],
          "scatter3d": [
           {
            "line": {
             "colorbar": {
              "outlinewidth": 0,
              "ticks": ""
             }
            },
            "marker": {
             "colorbar": {
              "outlinewidth": 0,
              "ticks": ""
             }
            },
            "type": "scatter3d"
           }
          ],
          "scattercarpet": [
           {
            "marker": {
             "colorbar": {
              "outlinewidth": 0,
              "ticks": ""
             }
            },
            "type": "scattercarpet"
           }
          ],
          "scattergeo": [
           {
            "marker": {
             "colorbar": {
              "outlinewidth": 0,
              "ticks": ""
             }
            },
            "type": "scattergeo"
           }
          ],
          "scattergl": [
           {
            "marker": {
             "colorbar": {
              "outlinewidth": 0,
              "ticks": ""
             }
            },
            "type": "scattergl"
           }
          ],
          "scattermapbox": [
           {
            "marker": {
             "colorbar": {
              "outlinewidth": 0,
              "ticks": ""
             }
            },
            "type": "scattermapbox"
           }
          ],
          "scatterpolar": [
           {
            "marker": {
             "colorbar": {
              "outlinewidth": 0,
              "ticks": ""
             }
            },
            "type": "scatterpolar"
           }
          ],
          "scatterpolargl": [
           {
            "marker": {
             "colorbar": {
              "outlinewidth": 0,
              "ticks": ""
             }
            },
            "type": "scatterpolargl"
           }
          ],
          "scatterternary": [
           {
            "marker": {
             "colorbar": {
              "outlinewidth": 0,
              "ticks": ""
             }
            },
            "type": "scatterternary"
           }
          ],
          "surface": [
           {
            "colorbar": {
             "outlinewidth": 0,
             "ticks": ""
            },
            "colorscale": [
             [
              0,
              "#0d0887"
             ],
             [
              0.1111111111111111,
              "#46039f"
             ],
             [
              0.2222222222222222,
              "#7201a8"
             ],
             [
              0.3333333333333333,
              "#9c179e"
             ],
             [
              0.4444444444444444,
              "#bd3786"
             ],
             [
              0.5555555555555556,
              "#d8576b"
             ],
             [
              0.6666666666666666,
              "#ed7953"
             ],
             [
              0.7777777777777778,
              "#fb9f3a"
             ],
             [
              0.8888888888888888,
              "#fdca26"
             ],
             [
              1,
              "#f0f921"
             ]
            ],
            "type": "surface"
           }
          ],
          "table": [
           {
            "cells": {
             "fill": {
              "color": "#EBF0F8"
             },
             "line": {
              "color": "white"
             }
            },
            "header": {
             "fill": {
              "color": "#C8D4E3"
             },
             "line": {
              "color": "white"
             }
            },
            "type": "table"
           }
          ]
         },
         "layout": {
          "annotationdefaults": {
           "arrowcolor": "#2a3f5f",
           "arrowhead": 0,
           "arrowwidth": 1
          },
          "autotypenumbers": "strict",
          "coloraxis": {
           "colorbar": {
            "outlinewidth": 0,
            "ticks": ""
           }
          },
          "colorscale": {
           "diverging": [
            [
             0,
             "#8e0152"
            ],
            [
             0.1,
             "#c51b7d"
            ],
            [
             0.2,
             "#de77ae"
            ],
            [
             0.3,
             "#f1b6da"
            ],
            [
             0.4,
             "#fde0ef"
            ],
            [
             0.5,
             "#f7f7f7"
            ],
            [
             0.6,
             "#e6f5d0"
            ],
            [
             0.7,
             "#b8e186"
            ],
            [
             0.8,
             "#7fbc41"
            ],
            [
             0.9,
             "#4d9221"
            ],
            [
             1,
             "#276419"
            ]
           ],
           "sequential": [
            [
             0,
             "#0d0887"
            ],
            [
             0.1111111111111111,
             "#46039f"
            ],
            [
             0.2222222222222222,
             "#7201a8"
            ],
            [
             0.3333333333333333,
             "#9c179e"
            ],
            [
             0.4444444444444444,
             "#bd3786"
            ],
            [
             0.5555555555555556,
             "#d8576b"
            ],
            [
             0.6666666666666666,
             "#ed7953"
            ],
            [
             0.7777777777777778,
             "#fb9f3a"
            ],
            [
             0.8888888888888888,
             "#fdca26"
            ],
            [
             1,
             "#f0f921"
            ]
           ],
           "sequentialminus": [
            [
             0,
             "#0d0887"
            ],
            [
             0.1111111111111111,
             "#46039f"
            ],
            [
             0.2222222222222222,
             "#7201a8"
            ],
            [
             0.3333333333333333,
             "#9c179e"
            ],
            [
             0.4444444444444444,
             "#bd3786"
            ],
            [
             0.5555555555555556,
             "#d8576b"
            ],
            [
             0.6666666666666666,
             "#ed7953"
            ],
            [
             0.7777777777777778,
             "#fb9f3a"
            ],
            [
             0.8888888888888888,
             "#fdca26"
            ],
            [
             1,
             "#f0f921"
            ]
           ]
          },
          "colorway": [
           "#636efa",
           "#EF553B",
           "#00cc96",
           "#ab63fa",
           "#FFA15A",
           "#19d3f3",
           "#FF6692",
           "#B6E880",
           "#FF97FF",
           "#FECB52"
          ],
          "font": {
           "color": "#2a3f5f"
          },
          "geo": {
           "bgcolor": "white",
           "lakecolor": "white",
           "landcolor": "#E5ECF6",
           "showlakes": true,
           "showland": true,
           "subunitcolor": "white"
          },
          "hoverlabel": {
           "align": "left"
          },
          "hovermode": "closest",
          "mapbox": {
           "style": "light"
          },
          "paper_bgcolor": "white",
          "plot_bgcolor": "#E5ECF6",
          "polar": {
           "angularaxis": {
            "gridcolor": "white",
            "linecolor": "white",
            "ticks": ""
           },
           "bgcolor": "#E5ECF6",
           "radialaxis": {
            "gridcolor": "white",
            "linecolor": "white",
            "ticks": ""
           }
          },
          "scene": {
           "xaxis": {
            "backgroundcolor": "#E5ECF6",
            "gridcolor": "white",
            "gridwidth": 2,
            "linecolor": "white",
            "showbackground": true,
            "ticks": "",
            "zerolinecolor": "white"
           },
           "yaxis": {
            "backgroundcolor": "#E5ECF6",
            "gridcolor": "white",
            "gridwidth": 2,
            "linecolor": "white",
            "showbackground": true,
            "ticks": "",
            "zerolinecolor": "white"
           },
           "zaxis": {
            "backgroundcolor": "#E5ECF6",
            "gridcolor": "white",
            "gridwidth": 2,
            "linecolor": "white",
            "showbackground": true,
            "ticks": "",
            "zerolinecolor": "white"
           }
          },
          "shapedefaults": {
           "line": {
            "color": "#2a3f5f"
           }
          },
          "ternary": {
           "aaxis": {
            "gridcolor": "white",
            "linecolor": "white",
            "ticks": ""
           },
           "baxis": {
            "gridcolor": "white",
            "linecolor": "white",
            "ticks": ""
           },
           "bgcolor": "#E5ECF6",
           "caxis": {
            "gridcolor": "white",
            "linecolor": "white",
            "ticks": ""
           }
          },
          "title": {
           "x": 0.05
          },
          "xaxis": {
           "automargin": true,
           "gridcolor": "white",
           "linecolor": "white",
           "ticks": "",
           "title": {
            "standoff": 15
           },
           "zerolinecolor": "white",
           "zerolinewidth": 2
          },
          "yaxis": {
           "automargin": true,
           "gridcolor": "white",
           "linecolor": "white",
           "ticks": "",
           "title": {
            "standoff": 15
           },
           "zerolinecolor": "white",
           "zerolinewidth": 2
          }
         }
        },
        "title": {
         "text": "Dice scores distribution"
        },
        "violinmode": "group",
        "width": 1400,
        "xaxis": {
         "anchor": "y",
         "domain": [
          0,
          1
         ],
         "title": {
          "text": "Model"
         }
        },
        "yaxis": {
         "anchor": "x",
         "domain": [
          0,
          1
         ],
         "title": {
          "text": "Dice Score"
         }
        }
       }
      }
     },
     "metadata": {},
     "output_type": "display_data"
    }
   ],
   "source": [
    "fig = px.violin(df_res[['dice_score_ig', 'dice_score_saliency', 'dice_score_deep_lift']], points=\"all\", color_discrete_sequence=['darkblue'], title='Dice scores distribution', box=True, width=1400, height=700)\n",
    "fig.update_layout(xaxis_title='Model', yaxis_title='Dice Score')\n",
    "fig.write_html('dice_score_distribution_interpretabilities_optimized_box_binary.html')\n",
    "fig.write_image('dice_score_distribution_interpretabilities_optimized_box_binary.png')\n",
    "fig.show()"
   ]
  },
  {
   "cell_type": "code",
   "execution_count": 13,
   "metadata": {},
   "outputs": [
    {
     "data": {
      "application/vnd.plotly.v1+json": {
       "config": {
        "plotlyServerURL": "https://plot.ly"
       },
       "data": [
        {
         "alignmentgroup": "True",
         "box": {
          "visible": true
         },
         "hovertemplate": "variable=%{x}<br>value=%{y}<extra></extra>",
         "legendgroup": "",
         "marker": {
          "color": "green"
         },
         "name": "",
         "offsetgroup": "",
         "orientation": "v",
         "points": "all",
         "scalegroup": "True",
         "showlegend": false,
         "type": "violin",
         "x": [
          "iou_score_ig",
          "iou_score_ig",
          "iou_score_ig",
          "iou_score_ig",
          "iou_score_ig",
          "iou_score_ig",
          "iou_score_ig",
          "iou_score_ig",
          "iou_score_ig",
          "iou_score_ig",
          "iou_score_ig",
          "iou_score_ig",
          "iou_score_ig",
          "iou_score_ig",
          "iou_score_ig",
          "iou_score_ig",
          "iou_score_ig",
          "iou_score_ig",
          "iou_score_ig",
          "iou_score_ig",
          "iou_score_ig",
          "iou_score_ig",
          "iou_score_ig",
          "iou_score_ig",
          "iou_score_ig",
          "iou_score_ig",
          "iou_score_ig",
          "iou_score_ig",
          "iou_score_ig",
          "iou_score_ig",
          "iou_score_ig",
          "iou_score_ig",
          "iou_score_ig",
          "iou_score_ig",
          "iou_score_ig",
          "iou_score_ig",
          "iou_score_ig",
          "iou_score_ig",
          "iou_score_ig",
          "iou_score_ig",
          "iou_score_ig",
          "iou_score_ig",
          "iou_score_ig",
          "iou_score_ig",
          "iou_score_ig",
          "iou_score_ig",
          "iou_score_ig",
          "iou_score_ig",
          "iou_score_ig",
          "iou_score_ig",
          "iou_score_ig",
          "iou_score_ig",
          "iou_score_ig",
          "iou_score_ig",
          "iou_score_ig",
          "iou_score_ig",
          "iou_score_ig",
          "iou_score_ig",
          "iou_score_ig",
          "iou_score_ig",
          "iou_score_ig",
          "iou_score_ig",
          "iou_score_ig",
          "iou_score_ig",
          "iou_score_ig",
          "iou_score_ig",
          "iou_score_ig",
          "iou_score_ig",
          "iou_score_ig",
          "iou_score_ig",
          "iou_score_ig",
          "iou_score_ig",
          "iou_score_ig",
          "iou_score_ig",
          "iou_score_ig",
          "iou_score_ig",
          "iou_score_ig",
          "iou_score_ig",
          "iou_score_ig",
          "iou_score_ig",
          "iou_score_ig",
          "iou_score_ig",
          "iou_score_ig",
          "iou_score_ig",
          "iou_score_ig",
          "iou_score_ig",
          "iou_score_ig",
          "iou_score_ig",
          "iou_score_ig",
          "iou_score_ig",
          "iou_score_ig",
          "iou_score_ig",
          "iou_score_ig",
          "iou_score_ig",
          "iou_score_ig",
          "iou_score_ig",
          "iou_score_ig",
          "iou_score_ig",
          "iou_score_ig",
          "iou_score_ig",
          "iou_score_ig",
          "iou_score_ig",
          "iou_score_ig",
          "iou_score_ig",
          "iou_score_ig",
          "iou_score_ig",
          "iou_score_ig",
          "iou_score_ig",
          "iou_score_ig",
          "iou_score_ig",
          "iou_score_ig",
          "iou_score_ig",
          "iou_score_ig",
          "iou_score_ig",
          "iou_score_ig",
          "iou_score_ig",
          "iou_score_ig",
          "iou_score_ig",
          "iou_score_ig",
          "iou_score_ig",
          "iou_score_ig",
          "iou_score_ig",
          "iou_score_ig",
          "iou_score_ig",
          "iou_score_ig",
          "iou_score_ig",
          "iou_score_ig",
          "iou_score_ig",
          "iou_score_ig",
          "iou_score_ig",
          "iou_score_ig",
          "iou_score_ig",
          "iou_score_ig",
          "iou_score_ig",
          "iou_score_ig",
          "iou_score_ig",
          "iou_score_ig",
          "iou_score_ig",
          "iou_score_ig",
          "iou_score_ig",
          "iou_score_ig",
          "iou_score_ig",
          "iou_score_ig",
          "iou_score_ig",
          "iou_score_ig",
          "iou_score_ig",
          "iou_score_ig",
          "iou_score_ig",
          "iou_score_ig",
          "iou_score_ig",
          "iou_score_ig",
          "iou_score_ig",
          "iou_score_ig",
          "iou_score_ig",
          "iou_score_ig",
          "iou_score_ig",
          "iou_score_ig",
          "iou_score_ig",
          "iou_score_ig",
          "iou_score_ig",
          "iou_score_ig",
          "iou_score_ig",
          "iou_score_ig",
          "iou_score_ig",
          "iou_score_ig",
          "iou_score_ig",
          "iou_score_ig",
          "iou_score_ig",
          "iou_score_ig",
          "iou_score_ig",
          "iou_score_ig",
          "iou_score_ig",
          "iou_score_ig",
          "iou_score_ig",
          "iou_score_ig",
          "iou_score_ig",
          "iou_score_ig",
          "iou_score_ig",
          "iou_score_ig",
          "iou_score_ig",
          "iou_score_ig",
          "iou_score_ig",
          "iou_score_ig",
          "iou_score_ig",
          "iou_score_ig",
          "iou_score_ig",
          "iou_score_ig",
          "iou_score_ig",
          "iou_score_ig",
          "iou_score_ig",
          "iou_score_ig",
          "iou_score_ig",
          "iou_score_ig",
          "iou_score_ig",
          "iou_score_ig",
          "iou_score_ig",
          "iou_score_ig",
          "iou_score_ig",
          "iou_score_ig",
          "iou_score_ig",
          "iou_score_ig",
          "iou_score_ig",
          "iou_score_ig",
          "iou_score_ig",
          "iou_score_ig",
          "iou_score_ig",
          "iou_score_ig",
          "iou_score_saliency",
          "iou_score_saliency",
          "iou_score_saliency",
          "iou_score_saliency",
          "iou_score_saliency",
          "iou_score_saliency",
          "iou_score_saliency",
          "iou_score_saliency",
          "iou_score_saliency",
          "iou_score_saliency",
          "iou_score_saliency",
          "iou_score_saliency",
          "iou_score_saliency",
          "iou_score_saliency",
          "iou_score_saliency",
          "iou_score_saliency",
          "iou_score_saliency",
          "iou_score_saliency",
          "iou_score_saliency",
          "iou_score_saliency",
          "iou_score_saliency",
          "iou_score_saliency",
          "iou_score_saliency",
          "iou_score_saliency",
          "iou_score_saliency",
          "iou_score_saliency",
          "iou_score_saliency",
          "iou_score_saliency",
          "iou_score_saliency",
          "iou_score_saliency",
          "iou_score_saliency",
          "iou_score_saliency",
          "iou_score_saliency",
          "iou_score_saliency",
          "iou_score_saliency",
          "iou_score_saliency",
          "iou_score_saliency",
          "iou_score_saliency",
          "iou_score_saliency",
          "iou_score_saliency",
          "iou_score_saliency",
          "iou_score_saliency",
          "iou_score_saliency",
          "iou_score_saliency",
          "iou_score_saliency",
          "iou_score_saliency",
          "iou_score_saliency",
          "iou_score_saliency",
          "iou_score_saliency",
          "iou_score_saliency",
          "iou_score_saliency",
          "iou_score_saliency",
          "iou_score_saliency",
          "iou_score_saliency",
          "iou_score_saliency",
          "iou_score_saliency",
          "iou_score_saliency",
          "iou_score_saliency",
          "iou_score_saliency",
          "iou_score_saliency",
          "iou_score_saliency",
          "iou_score_saliency",
          "iou_score_saliency",
          "iou_score_saliency",
          "iou_score_saliency",
          "iou_score_saliency",
          "iou_score_saliency",
          "iou_score_saliency",
          "iou_score_saliency",
          "iou_score_saliency",
          "iou_score_saliency",
          "iou_score_saliency",
          "iou_score_saliency",
          "iou_score_saliency",
          "iou_score_saliency",
          "iou_score_saliency",
          "iou_score_saliency",
          "iou_score_saliency",
          "iou_score_saliency",
          "iou_score_saliency",
          "iou_score_saliency",
          "iou_score_saliency",
          "iou_score_saliency",
          "iou_score_saliency",
          "iou_score_saliency",
          "iou_score_saliency",
          "iou_score_saliency",
          "iou_score_saliency",
          "iou_score_saliency",
          "iou_score_saliency",
          "iou_score_saliency",
          "iou_score_saliency",
          "iou_score_saliency",
          "iou_score_saliency",
          "iou_score_saliency",
          "iou_score_saliency",
          "iou_score_saliency",
          "iou_score_saliency",
          "iou_score_saliency",
          "iou_score_saliency",
          "iou_score_saliency",
          "iou_score_saliency",
          "iou_score_saliency",
          "iou_score_saliency",
          "iou_score_saliency",
          "iou_score_saliency",
          "iou_score_saliency",
          "iou_score_saliency",
          "iou_score_saliency",
          "iou_score_saliency",
          "iou_score_saliency",
          "iou_score_saliency",
          "iou_score_saliency",
          "iou_score_saliency",
          "iou_score_saliency",
          "iou_score_saliency",
          "iou_score_saliency",
          "iou_score_saliency",
          "iou_score_saliency",
          "iou_score_saliency",
          "iou_score_saliency",
          "iou_score_saliency",
          "iou_score_saliency",
          "iou_score_saliency",
          "iou_score_saliency",
          "iou_score_saliency",
          "iou_score_saliency",
          "iou_score_saliency",
          "iou_score_saliency",
          "iou_score_saliency",
          "iou_score_saliency",
          "iou_score_saliency",
          "iou_score_saliency",
          "iou_score_saliency",
          "iou_score_saliency",
          "iou_score_saliency",
          "iou_score_saliency",
          "iou_score_saliency",
          "iou_score_saliency",
          "iou_score_saliency",
          "iou_score_saliency",
          "iou_score_saliency",
          "iou_score_saliency",
          "iou_score_saliency",
          "iou_score_saliency",
          "iou_score_saliency",
          "iou_score_saliency",
          "iou_score_saliency",
          "iou_score_saliency",
          "iou_score_saliency",
          "iou_score_saliency",
          "iou_score_saliency",
          "iou_score_saliency",
          "iou_score_saliency",
          "iou_score_saliency",
          "iou_score_saliency",
          "iou_score_saliency",
          "iou_score_saliency",
          "iou_score_saliency",
          "iou_score_saliency",
          "iou_score_saliency",
          "iou_score_saliency",
          "iou_score_saliency",
          "iou_score_saliency",
          "iou_score_saliency",
          "iou_score_saliency",
          "iou_score_saliency",
          "iou_score_saliency",
          "iou_score_saliency",
          "iou_score_saliency",
          "iou_score_saliency",
          "iou_score_saliency",
          "iou_score_saliency",
          "iou_score_saliency",
          "iou_score_saliency",
          "iou_score_saliency",
          "iou_score_saliency",
          "iou_score_saliency",
          "iou_score_saliency",
          "iou_score_saliency",
          "iou_score_saliency",
          "iou_score_saliency",
          "iou_score_saliency",
          "iou_score_saliency",
          "iou_score_saliency",
          "iou_score_saliency",
          "iou_score_saliency",
          "iou_score_saliency",
          "iou_score_saliency",
          "iou_score_saliency",
          "iou_score_saliency",
          "iou_score_saliency",
          "iou_score_saliency",
          "iou_score_saliency",
          "iou_score_saliency",
          "iou_score_saliency",
          "iou_score_saliency",
          "iou_score_saliency",
          "iou_score_saliency",
          "iou_score_saliency",
          "iou_score_saliency",
          "iou_score_saliency",
          "iou_score_saliency",
          "iou_score_saliency",
          "iou_score_saliency",
          "iou_score_saliency",
          "iou_score_saliency",
          "iou_score_deep_lift",
          "iou_score_deep_lift",
          "iou_score_deep_lift",
          "iou_score_deep_lift",
          "iou_score_deep_lift",
          "iou_score_deep_lift",
          "iou_score_deep_lift",
          "iou_score_deep_lift",
          "iou_score_deep_lift",
          "iou_score_deep_lift",
          "iou_score_deep_lift",
          "iou_score_deep_lift",
          "iou_score_deep_lift",
          "iou_score_deep_lift",
          "iou_score_deep_lift",
          "iou_score_deep_lift",
          "iou_score_deep_lift",
          "iou_score_deep_lift",
          "iou_score_deep_lift",
          "iou_score_deep_lift",
          "iou_score_deep_lift",
          "iou_score_deep_lift",
          "iou_score_deep_lift",
          "iou_score_deep_lift",
          "iou_score_deep_lift",
          "iou_score_deep_lift",
          "iou_score_deep_lift",
          "iou_score_deep_lift",
          "iou_score_deep_lift",
          "iou_score_deep_lift",
          "iou_score_deep_lift",
          "iou_score_deep_lift",
          "iou_score_deep_lift",
          "iou_score_deep_lift",
          "iou_score_deep_lift",
          "iou_score_deep_lift",
          "iou_score_deep_lift",
          "iou_score_deep_lift",
          "iou_score_deep_lift",
          "iou_score_deep_lift",
          "iou_score_deep_lift",
          "iou_score_deep_lift",
          "iou_score_deep_lift",
          "iou_score_deep_lift",
          "iou_score_deep_lift",
          "iou_score_deep_lift",
          "iou_score_deep_lift",
          "iou_score_deep_lift",
          "iou_score_deep_lift",
          "iou_score_deep_lift",
          "iou_score_deep_lift",
          "iou_score_deep_lift",
          "iou_score_deep_lift",
          "iou_score_deep_lift",
          "iou_score_deep_lift",
          "iou_score_deep_lift",
          "iou_score_deep_lift",
          "iou_score_deep_lift",
          "iou_score_deep_lift",
          "iou_score_deep_lift",
          "iou_score_deep_lift",
          "iou_score_deep_lift",
          "iou_score_deep_lift",
          "iou_score_deep_lift",
          "iou_score_deep_lift",
          "iou_score_deep_lift",
          "iou_score_deep_lift",
          "iou_score_deep_lift",
          "iou_score_deep_lift",
          "iou_score_deep_lift",
          "iou_score_deep_lift",
          "iou_score_deep_lift",
          "iou_score_deep_lift",
          "iou_score_deep_lift",
          "iou_score_deep_lift",
          "iou_score_deep_lift",
          "iou_score_deep_lift",
          "iou_score_deep_lift",
          "iou_score_deep_lift",
          "iou_score_deep_lift",
          "iou_score_deep_lift",
          "iou_score_deep_lift",
          "iou_score_deep_lift",
          "iou_score_deep_lift",
          "iou_score_deep_lift",
          "iou_score_deep_lift",
          "iou_score_deep_lift",
          "iou_score_deep_lift",
          "iou_score_deep_lift",
          "iou_score_deep_lift",
          "iou_score_deep_lift",
          "iou_score_deep_lift",
          "iou_score_deep_lift",
          "iou_score_deep_lift",
          "iou_score_deep_lift",
          "iou_score_deep_lift",
          "iou_score_deep_lift",
          "iou_score_deep_lift",
          "iou_score_deep_lift",
          "iou_score_deep_lift",
          "iou_score_deep_lift",
          "iou_score_deep_lift",
          "iou_score_deep_lift",
          "iou_score_deep_lift",
          "iou_score_deep_lift",
          "iou_score_deep_lift",
          "iou_score_deep_lift",
          "iou_score_deep_lift",
          "iou_score_deep_lift",
          "iou_score_deep_lift",
          "iou_score_deep_lift",
          "iou_score_deep_lift",
          "iou_score_deep_lift",
          "iou_score_deep_lift",
          "iou_score_deep_lift",
          "iou_score_deep_lift",
          "iou_score_deep_lift",
          "iou_score_deep_lift",
          "iou_score_deep_lift",
          "iou_score_deep_lift",
          "iou_score_deep_lift",
          "iou_score_deep_lift",
          "iou_score_deep_lift",
          "iou_score_deep_lift",
          "iou_score_deep_lift",
          "iou_score_deep_lift",
          "iou_score_deep_lift",
          "iou_score_deep_lift",
          "iou_score_deep_lift",
          "iou_score_deep_lift",
          "iou_score_deep_lift",
          "iou_score_deep_lift",
          "iou_score_deep_lift",
          "iou_score_deep_lift",
          "iou_score_deep_lift",
          "iou_score_deep_lift",
          "iou_score_deep_lift",
          "iou_score_deep_lift",
          "iou_score_deep_lift",
          "iou_score_deep_lift",
          "iou_score_deep_lift",
          "iou_score_deep_lift",
          "iou_score_deep_lift",
          "iou_score_deep_lift",
          "iou_score_deep_lift",
          "iou_score_deep_lift",
          "iou_score_deep_lift",
          "iou_score_deep_lift",
          "iou_score_deep_lift",
          "iou_score_deep_lift",
          "iou_score_deep_lift",
          "iou_score_deep_lift",
          "iou_score_deep_lift",
          "iou_score_deep_lift",
          "iou_score_deep_lift",
          "iou_score_deep_lift",
          "iou_score_deep_lift",
          "iou_score_deep_lift",
          "iou_score_deep_lift",
          "iou_score_deep_lift",
          "iou_score_deep_lift",
          "iou_score_deep_lift",
          "iou_score_deep_lift",
          "iou_score_deep_lift",
          "iou_score_deep_lift",
          "iou_score_deep_lift",
          "iou_score_deep_lift",
          "iou_score_deep_lift",
          "iou_score_deep_lift",
          "iou_score_deep_lift",
          "iou_score_deep_lift",
          "iou_score_deep_lift",
          "iou_score_deep_lift",
          "iou_score_deep_lift",
          "iou_score_deep_lift",
          "iou_score_deep_lift",
          "iou_score_deep_lift",
          "iou_score_deep_lift",
          "iou_score_deep_lift",
          "iou_score_deep_lift",
          "iou_score_deep_lift",
          "iou_score_deep_lift",
          "iou_score_deep_lift",
          "iou_score_deep_lift",
          "iou_score_deep_lift",
          "iou_score_deep_lift",
          "iou_score_deep_lift",
          "iou_score_deep_lift",
          "iou_score_deep_lift",
          "iou_score_deep_lift",
          "iou_score_deep_lift",
          "iou_score_deep_lift",
          "iou_score_deep_lift",
          "iou_score_deep_lift",
          "iou_score_deep_lift",
          "iou_score_deep_lift",
          "iou_score_deep_lift",
          "iou_score_deep_lift",
          "iou_score_deep_lift",
          "iou_score_deep_lift",
          "iou_score_deep_lift",
          "iou_score_deep_lift",
          "iou_score_deep_lift",
          "iou_score_deep_lift",
          "iou_score_deep_lift",
          "iou_score_deep_lift",
          "iou_score_deep_lift"
         ],
         "x0": " ",
         "xaxis": "x",
         "y": [
          0.565,
          0.484,
          0.273,
          0.804,
          0.343,
          0.248,
          0.54,
          0.39,
          0.637,
          0.309,
          0.324,
          0.189,
          0.383,
          0.594,
          0.631,
          0.491,
          0.418,
          0.612,
          0.295,
          0.285,
          0.412,
          0.025,
          0.699,
          0.707,
          0.312,
          0.265,
          0.331,
          0.047,
          0.146,
          0.472,
          0.534,
          0.662,
          0.051,
          0.684,
          0.289,
          0.233,
          0.025,
          0.238,
          0.509,
          0.559,
          0.21,
          0.68,
          0.209,
          0.607,
          0.276,
          0.353,
          0.617,
          0.602,
          0.436,
          0.2,
          0.668,
          0.57,
          0.754,
          0.194,
          0.222,
          0.059,
          0.142,
          0.516,
          0.579,
          0.007,
          0.491,
          0.112,
          0.449,
          0.146,
          0.097,
          0.363,
          0.02,
          0.229,
          0.633,
          0.782,
          0.02,
          0.457,
          0.203,
          0.521,
          0.719,
          0.032,
          0.639,
          0.086,
          0.817,
          0,
          0.746,
          0.302,
          0.012,
          0.487,
          0.396,
          0.446,
          0.151,
          0.218,
          0.305,
          0.167,
          0.159,
          0.292,
          0.571,
          0.79,
          0.299,
          0.109,
          0.062,
          0.215,
          0.448,
          0.4,
          0.51,
          0.216,
          0.517,
          0.265,
          0.013,
          0.689,
          0.467,
          0.092,
          0.267,
          0.338,
          0.018,
          0.417,
          0.538,
          0.008,
          0.839,
          0.398,
          0.225,
          0.15,
          0.209,
          0.401,
          0.257,
          0.261,
          0.637,
          0.475,
          0.358,
          0.095,
          0.328,
          0.403,
          0.161,
          0.159,
          0.2,
          0.524,
          0.455,
          0.569,
          0.141,
          0.207,
          0.362,
          0.864,
          0.256,
          0.401,
          0.578,
          0.551,
          0.001,
          0.349,
          0.374,
          0.376,
          0.601,
          0.674,
          0.469,
          0.551,
          0.436,
          0.364,
          0.583,
          0.265,
          0.542,
          0.087,
          0.356,
          0.518,
          0.128,
          0.17,
          0.245,
          0.625,
          0.525,
          0.427,
          0.676,
          0.144,
          0.706,
          0.73,
          0.524,
          0.473,
          0.322,
          0.089,
          0.774,
          0.307,
          0.023,
          0.393,
          0.443,
          0.173,
          0.301,
          0.766,
          0.425,
          0.232,
          0.723,
          0.874,
          0.57,
          0.551,
          0.055,
          0.734,
          0.163,
          0.729,
          0.485,
          0.219,
          0.151,
          0.429,
          0.009,
          0.738,
          0.583,
          0.409,
          0.489,
          0.173,
          0.27,
          0.407,
          0.822,
          0.196,
          0.953,
          0.671,
          0.534,
          0.476,
          0.455,
          0.355,
          0.859,
          0.381,
          0.494,
          0.56,
          0.427,
          0.636,
          0.324,
          0.292,
          0.125,
          0.381,
          0.594,
          0.638,
          0.488,
          0.416,
          0.569,
          0.293,
          0.513,
          0.392,
          0.044,
          0.683,
          0.672,
          0.357,
          0.234,
          0.383,
          0.052,
          0.213,
          0.5,
          0.504,
          0.675,
          0.053,
          0.6,
          0.325,
          0.295,
          0.666,
          0.23,
          0.549,
          0.573,
          0.228,
          0.002,
          0.2,
          0.611,
          0.288,
          0.346,
          0.621,
          0.57,
          0.434,
          0.236,
          0.73,
          0.544,
          0.738,
          0.208,
          0.306,
          0.118,
          0.14,
          0.511,
          0.545,
          0.004,
          0.482,
          0.369,
          0.442,
          0.161,
          0.099,
          0.292,
          0.019,
          0.243,
          0.63,
          0.776,
          0.018,
          0.231,
          0.186,
          0.398,
          0.677,
          0.034,
          0.66,
          0.076,
          0.82,
          0.001,
          0.66,
          0.311,
          0.285,
          0.471,
          0.483,
          0.46,
          0.181,
          0.208,
          0.306,
          0.143,
          0.092,
          0.29,
          0.576,
          0.743,
          0.426,
          0.158,
          0.088,
          0.449,
          0.452,
          0.403,
          0.498,
          0.213,
          0.554,
          0.245,
          0.014,
          0.729,
          0.302,
          0.271,
          0.238,
          0.365,
          0.085,
          0.422,
          0.584,
          0.008,
          0.849,
          0.436,
          0.236,
          0.193,
          0.211,
          0.495,
          0.617,
          0.256,
          0.649,
          0.564,
          0.328,
          0.095,
          0.348,
          0.375,
          0.153,
          0.162,
          0.161,
          0.501,
          0.457,
          0.521,
          0.168,
          0.209,
          0.353,
          0.865,
          0.249,
          0.466,
          0.539,
          0.436,
          0,
          0.305,
          0.37,
          0.383,
          0.558,
          0.589,
          0.443,
          0.612,
          0.415,
          0.371,
          0.561,
          0.685,
          0.633,
          0.085,
          0.349,
          0.511,
          0.118,
          0.151,
          0.338,
          0.645,
          0.552,
          0.443,
          0.682,
          0.147,
          0.669,
          0.762,
          0.421,
          0.482,
          0.349,
          0.099,
          0.732,
          0.267,
          0.017,
          0.476,
          0.454,
          0.234,
          0.272,
          0.777,
          0.337,
          0.219,
          0.703,
          0.894,
          0.561,
          0.492,
          0.061,
          0.803,
          0.165,
          0.733,
          0.399,
          0.244,
          0.184,
          0.406,
          0.009,
          0.713,
          0.028,
          0.425,
          0.517,
          0.185,
          0.317,
          0.51,
          0.824,
          0.206,
          0.97,
          0.632,
          0.519,
          0.482,
          0.485,
          0.282,
          0.821,
          0.362,
          0.514,
          0.568,
          0.431,
          0.622,
          0.272,
          0.312,
          0.125,
          0.379,
          0.573,
          0.625,
          0.53,
          0.412,
          0.583,
          0.295,
          0.51,
          0.552,
          0.051,
          0.707,
          0.719,
          0.439,
          0.349,
          0.324,
          0.052,
          0.169,
          0.485,
          0.521,
          0.678,
          0.055,
          0.697,
          0.232,
          0.295,
          0.675,
          0.257,
          0.542,
          0.56,
          0.214,
          0.695,
          0.206,
          0.605,
          0.277,
          0.29,
          0.669,
          0.567,
          0.426,
          0.234,
          0.497,
          0.518,
          0.757,
          0.216,
          0.177,
          0.05,
          0.142,
          0.505,
          0.563,
          0.005,
          0.472,
          0.437,
          0.431,
          0.15,
          0.098,
          0.272,
          0.021,
          0.231,
          0.614,
          0.821,
          0.021,
          0.246,
          0.181,
          0.468,
          0.744,
          0.038,
          0.696,
          0.086,
          0.829,
          0.008,
          0.75,
          0.102,
          0.269,
          0.502,
          0.416,
          0.457,
          0.152,
          0.212,
          0.292,
          0.25,
          0.164,
          0.304,
          0.58,
          0.699,
          0.338,
          0.169,
          0.084,
          0.208,
          0.451,
          0.377,
          0.573,
          0.233,
          0.587,
          0.241,
          0.523,
          0.706,
          0.259,
          0.097,
          0.3,
          0.361,
          0.063,
          0.432,
          0.585,
          0.008,
          0.836,
          0.492,
          0.248,
          0.161,
          0.164,
          0.417,
          0.629,
          0.3,
          0.704,
          0.5,
          0.273,
          0.092,
          0.344,
          0.403,
          0.18,
          0.164,
          0.188,
          0.582,
          0.47,
          0.542,
          0.173,
          0.201,
          0.364,
          0.869,
          0.255,
          0.412,
          0.584,
          0.462,
          0,
          0.336,
          0.375,
          0.326,
          0.543,
          0.732,
          0.371,
          0.536,
          0.458,
          0.494,
          0.449,
          0.279,
          0.634,
          0.088,
          0.349,
          0.502,
          0.165,
          0.166,
          0.21,
          0.649,
          0.533,
          0.435,
          0.774,
          0.149,
          0.661,
          0.709,
          0.513,
          0.489,
          0.373,
          0.097,
          0.789,
          0.286,
          0.024,
          0.42,
          0.477,
          0.168,
          0.271,
          0.758,
          0.346,
          0.237,
          0.722,
          0.895,
          0.557,
          0.512,
          0,
          0.805,
          0.474,
          0.762,
          0.368,
          0.249,
          0.154,
          0.402,
          0.16,
          0.731,
          0.599,
          0.393,
          0.005,
          0.183,
          0.314,
          0.508,
          0.846,
          0.198,
          0.955,
          0.638,
          0.532
         ],
         "y0": " ",
         "yaxis": "y"
        }
       ],
       "layout": {
        "height": 700,
        "legend": {
         "tracegroupgap": 0
        },
        "template": {
         "data": {
          "bar": [
           {
            "error_x": {
             "color": "#2a3f5f"
            },
            "error_y": {
             "color": "#2a3f5f"
            },
            "marker": {
             "line": {
              "color": "#E5ECF6",
              "width": 0.5
             },
             "pattern": {
              "fillmode": "overlay",
              "size": 10,
              "solidity": 0.2
             }
            },
            "type": "bar"
           }
          ],
          "barpolar": [
           {
            "marker": {
             "line": {
              "color": "#E5ECF6",
              "width": 0.5
             },
             "pattern": {
              "fillmode": "overlay",
              "size": 10,
              "solidity": 0.2
             }
            },
            "type": "barpolar"
           }
          ],
          "carpet": [
           {
            "aaxis": {
             "endlinecolor": "#2a3f5f",
             "gridcolor": "white",
             "linecolor": "white",
             "minorgridcolor": "white",
             "startlinecolor": "#2a3f5f"
            },
            "baxis": {
             "endlinecolor": "#2a3f5f",
             "gridcolor": "white",
             "linecolor": "white",
             "minorgridcolor": "white",
             "startlinecolor": "#2a3f5f"
            },
            "type": "carpet"
           }
          ],
          "choropleth": [
           {
            "colorbar": {
             "outlinewidth": 0,
             "ticks": ""
            },
            "type": "choropleth"
           }
          ],
          "contour": [
           {
            "colorbar": {
             "outlinewidth": 0,
             "ticks": ""
            },
            "colorscale": [
             [
              0,
              "#0d0887"
             ],
             [
              0.1111111111111111,
              "#46039f"
             ],
             [
              0.2222222222222222,
              "#7201a8"
             ],
             [
              0.3333333333333333,
              "#9c179e"
             ],
             [
              0.4444444444444444,
              "#bd3786"
             ],
             [
              0.5555555555555556,
              "#d8576b"
             ],
             [
              0.6666666666666666,
              "#ed7953"
             ],
             [
              0.7777777777777778,
              "#fb9f3a"
             ],
             [
              0.8888888888888888,
              "#fdca26"
             ],
             [
              1,
              "#f0f921"
             ]
            ],
            "type": "contour"
           }
          ],
          "contourcarpet": [
           {
            "colorbar": {
             "outlinewidth": 0,
             "ticks": ""
            },
            "type": "contourcarpet"
           }
          ],
          "heatmap": [
           {
            "colorbar": {
             "outlinewidth": 0,
             "ticks": ""
            },
            "colorscale": [
             [
              0,
              "#0d0887"
             ],
             [
              0.1111111111111111,
              "#46039f"
             ],
             [
              0.2222222222222222,
              "#7201a8"
             ],
             [
              0.3333333333333333,
              "#9c179e"
             ],
             [
              0.4444444444444444,
              "#bd3786"
             ],
             [
              0.5555555555555556,
              "#d8576b"
             ],
             [
              0.6666666666666666,
              "#ed7953"
             ],
             [
              0.7777777777777778,
              "#fb9f3a"
             ],
             [
              0.8888888888888888,
              "#fdca26"
             ],
             [
              1,
              "#f0f921"
             ]
            ],
            "type": "heatmap"
           }
          ],
          "heatmapgl": [
           {
            "colorbar": {
             "outlinewidth": 0,
             "ticks": ""
            },
            "colorscale": [
             [
              0,
              "#0d0887"
             ],
             [
              0.1111111111111111,
              "#46039f"
             ],
             [
              0.2222222222222222,
              "#7201a8"
             ],
             [
              0.3333333333333333,
              "#9c179e"
             ],
             [
              0.4444444444444444,
              "#bd3786"
             ],
             [
              0.5555555555555556,
              "#d8576b"
             ],
             [
              0.6666666666666666,
              "#ed7953"
             ],
             [
              0.7777777777777778,
              "#fb9f3a"
             ],
             [
              0.8888888888888888,
              "#fdca26"
             ],
             [
              1,
              "#f0f921"
             ]
            ],
            "type": "heatmapgl"
           }
          ],
          "histogram": [
           {
            "marker": {
             "pattern": {
              "fillmode": "overlay",
              "size": 10,
              "solidity": 0.2
             }
            },
            "type": "histogram"
           }
          ],
          "histogram2d": [
           {
            "colorbar": {
             "outlinewidth": 0,
             "ticks": ""
            },
            "colorscale": [
             [
              0,
              "#0d0887"
             ],
             [
              0.1111111111111111,
              "#46039f"
             ],
             [
              0.2222222222222222,
              "#7201a8"
             ],
             [
              0.3333333333333333,
              "#9c179e"
             ],
             [
              0.4444444444444444,
              "#bd3786"
             ],
             [
              0.5555555555555556,
              "#d8576b"
             ],
             [
              0.6666666666666666,
              "#ed7953"
             ],
             [
              0.7777777777777778,
              "#fb9f3a"
             ],
             [
              0.8888888888888888,
              "#fdca26"
             ],
             [
              1,
              "#f0f921"
             ]
            ],
            "type": "histogram2d"
           }
          ],
          "histogram2dcontour": [
           {
            "colorbar": {
             "outlinewidth": 0,
             "ticks": ""
            },
            "colorscale": [
             [
              0,
              "#0d0887"
             ],
             [
              0.1111111111111111,
              "#46039f"
             ],
             [
              0.2222222222222222,
              "#7201a8"
             ],
             [
              0.3333333333333333,
              "#9c179e"
             ],
             [
              0.4444444444444444,
              "#bd3786"
             ],
             [
              0.5555555555555556,
              "#d8576b"
             ],
             [
              0.6666666666666666,
              "#ed7953"
             ],
             [
              0.7777777777777778,
              "#fb9f3a"
             ],
             [
              0.8888888888888888,
              "#fdca26"
             ],
             [
              1,
              "#f0f921"
             ]
            ],
            "type": "histogram2dcontour"
           }
          ],
          "mesh3d": [
           {
            "colorbar": {
             "outlinewidth": 0,
             "ticks": ""
            },
            "type": "mesh3d"
           }
          ],
          "parcoords": [
           {
            "line": {
             "colorbar": {
              "outlinewidth": 0,
              "ticks": ""
             }
            },
            "type": "parcoords"
           }
          ],
          "pie": [
           {
            "automargin": true,
            "type": "pie"
           }
          ],
          "scatter": [
           {
            "fillpattern": {
             "fillmode": "overlay",
             "size": 10,
             "solidity": 0.2
            },
            "type": "scatter"
           }
          ],
          "scatter3d": [
           {
            "line": {
             "colorbar": {
              "outlinewidth": 0,
              "ticks": ""
             }
            },
            "marker": {
             "colorbar": {
              "outlinewidth": 0,
              "ticks": ""
             }
            },
            "type": "scatter3d"
           }
          ],
          "scattercarpet": [
           {
            "marker": {
             "colorbar": {
              "outlinewidth": 0,
              "ticks": ""
             }
            },
            "type": "scattercarpet"
           }
          ],
          "scattergeo": [
           {
            "marker": {
             "colorbar": {
              "outlinewidth": 0,
              "ticks": ""
             }
            },
            "type": "scattergeo"
           }
          ],
          "scattergl": [
           {
            "marker": {
             "colorbar": {
              "outlinewidth": 0,
              "ticks": ""
             }
            },
            "type": "scattergl"
           }
          ],
          "scattermapbox": [
           {
            "marker": {
             "colorbar": {
              "outlinewidth": 0,
              "ticks": ""
             }
            },
            "type": "scattermapbox"
           }
          ],
          "scatterpolar": [
           {
            "marker": {
             "colorbar": {
              "outlinewidth": 0,
              "ticks": ""
             }
            },
            "type": "scatterpolar"
           }
          ],
          "scatterpolargl": [
           {
            "marker": {
             "colorbar": {
              "outlinewidth": 0,
              "ticks": ""
             }
            },
            "type": "scatterpolargl"
           }
          ],
          "scatterternary": [
           {
            "marker": {
             "colorbar": {
              "outlinewidth": 0,
              "ticks": ""
             }
            },
            "type": "scatterternary"
           }
          ],
          "surface": [
           {
            "colorbar": {
             "outlinewidth": 0,
             "ticks": ""
            },
            "colorscale": [
             [
              0,
              "#0d0887"
             ],
             [
              0.1111111111111111,
              "#46039f"
             ],
             [
              0.2222222222222222,
              "#7201a8"
             ],
             [
              0.3333333333333333,
              "#9c179e"
             ],
             [
              0.4444444444444444,
              "#bd3786"
             ],
             [
              0.5555555555555556,
              "#d8576b"
             ],
             [
              0.6666666666666666,
              "#ed7953"
             ],
             [
              0.7777777777777778,
              "#fb9f3a"
             ],
             [
              0.8888888888888888,
              "#fdca26"
             ],
             [
              1,
              "#f0f921"
             ]
            ],
            "type": "surface"
           }
          ],
          "table": [
           {
            "cells": {
             "fill": {
              "color": "#EBF0F8"
             },
             "line": {
              "color": "white"
             }
            },
            "header": {
             "fill": {
              "color": "#C8D4E3"
             },
             "line": {
              "color": "white"
             }
            },
            "type": "table"
           }
          ]
         },
         "layout": {
          "annotationdefaults": {
           "arrowcolor": "#2a3f5f",
           "arrowhead": 0,
           "arrowwidth": 1
          },
          "autotypenumbers": "strict",
          "coloraxis": {
           "colorbar": {
            "outlinewidth": 0,
            "ticks": ""
           }
          },
          "colorscale": {
           "diverging": [
            [
             0,
             "#8e0152"
            ],
            [
             0.1,
             "#c51b7d"
            ],
            [
             0.2,
             "#de77ae"
            ],
            [
             0.3,
             "#f1b6da"
            ],
            [
             0.4,
             "#fde0ef"
            ],
            [
             0.5,
             "#f7f7f7"
            ],
            [
             0.6,
             "#e6f5d0"
            ],
            [
             0.7,
             "#b8e186"
            ],
            [
             0.8,
             "#7fbc41"
            ],
            [
             0.9,
             "#4d9221"
            ],
            [
             1,
             "#276419"
            ]
           ],
           "sequential": [
            [
             0,
             "#0d0887"
            ],
            [
             0.1111111111111111,
             "#46039f"
            ],
            [
             0.2222222222222222,
             "#7201a8"
            ],
            [
             0.3333333333333333,
             "#9c179e"
            ],
            [
             0.4444444444444444,
             "#bd3786"
            ],
            [
             0.5555555555555556,
             "#d8576b"
            ],
            [
             0.6666666666666666,
             "#ed7953"
            ],
            [
             0.7777777777777778,
             "#fb9f3a"
            ],
            [
             0.8888888888888888,
             "#fdca26"
            ],
            [
             1,
             "#f0f921"
            ]
           ],
           "sequentialminus": [
            [
             0,
             "#0d0887"
            ],
            [
             0.1111111111111111,
             "#46039f"
            ],
            [
             0.2222222222222222,
             "#7201a8"
            ],
            [
             0.3333333333333333,
             "#9c179e"
            ],
            [
             0.4444444444444444,
             "#bd3786"
            ],
            [
             0.5555555555555556,
             "#d8576b"
            ],
            [
             0.6666666666666666,
             "#ed7953"
            ],
            [
             0.7777777777777778,
             "#fb9f3a"
            ],
            [
             0.8888888888888888,
             "#fdca26"
            ],
            [
             1,
             "#f0f921"
            ]
           ]
          },
          "colorway": [
           "#636efa",
           "#EF553B",
           "#00cc96",
           "#ab63fa",
           "#FFA15A",
           "#19d3f3",
           "#FF6692",
           "#B6E880",
           "#FF97FF",
           "#FECB52"
          ],
          "font": {
           "color": "#2a3f5f"
          },
          "geo": {
           "bgcolor": "white",
           "lakecolor": "white",
           "landcolor": "#E5ECF6",
           "showlakes": true,
           "showland": true,
           "subunitcolor": "white"
          },
          "hoverlabel": {
           "align": "left"
          },
          "hovermode": "closest",
          "mapbox": {
           "style": "light"
          },
          "paper_bgcolor": "white",
          "plot_bgcolor": "#E5ECF6",
          "polar": {
           "angularaxis": {
            "gridcolor": "white",
            "linecolor": "white",
            "ticks": ""
           },
           "bgcolor": "#E5ECF6",
           "radialaxis": {
            "gridcolor": "white",
            "linecolor": "white",
            "ticks": ""
           }
          },
          "scene": {
           "xaxis": {
            "backgroundcolor": "#E5ECF6",
            "gridcolor": "white",
            "gridwidth": 2,
            "linecolor": "white",
            "showbackground": true,
            "ticks": "",
            "zerolinecolor": "white"
           },
           "yaxis": {
            "backgroundcolor": "#E5ECF6",
            "gridcolor": "white",
            "gridwidth": 2,
            "linecolor": "white",
            "showbackground": true,
            "ticks": "",
            "zerolinecolor": "white"
           },
           "zaxis": {
            "backgroundcolor": "#E5ECF6",
            "gridcolor": "white",
            "gridwidth": 2,
            "linecolor": "white",
            "showbackground": true,
            "ticks": "",
            "zerolinecolor": "white"
           }
          },
          "shapedefaults": {
           "line": {
            "color": "#2a3f5f"
           }
          },
          "ternary": {
           "aaxis": {
            "gridcolor": "white",
            "linecolor": "white",
            "ticks": ""
           },
           "baxis": {
            "gridcolor": "white",
            "linecolor": "white",
            "ticks": ""
           },
           "bgcolor": "#E5ECF6",
           "caxis": {
            "gridcolor": "white",
            "linecolor": "white",
            "ticks": ""
           }
          },
          "title": {
           "x": 0.05
          },
          "xaxis": {
           "automargin": true,
           "gridcolor": "white",
           "linecolor": "white",
           "ticks": "",
           "title": {
            "standoff": 15
           },
           "zerolinecolor": "white",
           "zerolinewidth": 2
          },
          "yaxis": {
           "automargin": true,
           "gridcolor": "white",
           "linecolor": "white",
           "ticks": "",
           "title": {
            "standoff": 15
           },
           "zerolinecolor": "white",
           "zerolinewidth": 2
          }
         }
        },
        "title": {
         "text": "IoU scores distribution"
        },
        "violinmode": "group",
        "width": 1400,
        "xaxis": {
         "anchor": "y",
         "domain": [
          0,
          1
         ],
         "title": {
          "text": "Model"
         }
        },
        "yaxis": {
         "anchor": "x",
         "domain": [
          0,
          1
         ],
         "title": {
          "text": "IoU score"
         }
        }
       }
      }
     },
     "metadata": {},
     "output_type": "display_data"
    }
   ],
   "source": [
    "fig = px.violin(df_res[['iou_score_ig', 'iou_score_saliency','iou_score_deep_lift']], points=\"all\", color_discrete_sequence=['green'], title='IoU scores distribution', box=True, width=1400, height=700)\n",
    "fig.update_layout(xaxis_title='Model', yaxis_title='IoU score')\n",
    "fig.show()\n",
    "fig.write_html('iou_distribution_interpretabilities_optimized_box_binary.html')\n",
    "fig.write_image('iou_distribution_interpretabilities_optimized_box_binary.png')"
   ]
  },
  {
   "cell_type": "code",
   "execution_count": 14,
   "metadata": {},
   "outputs": [
    {
     "data": {
      "text/plain": [
       "Index(['dice_score_ig', 'iou_score_ig', 'dice_score_saliency',\n",
       "       'iou_score_saliency', 'dice_score_deep_lift', 'iou_score_deep_lift',\n",
       "       'label_ground_truth', 'label_predicted'],\n",
       "      dtype='object')"
      ]
     },
     "execution_count": 14,
     "metadata": {},
     "output_type": "execute_result"
    }
   ],
   "source": [
    "df_res.columns"
   ]
  },
  {
   "cell_type": "code",
   "execution_count": 15,
   "metadata": {},
   "outputs": [
    {
     "data": {
      "text/html": [
       "<div>\n",
       "<style scoped>\n",
       "    .dataframe tbody tr th:only-of-type {\n",
       "        vertical-align: middle;\n",
       "    }\n",
       "\n",
       "    .dataframe tbody tr th {\n",
       "        vertical-align: top;\n",
       "    }\n",
       "\n",
       "    .dataframe thead th {\n",
       "        text-align: right;\n",
       "    }\n",
       "</style>\n",
       "<table border=\"1\" class=\"dataframe\">\n",
       "  <thead>\n",
       "    <tr style=\"text-align: right;\">\n",
       "      <th></th>\n",
       "      <th>dice_score_ig</th>\n",
       "      <th>iou_score_ig</th>\n",
       "      <th>dice_score_saliency</th>\n",
       "      <th>iou_score_saliency</th>\n",
       "      <th>dice_score_deep_lift</th>\n",
       "      <th>iou_score_deep_lift</th>\n",
       "      <th>label_ground_truth</th>\n",
       "      <th>label_predicted</th>\n",
       "    </tr>\n",
       "  </thead>\n",
       "  <tbody>\n",
       "    <tr>\n",
       "      <th>ISIC_0012266</th>\n",
       "      <td>0.722</td>\n",
       "      <td>0.565</td>\n",
       "      <td>0.645</td>\n",
       "      <td>0.476</td>\n",
       "      <td>0.650</td>\n",
       "      <td>0.482</td>\n",
       "      <td>1</td>\n",
       "      <td>1</td>\n",
       "    </tr>\n",
       "    <tr>\n",
       "      <th>ISIC_0012510</th>\n",
       "      <td>0.429</td>\n",
       "      <td>0.273</td>\n",
       "      <td>0.525</td>\n",
       "      <td>0.355</td>\n",
       "      <td>0.439</td>\n",
       "      <td>0.282</td>\n",
       "      <td>1</td>\n",
       "      <td>1</td>\n",
       "    </tr>\n",
       "    <tr>\n",
       "      <th>ISIC_0012272</th>\n",
       "      <td>0.892</td>\n",
       "      <td>0.804</td>\n",
       "      <td>0.924</td>\n",
       "      <td>0.859</td>\n",
       "      <td>0.902</td>\n",
       "      <td>0.821</td>\n",
       "      <td>1</td>\n",
       "      <td>1</td>\n",
       "    </tr>\n",
       "    <tr>\n",
       "      <th>ISIC_0012240</th>\n",
       "      <td>0.701</td>\n",
       "      <td>0.540</td>\n",
       "      <td>0.718</td>\n",
       "      <td>0.560</td>\n",
       "      <td>0.725</td>\n",
       "      <td>0.568</td>\n",
       "      <td>1</td>\n",
       "      <td>1</td>\n",
       "    </tr>\n",
       "    <tr>\n",
       "      <th>ISIC_0012273</th>\n",
       "      <td>0.561</td>\n",
       "      <td>0.390</td>\n",
       "      <td>0.599</td>\n",
       "      <td>0.427</td>\n",
       "      <td>0.602</td>\n",
       "      <td>0.431</td>\n",
       "      <td>1</td>\n",
       "      <td>1</td>\n",
       "    </tr>\n",
       "    <tr>\n",
       "      <th>...</th>\n",
       "      <td>...</td>\n",
       "      <td>...</td>\n",
       "      <td>...</td>\n",
       "      <td>...</td>\n",
       "      <td>...</td>\n",
       "      <td>...</td>\n",
       "      <td>...</td>\n",
       "      <td>...</td>\n",
       "    </tr>\n",
       "    <tr>\n",
       "      <th>ISIC_0014703</th>\n",
       "      <td>0.580</td>\n",
       "      <td>0.409</td>\n",
       "      <td>0.596</td>\n",
       "      <td>0.425</td>\n",
       "      <td>0.564</td>\n",
       "      <td>0.393</td>\n",
       "      <td>0</td>\n",
       "      <td>0</td>\n",
       "    </tr>\n",
       "    <tr>\n",
       "      <th>ISIC_0014177</th>\n",
       "      <td>0.294</td>\n",
       "      <td>0.173</td>\n",
       "      <td>0.312</td>\n",
       "      <td>0.185</td>\n",
       "      <td>0.309</td>\n",
       "      <td>0.183</td>\n",
       "      <td>1</td>\n",
       "      <td>1</td>\n",
       "    </tr>\n",
       "    <tr>\n",
       "      <th>ISIC_0013617</th>\n",
       "      <td>0.902</td>\n",
       "      <td>0.822</td>\n",
       "      <td>0.904</td>\n",
       "      <td>0.824</td>\n",
       "      <td>0.916</td>\n",
       "      <td>0.846</td>\n",
       "      <td>0</td>\n",
       "      <td>0</td>\n",
       "    </tr>\n",
       "    <tr>\n",
       "      <th>ISIC_0014800</th>\n",
       "      <td>0.976</td>\n",
       "      <td>0.953</td>\n",
       "      <td>0.985</td>\n",
       "      <td>0.970</td>\n",
       "      <td>0.977</td>\n",
       "      <td>0.955</td>\n",
       "      <td>0</td>\n",
       "      <td>0</td>\n",
       "    </tr>\n",
       "    <tr>\n",
       "      <th>ISIC_0015142</th>\n",
       "      <td>0.803</td>\n",
       "      <td>0.671</td>\n",
       "      <td>0.775</td>\n",
       "      <td>0.632</td>\n",
       "      <td>0.779</td>\n",
       "      <td>0.638</td>\n",
       "      <td>0</td>\n",
       "      <td>0</td>\n",
       "    </tr>\n",
       "  </tbody>\n",
       "</table>\n",
       "<p>114 rows × 8 columns</p>\n",
       "</div>"
      ],
      "text/plain": [
       "              dice_score_ig  iou_score_ig  dice_score_saliency  \\\n",
       "ISIC_0012266          0.722         0.565                0.645   \n",
       "ISIC_0012510          0.429         0.273                0.525   \n",
       "ISIC_0012272          0.892         0.804                0.924   \n",
       "ISIC_0012240          0.701         0.540                0.718   \n",
       "ISIC_0012273          0.561         0.390                0.599   \n",
       "...                     ...           ...                  ...   \n",
       "ISIC_0014703          0.580         0.409                0.596   \n",
       "ISIC_0014177          0.294         0.173                0.312   \n",
       "ISIC_0013617          0.902         0.822                0.904   \n",
       "ISIC_0014800          0.976         0.953                0.985   \n",
       "ISIC_0015142          0.803         0.671                0.775   \n",
       "\n",
       "              iou_score_saliency  dice_score_deep_lift  iou_score_deep_lift  \\\n",
       "ISIC_0012266               0.476                 0.650                0.482   \n",
       "ISIC_0012510               0.355                 0.439                0.282   \n",
       "ISIC_0012272               0.859                 0.902                0.821   \n",
       "ISIC_0012240               0.560                 0.725                0.568   \n",
       "ISIC_0012273               0.427                 0.602                0.431   \n",
       "...                          ...                   ...                  ...   \n",
       "ISIC_0014703               0.425                 0.564                0.393   \n",
       "ISIC_0014177               0.185                 0.309                0.183   \n",
       "ISIC_0013617               0.824                 0.916                0.846   \n",
       "ISIC_0014800               0.970                 0.977                0.955   \n",
       "ISIC_0015142               0.632                 0.779                0.638   \n",
       "\n",
       "              label_ground_truth  label_predicted  \n",
       "ISIC_0012266                   1                1  \n",
       "ISIC_0012510                   1                1  \n",
       "ISIC_0012272                   1                1  \n",
       "ISIC_0012240                   1                1  \n",
       "ISIC_0012273                   1                1  \n",
       "...                          ...              ...  \n",
       "ISIC_0014703                   0                0  \n",
       "ISIC_0014177                   1                1  \n",
       "ISIC_0013617                   0                0  \n",
       "ISIC_0014800                   0                0  \n",
       "ISIC_0015142                   0                0  \n",
       "\n",
       "[114 rows x 8 columns]"
      ]
     },
     "execution_count": 15,
     "metadata": {},
     "output_type": "execute_result"
    }
   ],
   "source": [
    "df_res_giuste = df_res[df_res['label_ground_truth'] == df_res['label_predicted']]\n",
    "df_res_giuste"
   ]
  },
  {
   "cell_type": "code",
   "execution_count": 16,
   "metadata": {},
   "outputs": [
    {
     "data": {
      "text/html": [
       "<div>\n",
       "<style scoped>\n",
       "    .dataframe tbody tr th:only-of-type {\n",
       "        vertical-align: middle;\n",
       "    }\n",
       "\n",
       "    .dataframe tbody tr th {\n",
       "        vertical-align: top;\n",
       "    }\n",
       "\n",
       "    .dataframe thead th {\n",
       "        text-align: right;\n",
       "    }\n",
       "</style>\n",
       "<table border=\"1\" class=\"dataframe\">\n",
       "  <thead>\n",
       "    <tr style=\"text-align: right;\">\n",
       "      <th></th>\n",
       "      <th>dice_score_ig</th>\n",
       "      <th>dice_score_saliency</th>\n",
       "      <th>dice_score_deep_lift</th>\n",
       "    </tr>\n",
       "  </thead>\n",
       "  <tbody>\n",
       "    <tr>\n",
       "      <th>count</th>\n",
       "      <td>114.000000</td>\n",
       "      <td>114.000000</td>\n",
       "      <td>114.000000</td>\n",
       "    </tr>\n",
       "    <tr>\n",
       "      <th>mean</th>\n",
       "      <td>0.537509</td>\n",
       "      <td>0.550596</td>\n",
       "      <td>0.548982</td>\n",
       "    </tr>\n",
       "    <tr>\n",
       "      <th>std</th>\n",
       "      <td>0.241767</td>\n",
       "      <td>0.226936</td>\n",
       "      <td>0.234675</td>\n",
       "    </tr>\n",
       "    <tr>\n",
       "      <th>min</th>\n",
       "      <td>0.015000</td>\n",
       "      <td>0.003000</td>\n",
       "      <td>0.010000</td>\n",
       "    </tr>\n",
       "    <tr>\n",
       "      <th>25%</th>\n",
       "      <td>0.360000</td>\n",
       "      <td>0.382750</td>\n",
       "      <td>0.377000</td>\n",
       "    </tr>\n",
       "    <tr>\n",
       "      <th>50%</th>\n",
       "      <td>0.568000</td>\n",
       "      <td>0.567000</td>\n",
       "      <td>0.569000</td>\n",
       "    </tr>\n",
       "    <tr>\n",
       "      <th>75%</th>\n",
       "      <td>0.726000</td>\n",
       "      <td>0.724750</td>\n",
       "      <td>0.722500</td>\n",
       "    </tr>\n",
       "    <tr>\n",
       "      <th>max</th>\n",
       "      <td>0.976000</td>\n",
       "      <td>0.985000</td>\n",
       "      <td>0.977000</td>\n",
       "    </tr>\n",
       "  </tbody>\n",
       "</table>\n",
       "</div>"
      ],
      "text/plain": [
       "       dice_score_ig  dice_score_saliency  dice_score_deep_lift\n",
       "count     114.000000           114.000000            114.000000\n",
       "mean        0.537509             0.550596              0.548982\n",
       "std         0.241767             0.226936              0.234675\n",
       "min         0.015000             0.003000              0.010000\n",
       "25%         0.360000             0.382750              0.377000\n",
       "50%         0.568000             0.567000              0.569000\n",
       "75%         0.726000             0.724750              0.722500\n",
       "max         0.976000             0.985000              0.977000"
      ]
     },
     "execution_count": 16,
     "metadata": {},
     "output_type": "execute_result"
    }
   ],
   "source": [
    "df_res_giuste[['dice_score_ig', 'dice_score_saliency', 'dice_score_deep_lift']].describe()"
   ]
  },
  {
   "cell_type": "code",
   "execution_count": 17,
   "metadata": {},
   "outputs": [
    {
     "data": {
      "text/html": [
       "<div>\n",
       "<style scoped>\n",
       "    .dataframe tbody tr th:only-of-type {\n",
       "        vertical-align: middle;\n",
       "    }\n",
       "\n",
       "    .dataframe tbody tr th {\n",
       "        vertical-align: top;\n",
       "    }\n",
       "\n",
       "    .dataframe thead th {\n",
       "        text-align: right;\n",
       "    }\n",
       "</style>\n",
       "<table border=\"1\" class=\"dataframe\">\n",
       "  <thead>\n",
       "    <tr style=\"text-align: right;\">\n",
       "      <th></th>\n",
       "      <th>iou_score_ig</th>\n",
       "      <th>iou_score_saliency</th>\n",
       "      <th>iou_score_deep_lift</th>\n",
       "    </tr>\n",
       "  </thead>\n",
       "  <tbody>\n",
       "    <tr>\n",
       "      <th>count</th>\n",
       "      <td>114.000000</td>\n",
       "      <td>114.000000</td>\n",
       "      <td>114.000000</td>\n",
       "    </tr>\n",
       "    <tr>\n",
       "      <th>mean</th>\n",
       "      <td>0.404904</td>\n",
       "      <td>0.413754</td>\n",
       "      <td>0.414719</td>\n",
       "    </tr>\n",
       "    <tr>\n",
       "      <th>std</th>\n",
       "      <td>0.230803</td>\n",
       "      <td>0.221791</td>\n",
       "      <td>0.230213</td>\n",
       "    </tr>\n",
       "    <tr>\n",
       "      <th>min</th>\n",
       "      <td>0.007000</td>\n",
       "      <td>0.002000</td>\n",
       "      <td>0.005000</td>\n",
       "    </tr>\n",
       "    <tr>\n",
       "      <th>25%</th>\n",
       "      <td>0.219000</td>\n",
       "      <td>0.236500</td>\n",
       "      <td>0.232250</td>\n",
       "    </tr>\n",
       "    <tr>\n",
       "      <th>50%</th>\n",
       "      <td>0.397000</td>\n",
       "      <td>0.395500</td>\n",
       "      <td>0.397500</td>\n",
       "    </tr>\n",
       "    <tr>\n",
       "      <th>75%</th>\n",
       "      <td>0.569750</td>\n",
       "      <td>0.568500</td>\n",
       "      <td>0.565250</td>\n",
       "    </tr>\n",
       "    <tr>\n",
       "      <th>max</th>\n",
       "      <td>0.953000</td>\n",
       "      <td>0.970000</td>\n",
       "      <td>0.955000</td>\n",
       "    </tr>\n",
       "  </tbody>\n",
       "</table>\n",
       "</div>"
      ],
      "text/plain": [
       "       iou_score_ig  iou_score_saliency  iou_score_deep_lift\n",
       "count    114.000000          114.000000           114.000000\n",
       "mean       0.404904            0.413754             0.414719\n",
       "std        0.230803            0.221791             0.230213\n",
       "min        0.007000            0.002000             0.005000\n",
       "25%        0.219000            0.236500             0.232250\n",
       "50%        0.397000            0.395500             0.397500\n",
       "75%        0.569750            0.568500             0.565250\n",
       "max        0.953000            0.970000             0.955000"
      ]
     },
     "execution_count": 17,
     "metadata": {},
     "output_type": "execute_result"
    }
   ],
   "source": [
    "df_res_giuste[['iou_score_ig', 'iou_score_saliency','iou_score_deep_lift']].describe()"
   ]
  },
  {
   "cell_type": "code",
   "execution_count": 19,
   "metadata": {},
   "outputs": [
    {
     "data": {
      "application/vnd.plotly.v1+json": {
       "config": {
        "plotlyServerURL": "https://plot.ly"
       },
       "data": [
        {
         "alignmentgroup": "True",
         "box": {
          "visible": true
         },
         "hovertemplate": "variable=%{x}<br>value=%{y}<extra></extra>",
         "legendgroup": "",
         "marker": {
          "color": "darkblue"
         },
         "name": "",
         "offsetgroup": "",
         "orientation": "v",
         "points": "all",
         "scalegroup": "True",
         "showlegend": false,
         "type": "violin",
         "x": [
          "dice_score_ig",
          "dice_score_ig",
          "dice_score_ig",
          "dice_score_ig",
          "dice_score_ig",
          "dice_score_ig",
          "dice_score_ig",
          "dice_score_ig",
          "dice_score_ig",
          "dice_score_ig",
          "dice_score_ig",
          "dice_score_ig",
          "dice_score_ig",
          "dice_score_ig",
          "dice_score_ig",
          "dice_score_ig",
          "dice_score_ig",
          "dice_score_ig",
          "dice_score_ig",
          "dice_score_ig",
          "dice_score_ig",
          "dice_score_ig",
          "dice_score_ig",
          "dice_score_ig",
          "dice_score_ig",
          "dice_score_ig",
          "dice_score_ig",
          "dice_score_ig",
          "dice_score_ig",
          "dice_score_ig",
          "dice_score_ig",
          "dice_score_ig",
          "dice_score_ig",
          "dice_score_ig",
          "dice_score_ig",
          "dice_score_ig",
          "dice_score_ig",
          "dice_score_ig",
          "dice_score_ig",
          "dice_score_ig",
          "dice_score_ig",
          "dice_score_ig",
          "dice_score_ig",
          "dice_score_ig",
          "dice_score_ig",
          "dice_score_ig",
          "dice_score_ig",
          "dice_score_ig",
          "dice_score_ig",
          "dice_score_ig",
          "dice_score_ig",
          "dice_score_ig",
          "dice_score_ig",
          "dice_score_ig",
          "dice_score_ig",
          "dice_score_ig",
          "dice_score_ig",
          "dice_score_ig",
          "dice_score_ig",
          "dice_score_ig",
          "dice_score_ig",
          "dice_score_ig",
          "dice_score_ig",
          "dice_score_ig",
          "dice_score_ig",
          "dice_score_ig",
          "dice_score_ig",
          "dice_score_ig",
          "dice_score_ig",
          "dice_score_ig",
          "dice_score_ig",
          "dice_score_ig",
          "dice_score_ig",
          "dice_score_ig",
          "dice_score_ig",
          "dice_score_ig",
          "dice_score_ig",
          "dice_score_ig",
          "dice_score_ig",
          "dice_score_ig",
          "dice_score_ig",
          "dice_score_ig",
          "dice_score_ig",
          "dice_score_ig",
          "dice_score_ig",
          "dice_score_ig",
          "dice_score_ig",
          "dice_score_ig",
          "dice_score_ig",
          "dice_score_ig",
          "dice_score_ig",
          "dice_score_ig",
          "dice_score_ig",
          "dice_score_ig",
          "dice_score_ig",
          "dice_score_ig",
          "dice_score_ig",
          "dice_score_ig",
          "dice_score_ig",
          "dice_score_ig",
          "dice_score_ig",
          "dice_score_ig",
          "dice_score_ig",
          "dice_score_ig",
          "dice_score_ig",
          "dice_score_ig",
          "dice_score_ig",
          "dice_score_ig",
          "dice_score_ig",
          "dice_score_ig",
          "dice_score_ig",
          "dice_score_ig",
          "dice_score_ig",
          "dice_score_ig",
          "dice_score_saliency",
          "dice_score_saliency",
          "dice_score_saliency",
          "dice_score_saliency",
          "dice_score_saliency",
          "dice_score_saliency",
          "dice_score_saliency",
          "dice_score_saliency",
          "dice_score_saliency",
          "dice_score_saliency",
          "dice_score_saliency",
          "dice_score_saliency",
          "dice_score_saliency",
          "dice_score_saliency",
          "dice_score_saliency",
          "dice_score_saliency",
          "dice_score_saliency",
          "dice_score_saliency",
          "dice_score_saliency",
          "dice_score_saliency",
          "dice_score_saliency",
          "dice_score_saliency",
          "dice_score_saliency",
          "dice_score_saliency",
          "dice_score_saliency",
          "dice_score_saliency",
          "dice_score_saliency",
          "dice_score_saliency",
          "dice_score_saliency",
          "dice_score_saliency",
          "dice_score_saliency",
          "dice_score_saliency",
          "dice_score_saliency",
          "dice_score_saliency",
          "dice_score_saliency",
          "dice_score_saliency",
          "dice_score_saliency",
          "dice_score_saliency",
          "dice_score_saliency",
          "dice_score_saliency",
          "dice_score_saliency",
          "dice_score_saliency",
          "dice_score_saliency",
          "dice_score_saliency",
          "dice_score_saliency",
          "dice_score_saliency",
          "dice_score_saliency",
          "dice_score_saliency",
          "dice_score_saliency",
          "dice_score_saliency",
          "dice_score_saliency",
          "dice_score_saliency",
          "dice_score_saliency",
          "dice_score_saliency",
          "dice_score_saliency",
          "dice_score_saliency",
          "dice_score_saliency",
          "dice_score_saliency",
          "dice_score_saliency",
          "dice_score_saliency",
          "dice_score_saliency",
          "dice_score_saliency",
          "dice_score_saliency",
          "dice_score_saliency",
          "dice_score_saliency",
          "dice_score_saliency",
          "dice_score_saliency",
          "dice_score_saliency",
          "dice_score_saliency",
          "dice_score_saliency",
          "dice_score_saliency",
          "dice_score_saliency",
          "dice_score_saliency",
          "dice_score_saliency",
          "dice_score_saliency",
          "dice_score_saliency",
          "dice_score_saliency",
          "dice_score_saliency",
          "dice_score_saliency",
          "dice_score_saliency",
          "dice_score_saliency",
          "dice_score_saliency",
          "dice_score_saliency",
          "dice_score_saliency",
          "dice_score_saliency",
          "dice_score_saliency",
          "dice_score_saliency",
          "dice_score_saliency",
          "dice_score_saliency",
          "dice_score_saliency",
          "dice_score_saliency",
          "dice_score_saliency",
          "dice_score_saliency",
          "dice_score_saliency",
          "dice_score_saliency",
          "dice_score_saliency",
          "dice_score_saliency",
          "dice_score_saliency",
          "dice_score_saliency",
          "dice_score_saliency",
          "dice_score_saliency",
          "dice_score_saliency",
          "dice_score_saliency",
          "dice_score_saliency",
          "dice_score_saliency",
          "dice_score_saliency",
          "dice_score_saliency",
          "dice_score_saliency",
          "dice_score_saliency",
          "dice_score_saliency",
          "dice_score_saliency",
          "dice_score_saliency",
          "dice_score_saliency",
          "dice_score_saliency",
          "dice_score_deep_lift",
          "dice_score_deep_lift",
          "dice_score_deep_lift",
          "dice_score_deep_lift",
          "dice_score_deep_lift",
          "dice_score_deep_lift",
          "dice_score_deep_lift",
          "dice_score_deep_lift",
          "dice_score_deep_lift",
          "dice_score_deep_lift",
          "dice_score_deep_lift",
          "dice_score_deep_lift",
          "dice_score_deep_lift",
          "dice_score_deep_lift",
          "dice_score_deep_lift",
          "dice_score_deep_lift",
          "dice_score_deep_lift",
          "dice_score_deep_lift",
          "dice_score_deep_lift",
          "dice_score_deep_lift",
          "dice_score_deep_lift",
          "dice_score_deep_lift",
          "dice_score_deep_lift",
          "dice_score_deep_lift",
          "dice_score_deep_lift",
          "dice_score_deep_lift",
          "dice_score_deep_lift",
          "dice_score_deep_lift",
          "dice_score_deep_lift",
          "dice_score_deep_lift",
          "dice_score_deep_lift",
          "dice_score_deep_lift",
          "dice_score_deep_lift",
          "dice_score_deep_lift",
          "dice_score_deep_lift",
          "dice_score_deep_lift",
          "dice_score_deep_lift",
          "dice_score_deep_lift",
          "dice_score_deep_lift",
          "dice_score_deep_lift",
          "dice_score_deep_lift",
          "dice_score_deep_lift",
          "dice_score_deep_lift",
          "dice_score_deep_lift",
          "dice_score_deep_lift",
          "dice_score_deep_lift",
          "dice_score_deep_lift",
          "dice_score_deep_lift",
          "dice_score_deep_lift",
          "dice_score_deep_lift",
          "dice_score_deep_lift",
          "dice_score_deep_lift",
          "dice_score_deep_lift",
          "dice_score_deep_lift",
          "dice_score_deep_lift",
          "dice_score_deep_lift",
          "dice_score_deep_lift",
          "dice_score_deep_lift",
          "dice_score_deep_lift",
          "dice_score_deep_lift",
          "dice_score_deep_lift",
          "dice_score_deep_lift",
          "dice_score_deep_lift",
          "dice_score_deep_lift",
          "dice_score_deep_lift",
          "dice_score_deep_lift",
          "dice_score_deep_lift",
          "dice_score_deep_lift",
          "dice_score_deep_lift",
          "dice_score_deep_lift",
          "dice_score_deep_lift",
          "dice_score_deep_lift",
          "dice_score_deep_lift",
          "dice_score_deep_lift",
          "dice_score_deep_lift",
          "dice_score_deep_lift",
          "dice_score_deep_lift",
          "dice_score_deep_lift",
          "dice_score_deep_lift",
          "dice_score_deep_lift",
          "dice_score_deep_lift",
          "dice_score_deep_lift",
          "dice_score_deep_lift",
          "dice_score_deep_lift",
          "dice_score_deep_lift",
          "dice_score_deep_lift",
          "dice_score_deep_lift",
          "dice_score_deep_lift",
          "dice_score_deep_lift",
          "dice_score_deep_lift",
          "dice_score_deep_lift",
          "dice_score_deep_lift",
          "dice_score_deep_lift",
          "dice_score_deep_lift",
          "dice_score_deep_lift",
          "dice_score_deep_lift",
          "dice_score_deep_lift",
          "dice_score_deep_lift",
          "dice_score_deep_lift",
          "dice_score_deep_lift",
          "dice_score_deep_lift",
          "dice_score_deep_lift",
          "dice_score_deep_lift",
          "dice_score_deep_lift",
          "dice_score_deep_lift",
          "dice_score_deep_lift",
          "dice_score_deep_lift",
          "dice_score_deep_lift",
          "dice_score_deep_lift",
          "dice_score_deep_lift",
          "dice_score_deep_lift",
          "dice_score_deep_lift",
          "dice_score_deep_lift",
          "dice_score_deep_lift"
         ],
         "x0": " ",
         "xaxis": "x",
         "y": [
          0.722,
          0.429,
          0.892,
          0.701,
          0.561,
          0.472,
          0.489,
          0.318,
          0.774,
          0.456,
          0.583,
          0.049,
          0.823,
          0.475,
          0.419,
          0.498,
          0.09,
          0.254,
          0.641,
          0.797,
          0.812,
          0.449,
          0.048,
          0.675,
          0.717,
          0.809,
          0.755,
          0.751,
          0.607,
          0.333,
          0.801,
          0.325,
          0.363,
          0.112,
          0.015,
          0.658,
          0.201,
          0.255,
          0.176,
          0.533,
          0.372,
          0.877,
          0.627,
          0.837,
          0.78,
          0.463,
          0.024,
          0.655,
          0.567,
          0.617,
          0.262,
          0.359,
          0.467,
          0.452,
          0.46,
          0.197,
          0.571,
          0.356,
          0.419,
          0.816,
          0.168,
          0.421,
          0.505,
          0.016,
          0.912,
          0.569,
          0.261,
          0.778,
          0.644,
          0.174,
          0.493,
          0.275,
          0.625,
          0.726,
          0.246,
          0.343,
          0.531,
          0.927,
          0.408,
          0.71,
          0.546,
          0.639,
          0.607,
          0.533,
          0.736,
          0.703,
          0.29,
          0.393,
          0.769,
          0.689,
          0.807,
          0.252,
          0.828,
          0.687,
          0.642,
          0.163,
          0.872,
          0.614,
          0.295,
          0.463,
          0.868,
          0.596,
          0.377,
          0.933,
          0.726,
          0.843,
          0.653,
          0.6,
          0.849,
          0.58,
          0.294,
          0.902,
          0.976,
          0.803,
          0.645,
          0.525,
          0.924,
          0.718,
          0.599,
          0.49,
          0.452,
          0.221,
          0.779,
          0.453,
          0.564,
          0.084,
          0.812,
          0.526,
          0.379,
          0.554,
          0.098,
          0.351,
          0.666,
          0.806,
          0.75,
          0.49,
          0.8,
          0.709,
          0.729,
          0.003,
          0.758,
          0.726,
          0.605,
          0.382,
          0.844,
          0.345,
          0.469,
          0.212,
          0.009,
          0.651,
          0.539,
          0.277,
          0.18,
          0.452,
          0.391,
          0.874,
          0.375,
          0.807,
          0.795,
          0.475,
          0.443,
          0.641,
          0.652,
          0.63,
          0.307,
          0.344,
          0.469,
          0.45,
          0.598,
          0.273,
          0.574,
          0.351,
          0.393,
          0.843,
          0.427,
          0.385,
          0.535,
          0.016,
          0.918,
          0.607,
          0.323,
          0.787,
          0.721,
          0.173,
          0.517,
          0.278,
          0.628,
          0.685,
          0.288,
          0.346,
          0.522,
          0.927,
          0.398,
          0.608,
          0.554,
          0.614,
          0.586,
          0.541,
          0.719,
          0.775,
          0.262,
          0.505,
          0.784,
          0.712,
          0.811,
          0.256,
          0.802,
          0.593,
          0.65,
          0.18,
          0.845,
          0.624,
          0.379,
          0.427,
          0.875,
          0.504,
          0.359,
          0.944,
          0.719,
          0.846,
          0.57,
          0.578,
          0.832,
          0.596,
          0.312,
          0.904,
          0.985,
          0.775,
          0.65,
          0.439,
          0.902,
          0.725,
          0.602,
          0.427,
          0.476,
          0.221,
          0.77,
          0.456,
          0.711,
          0.097,
          0.828,
          0.61,
          0.517,
          0.49,
          0.1,
          0.289,
          0.653,
          0.808,
          0.821,
          0.377,
          0.806,
          0.703,
          0.718,
          0.82,
          0.754,
          0.724,
          0.597,
          0.38,
          0.664,
          0.356,
          0.3,
          0.095,
          0.01,
          0.641,
          0.608,
          0.262,
          0.178,
          0.428,
          0.376,
          0.902,
          0.395,
          0.853,
          0.821,
          0.185,
          0.424,
          0.668,
          0.588,
          0.628,
          0.264,
          0.35,
          0.453,
          0.466,
          0.505,
          0.29,
          0.548,
          0.377,
          0.388,
          0.827,
          0.176,
          0.462,
          0.53,
          0.016,
          0.911,
          0.66,
          0.278,
          0.826,
          0.667,
          0.169,
          0.512,
          0.282,
          0.639,
          0.703,
          0.295,
          0.335,
          0.534,
          0.93,
          0.406,
          0.632,
          0.492,
          0.541,
          0.628,
          0.662,
          0.62,
          0.776,
          0.284,
          0.347,
          0.787,
          0.696,
          0.872,
          0.26,
          0.796,
          0.678,
          0.656,
          0.177,
          0.882,
          0.646,
          0.288,
          0.426,
          0.862,
          0.514,
          0.383,
          0.945,
          0.715,
          0.865,
          0.538,
          0.574,
          0.845,
          0.564,
          0.309,
          0.916,
          0.977,
          0.779
         ],
         "y0": " ",
         "yaxis": "y"
        }
       ],
       "layout": {
        "height": 700,
        "legend": {
         "tracegroupgap": 0
        },
        "template": {
         "data": {
          "bar": [
           {
            "error_x": {
             "color": "#2a3f5f"
            },
            "error_y": {
             "color": "#2a3f5f"
            },
            "marker": {
             "line": {
              "color": "#E5ECF6",
              "width": 0.5
             },
             "pattern": {
              "fillmode": "overlay",
              "size": 10,
              "solidity": 0.2
             }
            },
            "type": "bar"
           }
          ],
          "barpolar": [
           {
            "marker": {
             "line": {
              "color": "#E5ECF6",
              "width": 0.5
             },
             "pattern": {
              "fillmode": "overlay",
              "size": 10,
              "solidity": 0.2
             }
            },
            "type": "barpolar"
           }
          ],
          "carpet": [
           {
            "aaxis": {
             "endlinecolor": "#2a3f5f",
             "gridcolor": "white",
             "linecolor": "white",
             "minorgridcolor": "white",
             "startlinecolor": "#2a3f5f"
            },
            "baxis": {
             "endlinecolor": "#2a3f5f",
             "gridcolor": "white",
             "linecolor": "white",
             "minorgridcolor": "white",
             "startlinecolor": "#2a3f5f"
            },
            "type": "carpet"
           }
          ],
          "choropleth": [
           {
            "colorbar": {
             "outlinewidth": 0,
             "ticks": ""
            },
            "type": "choropleth"
           }
          ],
          "contour": [
           {
            "colorbar": {
             "outlinewidth": 0,
             "ticks": ""
            },
            "colorscale": [
             [
              0,
              "#0d0887"
             ],
             [
              0.1111111111111111,
              "#46039f"
             ],
             [
              0.2222222222222222,
              "#7201a8"
             ],
             [
              0.3333333333333333,
              "#9c179e"
             ],
             [
              0.4444444444444444,
              "#bd3786"
             ],
             [
              0.5555555555555556,
              "#d8576b"
             ],
             [
              0.6666666666666666,
              "#ed7953"
             ],
             [
              0.7777777777777778,
              "#fb9f3a"
             ],
             [
              0.8888888888888888,
              "#fdca26"
             ],
             [
              1,
              "#f0f921"
             ]
            ],
            "type": "contour"
           }
          ],
          "contourcarpet": [
           {
            "colorbar": {
             "outlinewidth": 0,
             "ticks": ""
            },
            "type": "contourcarpet"
           }
          ],
          "heatmap": [
           {
            "colorbar": {
             "outlinewidth": 0,
             "ticks": ""
            },
            "colorscale": [
             [
              0,
              "#0d0887"
             ],
             [
              0.1111111111111111,
              "#46039f"
             ],
             [
              0.2222222222222222,
              "#7201a8"
             ],
             [
              0.3333333333333333,
              "#9c179e"
             ],
             [
              0.4444444444444444,
              "#bd3786"
             ],
             [
              0.5555555555555556,
              "#d8576b"
             ],
             [
              0.6666666666666666,
              "#ed7953"
             ],
             [
              0.7777777777777778,
              "#fb9f3a"
             ],
             [
              0.8888888888888888,
              "#fdca26"
             ],
             [
              1,
              "#f0f921"
             ]
            ],
            "type": "heatmap"
           }
          ],
          "heatmapgl": [
           {
            "colorbar": {
             "outlinewidth": 0,
             "ticks": ""
            },
            "colorscale": [
             [
              0,
              "#0d0887"
             ],
             [
              0.1111111111111111,
              "#46039f"
             ],
             [
              0.2222222222222222,
              "#7201a8"
             ],
             [
              0.3333333333333333,
              "#9c179e"
             ],
             [
              0.4444444444444444,
              "#bd3786"
             ],
             [
              0.5555555555555556,
              "#d8576b"
             ],
             [
              0.6666666666666666,
              "#ed7953"
             ],
             [
              0.7777777777777778,
              "#fb9f3a"
             ],
             [
              0.8888888888888888,
              "#fdca26"
             ],
             [
              1,
              "#f0f921"
             ]
            ],
            "type": "heatmapgl"
           }
          ],
          "histogram": [
           {
            "marker": {
             "pattern": {
              "fillmode": "overlay",
              "size": 10,
              "solidity": 0.2
             }
            },
            "type": "histogram"
           }
          ],
          "histogram2d": [
           {
            "colorbar": {
             "outlinewidth": 0,
             "ticks": ""
            },
            "colorscale": [
             [
              0,
              "#0d0887"
             ],
             [
              0.1111111111111111,
              "#46039f"
             ],
             [
              0.2222222222222222,
              "#7201a8"
             ],
             [
              0.3333333333333333,
              "#9c179e"
             ],
             [
              0.4444444444444444,
              "#bd3786"
             ],
             [
              0.5555555555555556,
              "#d8576b"
             ],
             [
              0.6666666666666666,
              "#ed7953"
             ],
             [
              0.7777777777777778,
              "#fb9f3a"
             ],
             [
              0.8888888888888888,
              "#fdca26"
             ],
             [
              1,
              "#f0f921"
             ]
            ],
            "type": "histogram2d"
           }
          ],
          "histogram2dcontour": [
           {
            "colorbar": {
             "outlinewidth": 0,
             "ticks": ""
            },
            "colorscale": [
             [
              0,
              "#0d0887"
             ],
             [
              0.1111111111111111,
              "#46039f"
             ],
             [
              0.2222222222222222,
              "#7201a8"
             ],
             [
              0.3333333333333333,
              "#9c179e"
             ],
             [
              0.4444444444444444,
              "#bd3786"
             ],
             [
              0.5555555555555556,
              "#d8576b"
             ],
             [
              0.6666666666666666,
              "#ed7953"
             ],
             [
              0.7777777777777778,
              "#fb9f3a"
             ],
             [
              0.8888888888888888,
              "#fdca26"
             ],
             [
              1,
              "#f0f921"
             ]
            ],
            "type": "histogram2dcontour"
           }
          ],
          "mesh3d": [
           {
            "colorbar": {
             "outlinewidth": 0,
             "ticks": ""
            },
            "type": "mesh3d"
           }
          ],
          "parcoords": [
           {
            "line": {
             "colorbar": {
              "outlinewidth": 0,
              "ticks": ""
             }
            },
            "type": "parcoords"
           }
          ],
          "pie": [
           {
            "automargin": true,
            "type": "pie"
           }
          ],
          "scatter": [
           {
            "fillpattern": {
             "fillmode": "overlay",
             "size": 10,
             "solidity": 0.2
            },
            "type": "scatter"
           }
          ],
          "scatter3d": [
           {
            "line": {
             "colorbar": {
              "outlinewidth": 0,
              "ticks": ""
             }
            },
            "marker": {
             "colorbar": {
              "outlinewidth": 0,
              "ticks": ""
             }
            },
            "type": "scatter3d"
           }
          ],
          "scattercarpet": [
           {
            "marker": {
             "colorbar": {
              "outlinewidth": 0,
              "ticks": ""
             }
            },
            "type": "scattercarpet"
           }
          ],
          "scattergeo": [
           {
            "marker": {
             "colorbar": {
              "outlinewidth": 0,
              "ticks": ""
             }
            },
            "type": "scattergeo"
           }
          ],
          "scattergl": [
           {
            "marker": {
             "colorbar": {
              "outlinewidth": 0,
              "ticks": ""
             }
            },
            "type": "scattergl"
           }
          ],
          "scattermapbox": [
           {
            "marker": {
             "colorbar": {
              "outlinewidth": 0,
              "ticks": ""
             }
            },
            "type": "scattermapbox"
           }
          ],
          "scatterpolar": [
           {
            "marker": {
             "colorbar": {
              "outlinewidth": 0,
              "ticks": ""
             }
            },
            "type": "scatterpolar"
           }
          ],
          "scatterpolargl": [
           {
            "marker": {
             "colorbar": {
              "outlinewidth": 0,
              "ticks": ""
             }
            },
            "type": "scatterpolargl"
           }
          ],
          "scatterternary": [
           {
            "marker": {
             "colorbar": {
              "outlinewidth": 0,
              "ticks": ""
             }
            },
            "type": "scatterternary"
           }
          ],
          "surface": [
           {
            "colorbar": {
             "outlinewidth": 0,
             "ticks": ""
            },
            "colorscale": [
             [
              0,
              "#0d0887"
             ],
             [
              0.1111111111111111,
              "#46039f"
             ],
             [
              0.2222222222222222,
              "#7201a8"
             ],
             [
              0.3333333333333333,
              "#9c179e"
             ],
             [
              0.4444444444444444,
              "#bd3786"
             ],
             [
              0.5555555555555556,
              "#d8576b"
             ],
             [
              0.6666666666666666,
              "#ed7953"
             ],
             [
              0.7777777777777778,
              "#fb9f3a"
             ],
             [
              0.8888888888888888,
              "#fdca26"
             ],
             [
              1,
              "#f0f921"
             ]
            ],
            "type": "surface"
           }
          ],
          "table": [
           {
            "cells": {
             "fill": {
              "color": "#EBF0F8"
             },
             "line": {
              "color": "white"
             }
            },
            "header": {
             "fill": {
              "color": "#C8D4E3"
             },
             "line": {
              "color": "white"
             }
            },
            "type": "table"
           }
          ]
         },
         "layout": {
          "annotationdefaults": {
           "arrowcolor": "#2a3f5f",
           "arrowhead": 0,
           "arrowwidth": 1
          },
          "autotypenumbers": "strict",
          "coloraxis": {
           "colorbar": {
            "outlinewidth": 0,
            "ticks": ""
           }
          },
          "colorscale": {
           "diverging": [
            [
             0,
             "#8e0152"
            ],
            [
             0.1,
             "#c51b7d"
            ],
            [
             0.2,
             "#de77ae"
            ],
            [
             0.3,
             "#f1b6da"
            ],
            [
             0.4,
             "#fde0ef"
            ],
            [
             0.5,
             "#f7f7f7"
            ],
            [
             0.6,
             "#e6f5d0"
            ],
            [
             0.7,
             "#b8e186"
            ],
            [
             0.8,
             "#7fbc41"
            ],
            [
             0.9,
             "#4d9221"
            ],
            [
             1,
             "#276419"
            ]
           ],
           "sequential": [
            [
             0,
             "#0d0887"
            ],
            [
             0.1111111111111111,
             "#46039f"
            ],
            [
             0.2222222222222222,
             "#7201a8"
            ],
            [
             0.3333333333333333,
             "#9c179e"
            ],
            [
             0.4444444444444444,
             "#bd3786"
            ],
            [
             0.5555555555555556,
             "#d8576b"
            ],
            [
             0.6666666666666666,
             "#ed7953"
            ],
            [
             0.7777777777777778,
             "#fb9f3a"
            ],
            [
             0.8888888888888888,
             "#fdca26"
            ],
            [
             1,
             "#f0f921"
            ]
           ],
           "sequentialminus": [
            [
             0,
             "#0d0887"
            ],
            [
             0.1111111111111111,
             "#46039f"
            ],
            [
             0.2222222222222222,
             "#7201a8"
            ],
            [
             0.3333333333333333,
             "#9c179e"
            ],
            [
             0.4444444444444444,
             "#bd3786"
            ],
            [
             0.5555555555555556,
             "#d8576b"
            ],
            [
             0.6666666666666666,
             "#ed7953"
            ],
            [
             0.7777777777777778,
             "#fb9f3a"
            ],
            [
             0.8888888888888888,
             "#fdca26"
            ],
            [
             1,
             "#f0f921"
            ]
           ]
          },
          "colorway": [
           "#636efa",
           "#EF553B",
           "#00cc96",
           "#ab63fa",
           "#FFA15A",
           "#19d3f3",
           "#FF6692",
           "#B6E880",
           "#FF97FF",
           "#FECB52"
          ],
          "font": {
           "color": "#2a3f5f"
          },
          "geo": {
           "bgcolor": "white",
           "lakecolor": "white",
           "landcolor": "#E5ECF6",
           "showlakes": true,
           "showland": true,
           "subunitcolor": "white"
          },
          "hoverlabel": {
           "align": "left"
          },
          "hovermode": "closest",
          "mapbox": {
           "style": "light"
          },
          "paper_bgcolor": "white",
          "plot_bgcolor": "#E5ECF6",
          "polar": {
           "angularaxis": {
            "gridcolor": "white",
            "linecolor": "white",
            "ticks": ""
           },
           "bgcolor": "#E5ECF6",
           "radialaxis": {
            "gridcolor": "white",
            "linecolor": "white",
            "ticks": ""
           }
          },
          "scene": {
           "xaxis": {
            "backgroundcolor": "#E5ECF6",
            "gridcolor": "white",
            "gridwidth": 2,
            "linecolor": "white",
            "showbackground": true,
            "ticks": "",
            "zerolinecolor": "white"
           },
           "yaxis": {
            "backgroundcolor": "#E5ECF6",
            "gridcolor": "white",
            "gridwidth": 2,
            "linecolor": "white",
            "showbackground": true,
            "ticks": "",
            "zerolinecolor": "white"
           },
           "zaxis": {
            "backgroundcolor": "#E5ECF6",
            "gridcolor": "white",
            "gridwidth": 2,
            "linecolor": "white",
            "showbackground": true,
            "ticks": "",
            "zerolinecolor": "white"
           }
          },
          "shapedefaults": {
           "line": {
            "color": "#2a3f5f"
           }
          },
          "ternary": {
           "aaxis": {
            "gridcolor": "white",
            "linecolor": "white",
            "ticks": ""
           },
           "baxis": {
            "gridcolor": "white",
            "linecolor": "white",
            "ticks": ""
           },
           "bgcolor": "#E5ECF6",
           "caxis": {
            "gridcolor": "white",
            "linecolor": "white",
            "ticks": ""
           }
          },
          "title": {
           "x": 0.05
          },
          "xaxis": {
           "automargin": true,
           "gridcolor": "white",
           "linecolor": "white",
           "ticks": "",
           "title": {
            "standoff": 15
           },
           "zerolinecolor": "white",
           "zerolinewidth": 2
          },
          "yaxis": {
           "automargin": true,
           "gridcolor": "white",
           "linecolor": "white",
           "ticks": "",
           "title": {
            "standoff": 15
           },
           "zerolinecolor": "white",
           "zerolinewidth": 2
          }
         }
        },
        "title": {
         "text": "Dice scores distribution"
        },
        "violinmode": "group",
        "width": 1400,
        "xaxis": {
         "anchor": "y",
         "domain": [
          0,
          1
         ],
         "title": {
          "text": "Model"
         }
        },
        "yaxis": {
         "anchor": "x",
         "domain": [
          0,
          1
         ],
         "title": {
          "text": "Dice Score"
         }
        }
       }
      }
     },
     "metadata": {},
     "output_type": "display_data"
    }
   ],
   "source": [
    "fig = px.violin(df_res_giuste[['dice_score_ig', 'dice_score_saliency', 'dice_score_deep_lift']], points=\"all\", color_discrete_sequence=['darkblue'], title='Dice scores distribution', box=True, width=1400, height=700)\n",
    "fig.update_layout(xaxis_title='Model', yaxis_title='Dice Score')\n",
    "fig.write_html('dice_score_distribution_interpretabilities_giuste_optimized_box_binary.html')\n",
    "fig.write_image('dice_score_distribution_interpretabilities_giuste_optimized_box_binary.png')\n",
    "fig.show()"
   ]
  },
  {
   "cell_type": "code",
   "execution_count": 20,
   "metadata": {},
   "outputs": [
    {
     "data": {
      "application/vnd.plotly.v1+json": {
       "config": {
        "plotlyServerURL": "https://plot.ly"
       },
       "data": [
        {
         "alignmentgroup": "True",
         "box": {
          "visible": true
         },
         "hovertemplate": "variable=%{x}<br>value=%{y}<extra></extra>",
         "legendgroup": "",
         "marker": {
          "color": "green"
         },
         "name": "",
         "offsetgroup": "",
         "orientation": "v",
         "points": "all",
         "scalegroup": "True",
         "showlegend": false,
         "type": "violin",
         "x": [
          "iou_score_ig",
          "iou_score_ig",
          "iou_score_ig",
          "iou_score_ig",
          "iou_score_ig",
          "iou_score_ig",
          "iou_score_ig",
          "iou_score_ig",
          "iou_score_ig",
          "iou_score_ig",
          "iou_score_ig",
          "iou_score_ig",
          "iou_score_ig",
          "iou_score_ig",
          "iou_score_ig",
          "iou_score_ig",
          "iou_score_ig",
          "iou_score_ig",
          "iou_score_ig",
          "iou_score_ig",
          "iou_score_ig",
          "iou_score_ig",
          "iou_score_ig",
          "iou_score_ig",
          "iou_score_ig",
          "iou_score_ig",
          "iou_score_ig",
          "iou_score_ig",
          "iou_score_ig",
          "iou_score_ig",
          "iou_score_ig",
          "iou_score_ig",
          "iou_score_ig",
          "iou_score_ig",
          "iou_score_ig",
          "iou_score_ig",
          "iou_score_ig",
          "iou_score_ig",
          "iou_score_ig",
          "iou_score_ig",
          "iou_score_ig",
          "iou_score_ig",
          "iou_score_ig",
          "iou_score_ig",
          "iou_score_ig",
          "iou_score_ig",
          "iou_score_ig",
          "iou_score_ig",
          "iou_score_ig",
          "iou_score_ig",
          "iou_score_ig",
          "iou_score_ig",
          "iou_score_ig",
          "iou_score_ig",
          "iou_score_ig",
          "iou_score_ig",
          "iou_score_ig",
          "iou_score_ig",
          "iou_score_ig",
          "iou_score_ig",
          "iou_score_ig",
          "iou_score_ig",
          "iou_score_ig",
          "iou_score_ig",
          "iou_score_ig",
          "iou_score_ig",
          "iou_score_ig",
          "iou_score_ig",
          "iou_score_ig",
          "iou_score_ig",
          "iou_score_ig",
          "iou_score_ig",
          "iou_score_ig",
          "iou_score_ig",
          "iou_score_ig",
          "iou_score_ig",
          "iou_score_ig",
          "iou_score_ig",
          "iou_score_ig",
          "iou_score_ig",
          "iou_score_ig",
          "iou_score_ig",
          "iou_score_ig",
          "iou_score_ig",
          "iou_score_ig",
          "iou_score_ig",
          "iou_score_ig",
          "iou_score_ig",
          "iou_score_ig",
          "iou_score_ig",
          "iou_score_ig",
          "iou_score_ig",
          "iou_score_ig",
          "iou_score_ig",
          "iou_score_ig",
          "iou_score_ig",
          "iou_score_ig",
          "iou_score_ig",
          "iou_score_ig",
          "iou_score_ig",
          "iou_score_ig",
          "iou_score_ig",
          "iou_score_ig",
          "iou_score_ig",
          "iou_score_ig",
          "iou_score_ig",
          "iou_score_ig",
          "iou_score_ig",
          "iou_score_ig",
          "iou_score_ig",
          "iou_score_ig",
          "iou_score_ig",
          "iou_score_ig",
          "iou_score_ig",
          "iou_score_saliency",
          "iou_score_saliency",
          "iou_score_saliency",
          "iou_score_saliency",
          "iou_score_saliency",
          "iou_score_saliency",
          "iou_score_saliency",
          "iou_score_saliency",
          "iou_score_saliency",
          "iou_score_saliency",
          "iou_score_saliency",
          "iou_score_saliency",
          "iou_score_saliency",
          "iou_score_saliency",
          "iou_score_saliency",
          "iou_score_saliency",
          "iou_score_saliency",
          "iou_score_saliency",
          "iou_score_saliency",
          "iou_score_saliency",
          "iou_score_saliency",
          "iou_score_saliency",
          "iou_score_saliency",
          "iou_score_saliency",
          "iou_score_saliency",
          "iou_score_saliency",
          "iou_score_saliency",
          "iou_score_saliency",
          "iou_score_saliency",
          "iou_score_saliency",
          "iou_score_saliency",
          "iou_score_saliency",
          "iou_score_saliency",
          "iou_score_saliency",
          "iou_score_saliency",
          "iou_score_saliency",
          "iou_score_saliency",
          "iou_score_saliency",
          "iou_score_saliency",
          "iou_score_saliency",
          "iou_score_saliency",
          "iou_score_saliency",
          "iou_score_saliency",
          "iou_score_saliency",
          "iou_score_saliency",
          "iou_score_saliency",
          "iou_score_saliency",
          "iou_score_saliency",
          "iou_score_saliency",
          "iou_score_saliency",
          "iou_score_saliency",
          "iou_score_saliency",
          "iou_score_saliency",
          "iou_score_saliency",
          "iou_score_saliency",
          "iou_score_saliency",
          "iou_score_saliency",
          "iou_score_saliency",
          "iou_score_saliency",
          "iou_score_saliency",
          "iou_score_saliency",
          "iou_score_saliency",
          "iou_score_saliency",
          "iou_score_saliency",
          "iou_score_saliency",
          "iou_score_saliency",
          "iou_score_saliency",
          "iou_score_saliency",
          "iou_score_saliency",
          "iou_score_saliency",
          "iou_score_saliency",
          "iou_score_saliency",
          "iou_score_saliency",
          "iou_score_saliency",
          "iou_score_saliency",
          "iou_score_saliency",
          "iou_score_saliency",
          "iou_score_saliency",
          "iou_score_saliency",
          "iou_score_saliency",
          "iou_score_saliency",
          "iou_score_saliency",
          "iou_score_saliency",
          "iou_score_saliency",
          "iou_score_saliency",
          "iou_score_saliency",
          "iou_score_saliency",
          "iou_score_saliency",
          "iou_score_saliency",
          "iou_score_saliency",
          "iou_score_saliency",
          "iou_score_saliency",
          "iou_score_saliency",
          "iou_score_saliency",
          "iou_score_saliency",
          "iou_score_saliency",
          "iou_score_saliency",
          "iou_score_saliency",
          "iou_score_saliency",
          "iou_score_saliency",
          "iou_score_saliency",
          "iou_score_saliency",
          "iou_score_saliency",
          "iou_score_saliency",
          "iou_score_saliency",
          "iou_score_saliency",
          "iou_score_saliency",
          "iou_score_saliency",
          "iou_score_saliency",
          "iou_score_saliency",
          "iou_score_saliency",
          "iou_score_saliency",
          "iou_score_saliency",
          "iou_score_saliency",
          "iou_score_deep_lift",
          "iou_score_deep_lift",
          "iou_score_deep_lift",
          "iou_score_deep_lift",
          "iou_score_deep_lift",
          "iou_score_deep_lift",
          "iou_score_deep_lift",
          "iou_score_deep_lift",
          "iou_score_deep_lift",
          "iou_score_deep_lift",
          "iou_score_deep_lift",
          "iou_score_deep_lift",
          "iou_score_deep_lift",
          "iou_score_deep_lift",
          "iou_score_deep_lift",
          "iou_score_deep_lift",
          "iou_score_deep_lift",
          "iou_score_deep_lift",
          "iou_score_deep_lift",
          "iou_score_deep_lift",
          "iou_score_deep_lift",
          "iou_score_deep_lift",
          "iou_score_deep_lift",
          "iou_score_deep_lift",
          "iou_score_deep_lift",
          "iou_score_deep_lift",
          "iou_score_deep_lift",
          "iou_score_deep_lift",
          "iou_score_deep_lift",
          "iou_score_deep_lift",
          "iou_score_deep_lift",
          "iou_score_deep_lift",
          "iou_score_deep_lift",
          "iou_score_deep_lift",
          "iou_score_deep_lift",
          "iou_score_deep_lift",
          "iou_score_deep_lift",
          "iou_score_deep_lift",
          "iou_score_deep_lift",
          "iou_score_deep_lift",
          "iou_score_deep_lift",
          "iou_score_deep_lift",
          "iou_score_deep_lift",
          "iou_score_deep_lift",
          "iou_score_deep_lift",
          "iou_score_deep_lift",
          "iou_score_deep_lift",
          "iou_score_deep_lift",
          "iou_score_deep_lift",
          "iou_score_deep_lift",
          "iou_score_deep_lift",
          "iou_score_deep_lift",
          "iou_score_deep_lift",
          "iou_score_deep_lift",
          "iou_score_deep_lift",
          "iou_score_deep_lift",
          "iou_score_deep_lift",
          "iou_score_deep_lift",
          "iou_score_deep_lift",
          "iou_score_deep_lift",
          "iou_score_deep_lift",
          "iou_score_deep_lift",
          "iou_score_deep_lift",
          "iou_score_deep_lift",
          "iou_score_deep_lift",
          "iou_score_deep_lift",
          "iou_score_deep_lift",
          "iou_score_deep_lift",
          "iou_score_deep_lift",
          "iou_score_deep_lift",
          "iou_score_deep_lift",
          "iou_score_deep_lift",
          "iou_score_deep_lift",
          "iou_score_deep_lift",
          "iou_score_deep_lift",
          "iou_score_deep_lift",
          "iou_score_deep_lift",
          "iou_score_deep_lift",
          "iou_score_deep_lift",
          "iou_score_deep_lift",
          "iou_score_deep_lift",
          "iou_score_deep_lift",
          "iou_score_deep_lift",
          "iou_score_deep_lift",
          "iou_score_deep_lift",
          "iou_score_deep_lift",
          "iou_score_deep_lift",
          "iou_score_deep_lift",
          "iou_score_deep_lift",
          "iou_score_deep_lift",
          "iou_score_deep_lift",
          "iou_score_deep_lift",
          "iou_score_deep_lift",
          "iou_score_deep_lift",
          "iou_score_deep_lift",
          "iou_score_deep_lift",
          "iou_score_deep_lift",
          "iou_score_deep_lift",
          "iou_score_deep_lift",
          "iou_score_deep_lift",
          "iou_score_deep_lift",
          "iou_score_deep_lift",
          "iou_score_deep_lift",
          "iou_score_deep_lift",
          "iou_score_deep_lift",
          "iou_score_deep_lift",
          "iou_score_deep_lift",
          "iou_score_deep_lift",
          "iou_score_deep_lift",
          "iou_score_deep_lift",
          "iou_score_deep_lift",
          "iou_score_deep_lift",
          "iou_score_deep_lift",
          "iou_score_deep_lift"
         ],
         "x0": " ",
         "xaxis": "x",
         "y": [
          0.565,
          0.273,
          0.804,
          0.54,
          0.39,
          0.309,
          0.324,
          0.189,
          0.631,
          0.295,
          0.412,
          0.025,
          0.699,
          0.312,
          0.265,
          0.331,
          0.047,
          0.146,
          0.472,
          0.662,
          0.684,
          0.289,
          0.025,
          0.509,
          0.559,
          0.68,
          0.607,
          0.602,
          0.436,
          0.2,
          0.668,
          0.194,
          0.222,
          0.059,
          0.007,
          0.491,
          0.112,
          0.146,
          0.097,
          0.363,
          0.229,
          0.782,
          0.457,
          0.719,
          0.639,
          0.302,
          0.012,
          0.487,
          0.396,
          0.446,
          0.151,
          0.218,
          0.305,
          0.292,
          0.299,
          0.109,
          0.4,
          0.216,
          0.265,
          0.689,
          0.092,
          0.267,
          0.338,
          0.008,
          0.839,
          0.398,
          0.15,
          0.637,
          0.475,
          0.095,
          0.328,
          0.159,
          0.455,
          0.569,
          0.141,
          0.207,
          0.362,
          0.864,
          0.256,
          0.551,
          0.376,
          0.469,
          0.436,
          0.364,
          0.583,
          0.542,
          0.17,
          0.245,
          0.625,
          0.525,
          0.676,
          0.144,
          0.706,
          0.524,
          0.473,
          0.089,
          0.774,
          0.443,
          0.173,
          0.301,
          0.766,
          0.425,
          0.232,
          0.874,
          0.57,
          0.729,
          0.485,
          0.429,
          0.738,
          0.409,
          0.173,
          0.822,
          0.953,
          0.671,
          0.476,
          0.355,
          0.859,
          0.56,
          0.427,
          0.324,
          0.292,
          0.125,
          0.638,
          0.293,
          0.392,
          0.044,
          0.683,
          0.357,
          0.234,
          0.383,
          0.052,
          0.213,
          0.5,
          0.675,
          0.6,
          0.325,
          0.666,
          0.549,
          0.573,
          0.002,
          0.611,
          0.57,
          0.434,
          0.236,
          0.73,
          0.208,
          0.306,
          0.118,
          0.004,
          0.482,
          0.369,
          0.161,
          0.099,
          0.292,
          0.243,
          0.776,
          0.231,
          0.677,
          0.66,
          0.311,
          0.285,
          0.471,
          0.483,
          0.46,
          0.181,
          0.208,
          0.306,
          0.29,
          0.426,
          0.158,
          0.403,
          0.213,
          0.245,
          0.729,
          0.271,
          0.238,
          0.365,
          0.008,
          0.849,
          0.436,
          0.193,
          0.649,
          0.564,
          0.095,
          0.348,
          0.162,
          0.457,
          0.521,
          0.168,
          0.209,
          0.353,
          0.865,
          0.249,
          0.436,
          0.383,
          0.443,
          0.415,
          0.371,
          0.561,
          0.633,
          0.151,
          0.338,
          0.645,
          0.552,
          0.682,
          0.147,
          0.669,
          0.421,
          0.482,
          0.099,
          0.732,
          0.454,
          0.234,
          0.272,
          0.777,
          0.337,
          0.219,
          0.894,
          0.561,
          0.733,
          0.399,
          0.406,
          0.713,
          0.425,
          0.185,
          0.824,
          0.97,
          0.632,
          0.482,
          0.282,
          0.821,
          0.568,
          0.431,
          0.272,
          0.312,
          0.125,
          0.625,
          0.295,
          0.552,
          0.051,
          0.707,
          0.439,
          0.349,
          0.324,
          0.052,
          0.169,
          0.485,
          0.678,
          0.697,
          0.232,
          0.675,
          0.542,
          0.56,
          0.695,
          0.605,
          0.567,
          0.426,
          0.234,
          0.497,
          0.216,
          0.177,
          0.05,
          0.005,
          0.472,
          0.437,
          0.15,
          0.098,
          0.272,
          0.231,
          0.821,
          0.246,
          0.744,
          0.696,
          0.102,
          0.269,
          0.502,
          0.416,
          0.457,
          0.152,
          0.212,
          0.292,
          0.304,
          0.338,
          0.169,
          0.377,
          0.233,
          0.241,
          0.706,
          0.097,
          0.3,
          0.361,
          0.008,
          0.836,
          0.492,
          0.161,
          0.704,
          0.5,
          0.092,
          0.344,
          0.164,
          0.47,
          0.542,
          0.173,
          0.201,
          0.364,
          0.869,
          0.255,
          0.462,
          0.326,
          0.371,
          0.458,
          0.494,
          0.449,
          0.634,
          0.166,
          0.21,
          0.649,
          0.533,
          0.774,
          0.149,
          0.661,
          0.513,
          0.489,
          0.097,
          0.789,
          0.477,
          0.168,
          0.271,
          0.758,
          0.346,
          0.237,
          0.895,
          0.557,
          0.762,
          0.368,
          0.402,
          0.731,
          0.393,
          0.183,
          0.846,
          0.955,
          0.638
         ],
         "y0": " ",
         "yaxis": "y"
        }
       ],
       "layout": {
        "height": 700,
        "legend": {
         "tracegroupgap": 0
        },
        "template": {
         "data": {
          "bar": [
           {
            "error_x": {
             "color": "#2a3f5f"
            },
            "error_y": {
             "color": "#2a3f5f"
            },
            "marker": {
             "line": {
              "color": "#E5ECF6",
              "width": 0.5
             },
             "pattern": {
              "fillmode": "overlay",
              "size": 10,
              "solidity": 0.2
             }
            },
            "type": "bar"
           }
          ],
          "barpolar": [
           {
            "marker": {
             "line": {
              "color": "#E5ECF6",
              "width": 0.5
             },
             "pattern": {
              "fillmode": "overlay",
              "size": 10,
              "solidity": 0.2
             }
            },
            "type": "barpolar"
           }
          ],
          "carpet": [
           {
            "aaxis": {
             "endlinecolor": "#2a3f5f",
             "gridcolor": "white",
             "linecolor": "white",
             "minorgridcolor": "white",
             "startlinecolor": "#2a3f5f"
            },
            "baxis": {
             "endlinecolor": "#2a3f5f",
             "gridcolor": "white",
             "linecolor": "white",
             "minorgridcolor": "white",
             "startlinecolor": "#2a3f5f"
            },
            "type": "carpet"
           }
          ],
          "choropleth": [
           {
            "colorbar": {
             "outlinewidth": 0,
             "ticks": ""
            },
            "type": "choropleth"
           }
          ],
          "contour": [
           {
            "colorbar": {
             "outlinewidth": 0,
             "ticks": ""
            },
            "colorscale": [
             [
              0,
              "#0d0887"
             ],
             [
              0.1111111111111111,
              "#46039f"
             ],
             [
              0.2222222222222222,
              "#7201a8"
             ],
             [
              0.3333333333333333,
              "#9c179e"
             ],
             [
              0.4444444444444444,
              "#bd3786"
             ],
             [
              0.5555555555555556,
              "#d8576b"
             ],
             [
              0.6666666666666666,
              "#ed7953"
             ],
             [
              0.7777777777777778,
              "#fb9f3a"
             ],
             [
              0.8888888888888888,
              "#fdca26"
             ],
             [
              1,
              "#f0f921"
             ]
            ],
            "type": "contour"
           }
          ],
          "contourcarpet": [
           {
            "colorbar": {
             "outlinewidth": 0,
             "ticks": ""
            },
            "type": "contourcarpet"
           }
          ],
          "heatmap": [
           {
            "colorbar": {
             "outlinewidth": 0,
             "ticks": ""
            },
            "colorscale": [
             [
              0,
              "#0d0887"
             ],
             [
              0.1111111111111111,
              "#46039f"
             ],
             [
              0.2222222222222222,
              "#7201a8"
             ],
             [
              0.3333333333333333,
              "#9c179e"
             ],
             [
              0.4444444444444444,
              "#bd3786"
             ],
             [
              0.5555555555555556,
              "#d8576b"
             ],
             [
              0.6666666666666666,
              "#ed7953"
             ],
             [
              0.7777777777777778,
              "#fb9f3a"
             ],
             [
              0.8888888888888888,
              "#fdca26"
             ],
             [
              1,
              "#f0f921"
             ]
            ],
            "type": "heatmap"
           }
          ],
          "heatmapgl": [
           {
            "colorbar": {
             "outlinewidth": 0,
             "ticks": ""
            },
            "colorscale": [
             [
              0,
              "#0d0887"
             ],
             [
              0.1111111111111111,
              "#46039f"
             ],
             [
              0.2222222222222222,
              "#7201a8"
             ],
             [
              0.3333333333333333,
              "#9c179e"
             ],
             [
              0.4444444444444444,
              "#bd3786"
             ],
             [
              0.5555555555555556,
              "#d8576b"
             ],
             [
              0.6666666666666666,
              "#ed7953"
             ],
             [
              0.7777777777777778,
              "#fb9f3a"
             ],
             [
              0.8888888888888888,
              "#fdca26"
             ],
             [
              1,
              "#f0f921"
             ]
            ],
            "type": "heatmapgl"
           }
          ],
          "histogram": [
           {
            "marker": {
             "pattern": {
              "fillmode": "overlay",
              "size": 10,
              "solidity": 0.2
             }
            },
            "type": "histogram"
           }
          ],
          "histogram2d": [
           {
            "colorbar": {
             "outlinewidth": 0,
             "ticks": ""
            },
            "colorscale": [
             [
              0,
              "#0d0887"
             ],
             [
              0.1111111111111111,
              "#46039f"
             ],
             [
              0.2222222222222222,
              "#7201a8"
             ],
             [
              0.3333333333333333,
              "#9c179e"
             ],
             [
              0.4444444444444444,
              "#bd3786"
             ],
             [
              0.5555555555555556,
              "#d8576b"
             ],
             [
              0.6666666666666666,
              "#ed7953"
             ],
             [
              0.7777777777777778,
              "#fb9f3a"
             ],
             [
              0.8888888888888888,
              "#fdca26"
             ],
             [
              1,
              "#f0f921"
             ]
            ],
            "type": "histogram2d"
           }
          ],
          "histogram2dcontour": [
           {
            "colorbar": {
             "outlinewidth": 0,
             "ticks": ""
            },
            "colorscale": [
             [
              0,
              "#0d0887"
             ],
             [
              0.1111111111111111,
              "#46039f"
             ],
             [
              0.2222222222222222,
              "#7201a8"
             ],
             [
              0.3333333333333333,
              "#9c179e"
             ],
             [
              0.4444444444444444,
              "#bd3786"
             ],
             [
              0.5555555555555556,
              "#d8576b"
             ],
             [
              0.6666666666666666,
              "#ed7953"
             ],
             [
              0.7777777777777778,
              "#fb9f3a"
             ],
             [
              0.8888888888888888,
              "#fdca26"
             ],
             [
              1,
              "#f0f921"
             ]
            ],
            "type": "histogram2dcontour"
           }
          ],
          "mesh3d": [
           {
            "colorbar": {
             "outlinewidth": 0,
             "ticks": ""
            },
            "type": "mesh3d"
           }
          ],
          "parcoords": [
           {
            "line": {
             "colorbar": {
              "outlinewidth": 0,
              "ticks": ""
             }
            },
            "type": "parcoords"
           }
          ],
          "pie": [
           {
            "automargin": true,
            "type": "pie"
           }
          ],
          "scatter": [
           {
            "fillpattern": {
             "fillmode": "overlay",
             "size": 10,
             "solidity": 0.2
            },
            "type": "scatter"
           }
          ],
          "scatter3d": [
           {
            "line": {
             "colorbar": {
              "outlinewidth": 0,
              "ticks": ""
             }
            },
            "marker": {
             "colorbar": {
              "outlinewidth": 0,
              "ticks": ""
             }
            },
            "type": "scatter3d"
           }
          ],
          "scattercarpet": [
           {
            "marker": {
             "colorbar": {
              "outlinewidth": 0,
              "ticks": ""
             }
            },
            "type": "scattercarpet"
           }
          ],
          "scattergeo": [
           {
            "marker": {
             "colorbar": {
              "outlinewidth": 0,
              "ticks": ""
             }
            },
            "type": "scattergeo"
           }
          ],
          "scattergl": [
           {
            "marker": {
             "colorbar": {
              "outlinewidth": 0,
              "ticks": ""
             }
            },
            "type": "scattergl"
           }
          ],
          "scattermapbox": [
           {
            "marker": {
             "colorbar": {
              "outlinewidth": 0,
              "ticks": ""
             }
            },
            "type": "scattermapbox"
           }
          ],
          "scatterpolar": [
           {
            "marker": {
             "colorbar": {
              "outlinewidth": 0,
              "ticks": ""
             }
            },
            "type": "scatterpolar"
           }
          ],
          "scatterpolargl": [
           {
            "marker": {
             "colorbar": {
              "outlinewidth": 0,
              "ticks": ""
             }
            },
            "type": "scatterpolargl"
           }
          ],
          "scatterternary": [
           {
            "marker": {
             "colorbar": {
              "outlinewidth": 0,
              "ticks": ""
             }
            },
            "type": "scatterternary"
           }
          ],
          "surface": [
           {
            "colorbar": {
             "outlinewidth": 0,
             "ticks": ""
            },
            "colorscale": [
             [
              0,
              "#0d0887"
             ],
             [
              0.1111111111111111,
              "#46039f"
             ],
             [
              0.2222222222222222,
              "#7201a8"
             ],
             [
              0.3333333333333333,
              "#9c179e"
             ],
             [
              0.4444444444444444,
              "#bd3786"
             ],
             [
              0.5555555555555556,
              "#d8576b"
             ],
             [
              0.6666666666666666,
              "#ed7953"
             ],
             [
              0.7777777777777778,
              "#fb9f3a"
             ],
             [
              0.8888888888888888,
              "#fdca26"
             ],
             [
              1,
              "#f0f921"
             ]
            ],
            "type": "surface"
           }
          ],
          "table": [
           {
            "cells": {
             "fill": {
              "color": "#EBF0F8"
             },
             "line": {
              "color": "white"
             }
            },
            "header": {
             "fill": {
              "color": "#C8D4E3"
             },
             "line": {
              "color": "white"
             }
            },
            "type": "table"
           }
          ]
         },
         "layout": {
          "annotationdefaults": {
           "arrowcolor": "#2a3f5f",
           "arrowhead": 0,
           "arrowwidth": 1
          },
          "autotypenumbers": "strict",
          "coloraxis": {
           "colorbar": {
            "outlinewidth": 0,
            "ticks": ""
           }
          },
          "colorscale": {
           "diverging": [
            [
             0,
             "#8e0152"
            ],
            [
             0.1,
             "#c51b7d"
            ],
            [
             0.2,
             "#de77ae"
            ],
            [
             0.3,
             "#f1b6da"
            ],
            [
             0.4,
             "#fde0ef"
            ],
            [
             0.5,
             "#f7f7f7"
            ],
            [
             0.6,
             "#e6f5d0"
            ],
            [
             0.7,
             "#b8e186"
            ],
            [
             0.8,
             "#7fbc41"
            ],
            [
             0.9,
             "#4d9221"
            ],
            [
             1,
             "#276419"
            ]
           ],
           "sequential": [
            [
             0,
             "#0d0887"
            ],
            [
             0.1111111111111111,
             "#46039f"
            ],
            [
             0.2222222222222222,
             "#7201a8"
            ],
            [
             0.3333333333333333,
             "#9c179e"
            ],
            [
             0.4444444444444444,
             "#bd3786"
            ],
            [
             0.5555555555555556,
             "#d8576b"
            ],
            [
             0.6666666666666666,
             "#ed7953"
            ],
            [
             0.7777777777777778,
             "#fb9f3a"
            ],
            [
             0.8888888888888888,
             "#fdca26"
            ],
            [
             1,
             "#f0f921"
            ]
           ],
           "sequentialminus": [
            [
             0,
             "#0d0887"
            ],
            [
             0.1111111111111111,
             "#46039f"
            ],
            [
             0.2222222222222222,
             "#7201a8"
            ],
            [
             0.3333333333333333,
             "#9c179e"
            ],
            [
             0.4444444444444444,
             "#bd3786"
            ],
            [
             0.5555555555555556,
             "#d8576b"
            ],
            [
             0.6666666666666666,
             "#ed7953"
            ],
            [
             0.7777777777777778,
             "#fb9f3a"
            ],
            [
             0.8888888888888888,
             "#fdca26"
            ],
            [
             1,
             "#f0f921"
            ]
           ]
          },
          "colorway": [
           "#636efa",
           "#EF553B",
           "#00cc96",
           "#ab63fa",
           "#FFA15A",
           "#19d3f3",
           "#FF6692",
           "#B6E880",
           "#FF97FF",
           "#FECB52"
          ],
          "font": {
           "color": "#2a3f5f"
          },
          "geo": {
           "bgcolor": "white",
           "lakecolor": "white",
           "landcolor": "#E5ECF6",
           "showlakes": true,
           "showland": true,
           "subunitcolor": "white"
          },
          "hoverlabel": {
           "align": "left"
          },
          "hovermode": "closest",
          "mapbox": {
           "style": "light"
          },
          "paper_bgcolor": "white",
          "plot_bgcolor": "#E5ECF6",
          "polar": {
           "angularaxis": {
            "gridcolor": "white",
            "linecolor": "white",
            "ticks": ""
           },
           "bgcolor": "#E5ECF6",
           "radialaxis": {
            "gridcolor": "white",
            "linecolor": "white",
            "ticks": ""
           }
          },
          "scene": {
           "xaxis": {
            "backgroundcolor": "#E5ECF6",
            "gridcolor": "white",
            "gridwidth": 2,
            "linecolor": "white",
            "showbackground": true,
            "ticks": "",
            "zerolinecolor": "white"
           },
           "yaxis": {
            "backgroundcolor": "#E5ECF6",
            "gridcolor": "white",
            "gridwidth": 2,
            "linecolor": "white",
            "showbackground": true,
            "ticks": "",
            "zerolinecolor": "white"
           },
           "zaxis": {
            "backgroundcolor": "#E5ECF6",
            "gridcolor": "white",
            "gridwidth": 2,
            "linecolor": "white",
            "showbackground": true,
            "ticks": "",
            "zerolinecolor": "white"
           }
          },
          "shapedefaults": {
           "line": {
            "color": "#2a3f5f"
           }
          },
          "ternary": {
           "aaxis": {
            "gridcolor": "white",
            "linecolor": "white",
            "ticks": ""
           },
           "baxis": {
            "gridcolor": "white",
            "linecolor": "white",
            "ticks": ""
           },
           "bgcolor": "#E5ECF6",
           "caxis": {
            "gridcolor": "white",
            "linecolor": "white",
            "ticks": ""
           }
          },
          "title": {
           "x": 0.05
          },
          "xaxis": {
           "automargin": true,
           "gridcolor": "white",
           "linecolor": "white",
           "ticks": "",
           "title": {
            "standoff": 15
           },
           "zerolinecolor": "white",
           "zerolinewidth": 2
          },
          "yaxis": {
           "automargin": true,
           "gridcolor": "white",
           "linecolor": "white",
           "ticks": "",
           "title": {
            "standoff": 15
           },
           "zerolinecolor": "white",
           "zerolinewidth": 2
          }
         }
        },
        "title": {
         "text": "IoU scores distribution"
        },
        "violinmode": "group",
        "width": 1400,
        "xaxis": {
         "anchor": "y",
         "domain": [
          0,
          1
         ],
         "title": {
          "text": "Model"
         }
        },
        "yaxis": {
         "anchor": "x",
         "domain": [
          0,
          1
         ],
         "title": {
          "text": "IoU score"
         }
        }
       }
      }
     },
     "metadata": {},
     "output_type": "display_data"
    }
   ],
   "source": [
    "fig = px.violin(df_res_giuste[['iou_score_ig', 'iou_score_saliency','iou_score_deep_lift']], points=\"all\", color_discrete_sequence=['green'], title='IoU scores distribution', box=True, width=1400, height=700)\n",
    "fig.update_layout(xaxis_title='Model', yaxis_title='IoU score')\n",
    "fig.show()\n",
    "fig.write_html('iou_distribution_interpretabilities_giuste_optimized_box_binary.html')\n",
    "fig.write_image('iou_distribution_interpretabilities_giuste_optimized_box_binary.png')"
   ]
  }
 ],
 "metadata": {
  "kernelspec": {
   "display_name": "env",
   "language": "python",
   "name": "python3"
  },
  "language_info": {
   "codemirror_mode": {
    "name": "ipython",
    "version": 3
   },
   "file_extension": ".py",
   "mimetype": "text/x-python",
   "name": "python",
   "nbconvert_exporter": "python",
   "pygments_lexer": "ipython3",
   "version": "3.12.3"
  }
 },
 "nbformat": 4,
 "nbformat_minor": 2
}
