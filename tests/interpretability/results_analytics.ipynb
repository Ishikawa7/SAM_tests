{
 "cells": [
  {
   "cell_type": "code",
   "execution_count": 9,
   "metadata": {},
   "outputs": [],
   "source": [
    "import pandas as pd\n",
    "import numpy as np\n",
    "import plotly.express as px"
   ]
  },
  {
   "cell_type": "code",
   "execution_count": 13,
   "metadata": {},
   "outputs": [
    {
     "data": {
      "text/html": [
       "<div>\n",
       "<style scoped>\n",
       "    .dataframe tbody tr th:only-of-type {\n",
       "        vertical-align: middle;\n",
       "    }\n",
       "\n",
       "    .dataframe tbody tr th {\n",
       "        vertical-align: top;\n",
       "    }\n",
       "\n",
       "    .dataframe thead th {\n",
       "        text-align: right;\n",
       "    }\n",
       "</style>\n",
       "<table border=\"1\" class=\"dataframe\">\n",
       "  <thead>\n",
       "    <tr style=\"text-align: right;\">\n",
       "      <th></th>\n",
       "      <th>RL_test</th>\n",
       "      <th>RL_test_no_reward</th>\n",
       "    </tr>\n",
       "  </thead>\n",
       "  <tbody>\n",
       "    <tr>\n",
       "      <th>0</th>\n",
       "      <td>0.000</td>\n",
       "      <td>0.000</td>\n",
       "    </tr>\n",
       "    <tr>\n",
       "      <th>1</th>\n",
       "      <td>0.036</td>\n",
       "      <td>0.016</td>\n",
       "    </tr>\n",
       "    <tr>\n",
       "      <th>2</th>\n",
       "      <td>0.000</td>\n",
       "      <td>0.001</td>\n",
       "    </tr>\n",
       "    <tr>\n",
       "      <th>3</th>\n",
       "      <td>0.235</td>\n",
       "      <td>0.185</td>\n",
       "    </tr>\n",
       "    <tr>\n",
       "      <th>4</th>\n",
       "      <td>0.053</td>\n",
       "      <td>0.044</td>\n",
       "    </tr>\n",
       "    <tr>\n",
       "      <th>...</th>\n",
       "      <td>...</td>\n",
       "      <td>...</td>\n",
       "    </tr>\n",
       "    <tr>\n",
       "      <th>177</th>\n",
       "      <td>0.387</td>\n",
       "      <td>0.421</td>\n",
       "    </tr>\n",
       "    <tr>\n",
       "      <th>178</th>\n",
       "      <td>0.486</td>\n",
       "      <td>0.361</td>\n",
       "    </tr>\n",
       "    <tr>\n",
       "      <th>179</th>\n",
       "      <td>0.553</td>\n",
       "      <td>0.543</td>\n",
       "    </tr>\n",
       "    <tr>\n",
       "      <th>180</th>\n",
       "      <td>0.315</td>\n",
       "      <td>0.212</td>\n",
       "    </tr>\n",
       "    <tr>\n",
       "      <th>181</th>\n",
       "      <td>0.000</td>\n",
       "      <td>0.009</td>\n",
       "    </tr>\n",
       "  </tbody>\n",
       "</table>\n",
       "<p>182 rows × 2 columns</p>\n",
       "</div>"
      ],
      "text/plain": [
       "     RL_test  RL_test_no_reward\n",
       "0      0.000              0.000\n",
       "1      0.036              0.016\n",
       "2      0.000              0.001\n",
       "3      0.235              0.185\n",
       "4      0.053              0.044\n",
       "..       ...                ...\n",
       "177    0.387              0.421\n",
       "178    0.486              0.361\n",
       "179    0.553              0.543\n",
       "180    0.315              0.212\n",
       "181    0.000              0.009\n",
       "\n",
       "[182 rows x 2 columns]"
      ]
     },
     "execution_count": 13,
     "metadata": {},
     "output_type": "execute_result"
    }
   ],
   "source": [
    "df_res = pd.read_csv('iou_results.csv')\n",
    "df_res = df_res.round(3)\n",
    "# drop autoSAM2 column\n",
    "#df_res = df_res.drop(columns=['autoSAM2','RL_test_no_reward'])\n",
    "df_res = df_res[['RL_test','RL_test_no_reward']]\n",
    "df_res"
   ]
  },
  {
   "cell_type": "code",
   "execution_count": 14,
   "metadata": {},
   "outputs": [
    {
     "data": {
      "text/html": [
       "<div>\n",
       "<style scoped>\n",
       "    .dataframe tbody tr th:only-of-type {\n",
       "        vertical-align: middle;\n",
       "    }\n",
       "\n",
       "    .dataframe tbody tr th {\n",
       "        vertical-align: top;\n",
       "    }\n",
       "\n",
       "    .dataframe thead th {\n",
       "        text-align: right;\n",
       "    }\n",
       "</style>\n",
       "<table border=\"1\" class=\"dataframe\">\n",
       "  <thead>\n",
       "    <tr style=\"text-align: right;\">\n",
       "      <th></th>\n",
       "      <th>RL_test</th>\n",
       "      <th>RL_test_no_reward</th>\n",
       "    </tr>\n",
       "  </thead>\n",
       "  <tbody>\n",
       "    <tr>\n",
       "      <th>count</th>\n",
       "      <td>182.000000</td>\n",
       "      <td>182.000000</td>\n",
       "    </tr>\n",
       "    <tr>\n",
       "      <th>mean</th>\n",
       "      <td>0.233857</td>\n",
       "      <td>0.233357</td>\n",
       "    </tr>\n",
       "    <tr>\n",
       "      <th>std</th>\n",
       "      <td>0.184943</td>\n",
       "      <td>0.193565</td>\n",
       "    </tr>\n",
       "    <tr>\n",
       "      <th>min</th>\n",
       "      <td>0.000000</td>\n",
       "      <td>0.000000</td>\n",
       "    </tr>\n",
       "    <tr>\n",
       "      <th>25%</th>\n",
       "      <td>0.059250</td>\n",
       "      <td>0.045500</td>\n",
       "    </tr>\n",
       "    <tr>\n",
       "      <th>50%</th>\n",
       "      <td>0.230000</td>\n",
       "      <td>0.203500</td>\n",
       "    </tr>\n",
       "    <tr>\n",
       "      <th>75%</th>\n",
       "      <td>0.365250</td>\n",
       "      <td>0.393750</td>\n",
       "    </tr>\n",
       "    <tr>\n",
       "      <th>max</th>\n",
       "      <td>0.833000</td>\n",
       "      <td>0.762000</td>\n",
       "    </tr>\n",
       "  </tbody>\n",
       "</table>\n",
       "</div>"
      ],
      "text/plain": [
       "          RL_test  RL_test_no_reward\n",
       "count  182.000000         182.000000\n",
       "mean     0.233857           0.233357\n",
       "std      0.184943           0.193565\n",
       "min      0.000000           0.000000\n",
       "25%      0.059250           0.045500\n",
       "50%      0.230000           0.203500\n",
       "75%      0.365250           0.393750\n",
       "max      0.833000           0.762000"
      ]
     },
     "execution_count": 14,
     "metadata": {},
     "output_type": "execute_result"
    }
   ],
   "source": [
    "df_res.describe()"
   ]
  },
  {
   "cell_type": "code",
   "execution_count": 15,
   "metadata": {},
   "outputs": [
    {
     "data": {
      "application/vnd.plotly.v1+json": {
       "config": {
        "plotlyServerURL": "https://plot.ly"
       },
       "data": [
        {
         "alignmentgroup": "True",
         "box": {
          "visible": true
         },
         "hovertemplate": "variable=%{x}<br>value=%{y}<extra></extra>",
         "legendgroup": "",
         "marker": {
          "color": "darkblue"
         },
         "name": "",
         "offsetgroup": "",
         "orientation": "v",
         "points": "all",
         "scalegroup": "True",
         "showlegend": false,
         "type": "violin",
         "x": [
          "RL_test",
          "RL_test",
          "RL_test",
          "RL_test",
          "RL_test",
          "RL_test",
          "RL_test",
          "RL_test",
          "RL_test",
          "RL_test",
          "RL_test",
          "RL_test",
          "RL_test",
          "RL_test",
          "RL_test",
          "RL_test",
          "RL_test",
          "RL_test",
          "RL_test",
          "RL_test",
          "RL_test",
          "RL_test",
          "RL_test",
          "RL_test",
          "RL_test",
          "RL_test",
          "RL_test",
          "RL_test",
          "RL_test",
          "RL_test",
          "RL_test",
          "RL_test",
          "RL_test",
          "RL_test",
          "RL_test",
          "RL_test",
          "RL_test",
          "RL_test",
          "RL_test",
          "RL_test",
          "RL_test",
          "RL_test",
          "RL_test",
          "RL_test",
          "RL_test",
          "RL_test",
          "RL_test",
          "RL_test",
          "RL_test",
          "RL_test",
          "RL_test",
          "RL_test",
          "RL_test",
          "RL_test",
          "RL_test",
          "RL_test",
          "RL_test",
          "RL_test",
          "RL_test",
          "RL_test",
          "RL_test",
          "RL_test",
          "RL_test",
          "RL_test",
          "RL_test",
          "RL_test",
          "RL_test",
          "RL_test",
          "RL_test",
          "RL_test",
          "RL_test",
          "RL_test",
          "RL_test",
          "RL_test",
          "RL_test",
          "RL_test",
          "RL_test",
          "RL_test",
          "RL_test",
          "RL_test",
          "RL_test",
          "RL_test",
          "RL_test",
          "RL_test",
          "RL_test",
          "RL_test",
          "RL_test",
          "RL_test",
          "RL_test",
          "RL_test",
          "RL_test",
          "RL_test",
          "RL_test",
          "RL_test",
          "RL_test",
          "RL_test",
          "RL_test",
          "RL_test",
          "RL_test",
          "RL_test",
          "RL_test",
          "RL_test",
          "RL_test",
          "RL_test",
          "RL_test",
          "RL_test",
          "RL_test",
          "RL_test",
          "RL_test",
          "RL_test",
          "RL_test",
          "RL_test",
          "RL_test",
          "RL_test",
          "RL_test",
          "RL_test",
          "RL_test",
          "RL_test",
          "RL_test",
          "RL_test",
          "RL_test",
          "RL_test",
          "RL_test",
          "RL_test",
          "RL_test",
          "RL_test",
          "RL_test",
          "RL_test",
          "RL_test",
          "RL_test",
          "RL_test",
          "RL_test",
          "RL_test",
          "RL_test",
          "RL_test",
          "RL_test",
          "RL_test",
          "RL_test",
          "RL_test",
          "RL_test",
          "RL_test",
          "RL_test",
          "RL_test",
          "RL_test",
          "RL_test",
          "RL_test",
          "RL_test",
          "RL_test",
          "RL_test",
          "RL_test",
          "RL_test",
          "RL_test",
          "RL_test",
          "RL_test",
          "RL_test",
          "RL_test",
          "RL_test",
          "RL_test",
          "RL_test",
          "RL_test",
          "RL_test",
          "RL_test",
          "RL_test",
          "RL_test",
          "RL_test",
          "RL_test",
          "RL_test",
          "RL_test",
          "RL_test",
          "RL_test",
          "RL_test",
          "RL_test",
          "RL_test",
          "RL_test",
          "RL_test",
          "RL_test",
          "RL_test",
          "RL_test",
          "RL_test",
          "RL_test",
          "RL_test",
          "RL_test",
          "RL_test_no_reward",
          "RL_test_no_reward",
          "RL_test_no_reward",
          "RL_test_no_reward",
          "RL_test_no_reward",
          "RL_test_no_reward",
          "RL_test_no_reward",
          "RL_test_no_reward",
          "RL_test_no_reward",
          "RL_test_no_reward",
          "RL_test_no_reward",
          "RL_test_no_reward",
          "RL_test_no_reward",
          "RL_test_no_reward",
          "RL_test_no_reward",
          "RL_test_no_reward",
          "RL_test_no_reward",
          "RL_test_no_reward",
          "RL_test_no_reward",
          "RL_test_no_reward",
          "RL_test_no_reward",
          "RL_test_no_reward",
          "RL_test_no_reward",
          "RL_test_no_reward",
          "RL_test_no_reward",
          "RL_test_no_reward",
          "RL_test_no_reward",
          "RL_test_no_reward",
          "RL_test_no_reward",
          "RL_test_no_reward",
          "RL_test_no_reward",
          "RL_test_no_reward",
          "RL_test_no_reward",
          "RL_test_no_reward",
          "RL_test_no_reward",
          "RL_test_no_reward",
          "RL_test_no_reward",
          "RL_test_no_reward",
          "RL_test_no_reward",
          "RL_test_no_reward",
          "RL_test_no_reward",
          "RL_test_no_reward",
          "RL_test_no_reward",
          "RL_test_no_reward",
          "RL_test_no_reward",
          "RL_test_no_reward",
          "RL_test_no_reward",
          "RL_test_no_reward",
          "RL_test_no_reward",
          "RL_test_no_reward",
          "RL_test_no_reward",
          "RL_test_no_reward",
          "RL_test_no_reward",
          "RL_test_no_reward",
          "RL_test_no_reward",
          "RL_test_no_reward",
          "RL_test_no_reward",
          "RL_test_no_reward",
          "RL_test_no_reward",
          "RL_test_no_reward",
          "RL_test_no_reward",
          "RL_test_no_reward",
          "RL_test_no_reward",
          "RL_test_no_reward",
          "RL_test_no_reward",
          "RL_test_no_reward",
          "RL_test_no_reward",
          "RL_test_no_reward",
          "RL_test_no_reward",
          "RL_test_no_reward",
          "RL_test_no_reward",
          "RL_test_no_reward",
          "RL_test_no_reward",
          "RL_test_no_reward",
          "RL_test_no_reward",
          "RL_test_no_reward",
          "RL_test_no_reward",
          "RL_test_no_reward",
          "RL_test_no_reward",
          "RL_test_no_reward",
          "RL_test_no_reward",
          "RL_test_no_reward",
          "RL_test_no_reward",
          "RL_test_no_reward",
          "RL_test_no_reward",
          "RL_test_no_reward",
          "RL_test_no_reward",
          "RL_test_no_reward",
          "RL_test_no_reward",
          "RL_test_no_reward",
          "RL_test_no_reward",
          "RL_test_no_reward",
          "RL_test_no_reward",
          "RL_test_no_reward",
          "RL_test_no_reward",
          "RL_test_no_reward",
          "RL_test_no_reward",
          "RL_test_no_reward",
          "RL_test_no_reward",
          "RL_test_no_reward",
          "RL_test_no_reward",
          "RL_test_no_reward",
          "RL_test_no_reward",
          "RL_test_no_reward",
          "RL_test_no_reward",
          "RL_test_no_reward",
          "RL_test_no_reward",
          "RL_test_no_reward",
          "RL_test_no_reward",
          "RL_test_no_reward",
          "RL_test_no_reward",
          "RL_test_no_reward",
          "RL_test_no_reward",
          "RL_test_no_reward",
          "RL_test_no_reward",
          "RL_test_no_reward",
          "RL_test_no_reward",
          "RL_test_no_reward",
          "RL_test_no_reward",
          "RL_test_no_reward",
          "RL_test_no_reward",
          "RL_test_no_reward",
          "RL_test_no_reward",
          "RL_test_no_reward",
          "RL_test_no_reward",
          "RL_test_no_reward",
          "RL_test_no_reward",
          "RL_test_no_reward",
          "RL_test_no_reward",
          "RL_test_no_reward",
          "RL_test_no_reward",
          "RL_test_no_reward",
          "RL_test_no_reward",
          "RL_test_no_reward",
          "RL_test_no_reward",
          "RL_test_no_reward",
          "RL_test_no_reward",
          "RL_test_no_reward",
          "RL_test_no_reward",
          "RL_test_no_reward",
          "RL_test_no_reward",
          "RL_test_no_reward",
          "RL_test_no_reward",
          "RL_test_no_reward",
          "RL_test_no_reward",
          "RL_test_no_reward",
          "RL_test_no_reward",
          "RL_test_no_reward",
          "RL_test_no_reward",
          "RL_test_no_reward",
          "RL_test_no_reward",
          "RL_test_no_reward",
          "RL_test_no_reward",
          "RL_test_no_reward",
          "RL_test_no_reward",
          "RL_test_no_reward",
          "RL_test_no_reward",
          "RL_test_no_reward",
          "RL_test_no_reward",
          "RL_test_no_reward",
          "RL_test_no_reward",
          "RL_test_no_reward",
          "RL_test_no_reward",
          "RL_test_no_reward",
          "RL_test_no_reward",
          "RL_test_no_reward",
          "RL_test_no_reward",
          "RL_test_no_reward",
          "RL_test_no_reward",
          "RL_test_no_reward",
          "RL_test_no_reward",
          "RL_test_no_reward",
          "RL_test_no_reward",
          "RL_test_no_reward",
          "RL_test_no_reward",
          "RL_test_no_reward",
          "RL_test_no_reward",
          "RL_test_no_reward",
          "RL_test_no_reward",
          "RL_test_no_reward",
          "RL_test_no_reward",
          "RL_test_no_reward"
         ],
         "x0": " ",
         "xaxis": "x",
         "y": [
          0,
          0.036,
          0,
          0.235,
          0.053,
          0.007,
          0.379,
          0.011,
          0.258,
          0.132,
          0.184,
          0.24,
          0.088,
          0.481,
          0.52,
          0.272,
          0.405,
          0.092,
          0.502,
          0.321,
          0.046,
          0.401,
          0.172,
          0.273,
          0.172,
          0.017,
          0.434,
          0.101,
          0.162,
          0.021,
          0.273,
          0.002,
          0.567,
          0.295,
          0.256,
          0.177,
          0.281,
          0.721,
          0.314,
          0.296,
          0.191,
          0.013,
          0.063,
          0.334,
          0.497,
          0.046,
          0.24,
          0.009,
          0,
          0.375,
          0.01,
          0.076,
          0.427,
          0.034,
          0.001,
          0.356,
          0,
          0.394,
          0.116,
          0,
          0.333,
          0.468,
          0.674,
          0.146,
          0.216,
          0.307,
          0.346,
          0.241,
          0.031,
          0.259,
          0.446,
          0.173,
          0.024,
          0.023,
          0.289,
          0,
          0.122,
          0.354,
          0.308,
          0.265,
          0.019,
          0.435,
          0.085,
          0.465,
          0.006,
          0.006,
          0.457,
          0.413,
          0.037,
          0.404,
          0.446,
          0.424,
          0.074,
          0.833,
          0.005,
          0.108,
          0.448,
          0.121,
          0.026,
          0.001,
          0.354,
          0.477,
          0.184,
          0.369,
          0.156,
          0.53,
          0.069,
          0.363,
          0.28,
          0.451,
          0.01,
          0.197,
          0.057,
          0.368,
          0.005,
          0.351,
          0.266,
          0.005,
          0.347,
          0.35,
          0.093,
          0.631,
          0.483,
          0.023,
          0.174,
          0.495,
          0.12,
          0.119,
          0.258,
          0.495,
          0.221,
          0.526,
          0.273,
          0.016,
          0.077,
          0.225,
          0.133,
          0.323,
          0.028,
          0.114,
          0.058,
          0.1,
          0.366,
          0.003,
          0.344,
          0.476,
          0.272,
          0.126,
          0.163,
          0.573,
          0.045,
          0.1,
          0.141,
          0.007,
          0.259,
          0.292,
          0.334,
          0.072,
          0.266,
          0.326,
          0.452,
          0.409,
          0.456,
          0.674,
          0.264,
          0.033,
          0.133,
          0.037,
          0.039,
          0.169,
          0.326,
          0.183,
          0.484,
          0.358,
          0,
          0.183,
          0.065,
          0.387,
          0.486,
          0.553,
          0.315,
          0,
          0,
          0.016,
          0.001,
          0.185,
          0.044,
          0.049,
          0.261,
          0,
          0.133,
          0.045,
          0.16,
          0.4,
          0.11,
          0.378,
          0.557,
          0.263,
          0.398,
          0.109,
          0.511,
          0.354,
          0.024,
          0.46,
          0.196,
          0.424,
          0.152,
          0.005,
          0.471,
          0.043,
          0.189,
          0.02,
          0.169,
          0.001,
          0.547,
          0.036,
          0.207,
          0.209,
          0.432,
          0.705,
          0.318,
          0.38,
          0.088,
          0.086,
          0.005,
          0.352,
          0.407,
          0.013,
          0.285,
          0.007,
          0,
          0.275,
          0.061,
          0.044,
          0.286,
          0.049,
          0.139,
          0.339,
          0,
          0.39,
          0.05,
          0,
          0.159,
          0.487,
          0.659,
          0.231,
          0.2,
          0.423,
          0.5,
          0.285,
          0.048,
          0.414,
          0.46,
          0.003,
          0.032,
          0.031,
          0.32,
          0.001,
          0.089,
          0.408,
          0.512,
          0.295,
          0.019,
          0.602,
          0.082,
          0.293,
          0.121,
          0,
          0.51,
          0.504,
          0.014,
          0.022,
          0.459,
          0.366,
          0.09,
          0.762,
          0.007,
          0.042,
          0.427,
          0.196,
          0.042,
          0.001,
          0.396,
          0.395,
          0.195,
          0.319,
          0.212,
          0.463,
          0.108,
          0.368,
          0.676,
          0.396,
          0.019,
          0.003,
          0.029,
          0.425,
          0.007,
          0.653,
          0.001,
          0.006,
          0.354,
          0.304,
          0.07,
          0.574,
          0.239,
          0.044,
          0.172,
          0.399,
          0.065,
          0.161,
          0.29,
          0.468,
          0.382,
          0.336,
          0.258,
          0.029,
          0.061,
          0.154,
          0.052,
          0.226,
          0.068,
          0,
          0.195,
          0.109,
          0.427,
          0,
          0.254,
          0.669,
          0.198,
          0.356,
          0.161,
          0.552,
          0.198,
          0.045,
          0.264,
          0.03,
          0.276,
          0.274,
          0.367,
          0.073,
          0.424,
          0.442,
          0.466,
          0.294,
          0.38,
          0.507,
          0.268,
          0.105,
          0.123,
          0.022,
          0.054,
          0.354,
          0.398,
          0.208,
          0.652,
          0.193,
          0,
          0.209,
          0.047,
          0.421,
          0.361,
          0.543,
          0.212,
          0.009
         ],
         "y0": " ",
         "yaxis": "y"
        }
       ],
       "layout": {
        "height": 700,
        "legend": {
         "tracegroupgap": 0
        },
        "template": {
         "data": {
          "bar": [
           {
            "error_x": {
             "color": "#2a3f5f"
            },
            "error_y": {
             "color": "#2a3f5f"
            },
            "marker": {
             "line": {
              "color": "#E5ECF6",
              "width": 0.5
             },
             "pattern": {
              "fillmode": "overlay",
              "size": 10,
              "solidity": 0.2
             }
            },
            "type": "bar"
           }
          ],
          "barpolar": [
           {
            "marker": {
             "line": {
              "color": "#E5ECF6",
              "width": 0.5
             },
             "pattern": {
              "fillmode": "overlay",
              "size": 10,
              "solidity": 0.2
             }
            },
            "type": "barpolar"
           }
          ],
          "carpet": [
           {
            "aaxis": {
             "endlinecolor": "#2a3f5f",
             "gridcolor": "white",
             "linecolor": "white",
             "minorgridcolor": "white",
             "startlinecolor": "#2a3f5f"
            },
            "baxis": {
             "endlinecolor": "#2a3f5f",
             "gridcolor": "white",
             "linecolor": "white",
             "minorgridcolor": "white",
             "startlinecolor": "#2a3f5f"
            },
            "type": "carpet"
           }
          ],
          "choropleth": [
           {
            "colorbar": {
             "outlinewidth": 0,
             "ticks": ""
            },
            "type": "choropleth"
           }
          ],
          "contour": [
           {
            "colorbar": {
             "outlinewidth": 0,
             "ticks": ""
            },
            "colorscale": [
             [
              0,
              "#0d0887"
             ],
             [
              0.1111111111111111,
              "#46039f"
             ],
             [
              0.2222222222222222,
              "#7201a8"
             ],
             [
              0.3333333333333333,
              "#9c179e"
             ],
             [
              0.4444444444444444,
              "#bd3786"
             ],
             [
              0.5555555555555556,
              "#d8576b"
             ],
             [
              0.6666666666666666,
              "#ed7953"
             ],
             [
              0.7777777777777778,
              "#fb9f3a"
             ],
             [
              0.8888888888888888,
              "#fdca26"
             ],
             [
              1,
              "#f0f921"
             ]
            ],
            "type": "contour"
           }
          ],
          "contourcarpet": [
           {
            "colorbar": {
             "outlinewidth": 0,
             "ticks": ""
            },
            "type": "contourcarpet"
           }
          ],
          "heatmap": [
           {
            "colorbar": {
             "outlinewidth": 0,
             "ticks": ""
            },
            "colorscale": [
             [
              0,
              "#0d0887"
             ],
             [
              0.1111111111111111,
              "#46039f"
             ],
             [
              0.2222222222222222,
              "#7201a8"
             ],
             [
              0.3333333333333333,
              "#9c179e"
             ],
             [
              0.4444444444444444,
              "#bd3786"
             ],
             [
              0.5555555555555556,
              "#d8576b"
             ],
             [
              0.6666666666666666,
              "#ed7953"
             ],
             [
              0.7777777777777778,
              "#fb9f3a"
             ],
             [
              0.8888888888888888,
              "#fdca26"
             ],
             [
              1,
              "#f0f921"
             ]
            ],
            "type": "heatmap"
           }
          ],
          "heatmapgl": [
           {
            "colorbar": {
             "outlinewidth": 0,
             "ticks": ""
            },
            "colorscale": [
             [
              0,
              "#0d0887"
             ],
             [
              0.1111111111111111,
              "#46039f"
             ],
             [
              0.2222222222222222,
              "#7201a8"
             ],
             [
              0.3333333333333333,
              "#9c179e"
             ],
             [
              0.4444444444444444,
              "#bd3786"
             ],
             [
              0.5555555555555556,
              "#d8576b"
             ],
             [
              0.6666666666666666,
              "#ed7953"
             ],
             [
              0.7777777777777778,
              "#fb9f3a"
             ],
             [
              0.8888888888888888,
              "#fdca26"
             ],
             [
              1,
              "#f0f921"
             ]
            ],
            "type": "heatmapgl"
           }
          ],
          "histogram": [
           {
            "marker": {
             "pattern": {
              "fillmode": "overlay",
              "size": 10,
              "solidity": 0.2
             }
            },
            "type": "histogram"
           }
          ],
          "histogram2d": [
           {
            "colorbar": {
             "outlinewidth": 0,
             "ticks": ""
            },
            "colorscale": [
             [
              0,
              "#0d0887"
             ],
             [
              0.1111111111111111,
              "#46039f"
             ],
             [
              0.2222222222222222,
              "#7201a8"
             ],
             [
              0.3333333333333333,
              "#9c179e"
             ],
             [
              0.4444444444444444,
              "#bd3786"
             ],
             [
              0.5555555555555556,
              "#d8576b"
             ],
             [
              0.6666666666666666,
              "#ed7953"
             ],
             [
              0.7777777777777778,
              "#fb9f3a"
             ],
             [
              0.8888888888888888,
              "#fdca26"
             ],
             [
              1,
              "#f0f921"
             ]
            ],
            "type": "histogram2d"
           }
          ],
          "histogram2dcontour": [
           {
            "colorbar": {
             "outlinewidth": 0,
             "ticks": ""
            },
            "colorscale": [
             [
              0,
              "#0d0887"
             ],
             [
              0.1111111111111111,
              "#46039f"
             ],
             [
              0.2222222222222222,
              "#7201a8"
             ],
             [
              0.3333333333333333,
              "#9c179e"
             ],
             [
              0.4444444444444444,
              "#bd3786"
             ],
             [
              0.5555555555555556,
              "#d8576b"
             ],
             [
              0.6666666666666666,
              "#ed7953"
             ],
             [
              0.7777777777777778,
              "#fb9f3a"
             ],
             [
              0.8888888888888888,
              "#fdca26"
             ],
             [
              1,
              "#f0f921"
             ]
            ],
            "type": "histogram2dcontour"
           }
          ],
          "mesh3d": [
           {
            "colorbar": {
             "outlinewidth": 0,
             "ticks": ""
            },
            "type": "mesh3d"
           }
          ],
          "parcoords": [
           {
            "line": {
             "colorbar": {
              "outlinewidth": 0,
              "ticks": ""
             }
            },
            "type": "parcoords"
           }
          ],
          "pie": [
           {
            "automargin": true,
            "type": "pie"
           }
          ],
          "scatter": [
           {
            "fillpattern": {
             "fillmode": "overlay",
             "size": 10,
             "solidity": 0.2
            },
            "type": "scatter"
           }
          ],
          "scatter3d": [
           {
            "line": {
             "colorbar": {
              "outlinewidth": 0,
              "ticks": ""
             }
            },
            "marker": {
             "colorbar": {
              "outlinewidth": 0,
              "ticks": ""
             }
            },
            "type": "scatter3d"
           }
          ],
          "scattercarpet": [
           {
            "marker": {
             "colorbar": {
              "outlinewidth": 0,
              "ticks": ""
             }
            },
            "type": "scattercarpet"
           }
          ],
          "scattergeo": [
           {
            "marker": {
             "colorbar": {
              "outlinewidth": 0,
              "ticks": ""
             }
            },
            "type": "scattergeo"
           }
          ],
          "scattergl": [
           {
            "marker": {
             "colorbar": {
              "outlinewidth": 0,
              "ticks": ""
             }
            },
            "type": "scattergl"
           }
          ],
          "scattermapbox": [
           {
            "marker": {
             "colorbar": {
              "outlinewidth": 0,
              "ticks": ""
             }
            },
            "type": "scattermapbox"
           }
          ],
          "scatterpolar": [
           {
            "marker": {
             "colorbar": {
              "outlinewidth": 0,
              "ticks": ""
             }
            },
            "type": "scatterpolar"
           }
          ],
          "scatterpolargl": [
           {
            "marker": {
             "colorbar": {
              "outlinewidth": 0,
              "ticks": ""
             }
            },
            "type": "scatterpolargl"
           }
          ],
          "scatterternary": [
           {
            "marker": {
             "colorbar": {
              "outlinewidth": 0,
              "ticks": ""
             }
            },
            "type": "scatterternary"
           }
          ],
          "surface": [
           {
            "colorbar": {
             "outlinewidth": 0,
             "ticks": ""
            },
            "colorscale": [
             [
              0,
              "#0d0887"
             ],
             [
              0.1111111111111111,
              "#46039f"
             ],
             [
              0.2222222222222222,
              "#7201a8"
             ],
             [
              0.3333333333333333,
              "#9c179e"
             ],
             [
              0.4444444444444444,
              "#bd3786"
             ],
             [
              0.5555555555555556,
              "#d8576b"
             ],
             [
              0.6666666666666666,
              "#ed7953"
             ],
             [
              0.7777777777777778,
              "#fb9f3a"
             ],
             [
              0.8888888888888888,
              "#fdca26"
             ],
             [
              1,
              "#f0f921"
             ]
            ],
            "type": "surface"
           }
          ],
          "table": [
           {
            "cells": {
             "fill": {
              "color": "#EBF0F8"
             },
             "line": {
              "color": "white"
             }
            },
            "header": {
             "fill": {
              "color": "#C8D4E3"
             },
             "line": {
              "color": "white"
             }
            },
            "type": "table"
           }
          ]
         },
         "layout": {
          "annotationdefaults": {
           "arrowcolor": "#2a3f5f",
           "arrowhead": 0,
           "arrowwidth": 1
          },
          "autotypenumbers": "strict",
          "coloraxis": {
           "colorbar": {
            "outlinewidth": 0,
            "ticks": ""
           }
          },
          "colorscale": {
           "diverging": [
            [
             0,
             "#8e0152"
            ],
            [
             0.1,
             "#c51b7d"
            ],
            [
             0.2,
             "#de77ae"
            ],
            [
             0.3,
             "#f1b6da"
            ],
            [
             0.4,
             "#fde0ef"
            ],
            [
             0.5,
             "#f7f7f7"
            ],
            [
             0.6,
             "#e6f5d0"
            ],
            [
             0.7,
             "#b8e186"
            ],
            [
             0.8,
             "#7fbc41"
            ],
            [
             0.9,
             "#4d9221"
            ],
            [
             1,
             "#276419"
            ]
           ],
           "sequential": [
            [
             0,
             "#0d0887"
            ],
            [
             0.1111111111111111,
             "#46039f"
            ],
            [
             0.2222222222222222,
             "#7201a8"
            ],
            [
             0.3333333333333333,
             "#9c179e"
            ],
            [
             0.4444444444444444,
             "#bd3786"
            ],
            [
             0.5555555555555556,
             "#d8576b"
            ],
            [
             0.6666666666666666,
             "#ed7953"
            ],
            [
             0.7777777777777778,
             "#fb9f3a"
            ],
            [
             0.8888888888888888,
             "#fdca26"
            ],
            [
             1,
             "#f0f921"
            ]
           ],
           "sequentialminus": [
            [
             0,
             "#0d0887"
            ],
            [
             0.1111111111111111,
             "#46039f"
            ],
            [
             0.2222222222222222,
             "#7201a8"
            ],
            [
             0.3333333333333333,
             "#9c179e"
            ],
            [
             0.4444444444444444,
             "#bd3786"
            ],
            [
             0.5555555555555556,
             "#d8576b"
            ],
            [
             0.6666666666666666,
             "#ed7953"
            ],
            [
             0.7777777777777778,
             "#fb9f3a"
            ],
            [
             0.8888888888888888,
             "#fdca26"
            ],
            [
             1,
             "#f0f921"
            ]
           ]
          },
          "colorway": [
           "#636efa",
           "#EF553B",
           "#00cc96",
           "#ab63fa",
           "#FFA15A",
           "#19d3f3",
           "#FF6692",
           "#B6E880",
           "#FF97FF",
           "#FECB52"
          ],
          "font": {
           "color": "#2a3f5f"
          },
          "geo": {
           "bgcolor": "white",
           "lakecolor": "white",
           "landcolor": "#E5ECF6",
           "showlakes": true,
           "showland": true,
           "subunitcolor": "white"
          },
          "hoverlabel": {
           "align": "left"
          },
          "hovermode": "closest",
          "mapbox": {
           "style": "light"
          },
          "paper_bgcolor": "white",
          "plot_bgcolor": "#E5ECF6",
          "polar": {
           "angularaxis": {
            "gridcolor": "white",
            "linecolor": "white",
            "ticks": ""
           },
           "bgcolor": "#E5ECF6",
           "radialaxis": {
            "gridcolor": "white",
            "linecolor": "white",
            "ticks": ""
           }
          },
          "scene": {
           "xaxis": {
            "backgroundcolor": "#E5ECF6",
            "gridcolor": "white",
            "gridwidth": 2,
            "linecolor": "white",
            "showbackground": true,
            "ticks": "",
            "zerolinecolor": "white"
           },
           "yaxis": {
            "backgroundcolor": "#E5ECF6",
            "gridcolor": "white",
            "gridwidth": 2,
            "linecolor": "white",
            "showbackground": true,
            "ticks": "",
            "zerolinecolor": "white"
           },
           "zaxis": {
            "backgroundcolor": "#E5ECF6",
            "gridcolor": "white",
            "gridwidth": 2,
            "linecolor": "white",
            "showbackground": true,
            "ticks": "",
            "zerolinecolor": "white"
           }
          },
          "shapedefaults": {
           "line": {
            "color": "#2a3f5f"
           }
          },
          "ternary": {
           "aaxis": {
            "gridcolor": "white",
            "linecolor": "white",
            "ticks": ""
           },
           "baxis": {
            "gridcolor": "white",
            "linecolor": "white",
            "ticks": ""
           },
           "bgcolor": "#E5ECF6",
           "caxis": {
            "gridcolor": "white",
            "linecolor": "white",
            "ticks": ""
           }
          },
          "title": {
           "x": 0.05
          },
          "xaxis": {
           "automargin": true,
           "gridcolor": "white",
           "linecolor": "white",
           "ticks": "",
           "title": {
            "standoff": 15
           },
           "zerolinecolor": "white",
           "zerolinewidth": 2
          },
          "yaxis": {
           "automargin": true,
           "gridcolor": "white",
           "linecolor": "white",
           "ticks": "",
           "title": {
            "standoff": 15
           },
           "zerolinecolor": "white",
           "zerolinewidth": 2
          }
         }
        },
        "title": {
         "text": "IOU distribution"
        },
        "violinmode": "group",
        "width": 1400,
        "xaxis": {
         "anchor": "y",
         "domain": [
          0,
          1
         ],
         "title": {
          "text": "Model"
         }
        },
        "yaxis": {
         "anchor": "x",
         "domain": [
          0,
          1
         ],
         "title": {
          "text": "IOU"
         }
        }
       }
      }
     },
     "metadata": {},
     "output_type": "display_data"
    }
   ],
   "source": [
    "fig = px.violin(df_res, points=\"all\", color_discrete_sequence=['darkblue'], title='IOU distribution', box=True, width=1400, height=700)\n",
    "fig.update_layout(xaxis_title='Model', yaxis_title='IOU')\n",
    "fig.show()\n",
    "#fig.write_html('iou_distribution.html')"
   ]
  }
 ],
 "metadata": {
  "kernelspec": {
   "display_name": "env",
   "language": "python",
   "name": "python3"
  },
  "language_info": {
   "codemirror_mode": {
    "name": "ipython",
    "version": 3
   },
   "file_extension": ".py",
   "mimetype": "text/x-python",
   "name": "python",
   "nbconvert_exporter": "python",
   "pygments_lexer": "ipython3",
   "version": "3.12.3"
  }
 },
 "nbformat": 4,
 "nbformat_minor": 2
}
