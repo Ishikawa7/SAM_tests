{
 "cells": [
  {
   "cell_type": "code",
   "execution_count": 1,
   "metadata": {},
   "outputs": [
    {
     "name": "stderr",
     "output_type": "stream",
     "text": [
      "/home/davide/Desktop/SAM_tests/SAM_tests/env/lib/python3.12/site-packages/tqdm/auto.py:21: TqdmWarning: IProgress not found. Please update jupyter and ipywidgets. See https://ipywidgets.readthedocs.io/en/stable/user_install.html\n",
      "  from .autonotebook import tqdm as notebook_tqdm\n"
     ]
    }
   ],
   "source": [
    "import pathlib\n",
    "import matplotlib.pyplot as plt\n",
    "import numpy as np\n",
    "import pandas as pd\n",
    "from PIL import Image\n",
    "\n",
    "import torch\n",
    "from torch.utils.data import Dataset, DataLoader\n",
    "from torchvision.transforms import ToTensor\n",
    "import cv2\n",
    "\n",
    "from sam2.build_sam import build_sam2\n",
    "from sam2.sam2_image_predictor import SAM2ImagePredictor\n",
    "\n",
    "from sklearn.metrics import classification_report, confusion_matrix\n",
    "\n",
    "from captum.attr import IntegratedGradients\n",
    "from captum.attr import Saliency\n",
    "from captum.attr import DeepLift\n",
    "from pytorch_grad_cam import GradCAM"
   ]
  },
  {
   "cell_type": "code",
   "execution_count": 2,
   "metadata": {},
   "outputs": [
    {
     "name": "stdout",
     "output_type": "stream",
     "text": [
      "Using cuda device\n"
     ]
    }
   ],
   "source": [
    "device = (\n",
    "    \"cuda\"\n",
    "    if torch.cuda.is_available()\n",
    "    else \"mps\"\n",
    "    if torch.backends.mps.is_available()\n",
    "    else \"cpu\"\n",
    ")\n",
    "print(f\"Using {device} device\")"
   ]
  },
  {
   "cell_type": "code",
   "execution_count": 3,
   "metadata": {},
   "outputs": [],
   "source": [
    "# create a dataset and dataloader for the data\n",
    "data_dir_train = pathlib.Path('../../data/skincancer_new_processed/train/images')\n",
    "data_dir_test = pathlib.Path('../../data/skincancer_new_processed/test/images')"
   ]
  },
  {
   "cell_type": "code",
   "execution_count": 4,
   "metadata": {},
   "outputs": [],
   "source": [
    "ground_truth_file_test = pathlib.Path('../../data/skincancer_new_processed/test_GroundTruth2.csv')\n",
    "ground_truth_file_train = pathlib.Path('../../data/skincancer_new_processed/train_GroundTruth2.csv')"
   ]
  },
  {
   "cell_type": "code",
   "execution_count": 5,
   "metadata": {},
   "outputs": [],
   "source": [
    "mask_dir_train = pathlib.Path('../../data/skincancer_new_processed/train/masks')\n",
    "mask_dir_test = pathlib.Path('../../data/skincancer_new_processed/test/masks')"
   ]
  },
  {
   "cell_type": "code",
   "execution_count": 6,
   "metadata": {},
   "outputs": [],
   "source": [
    "train_ids = [f.stem for f in data_dir_train.glob(\"*.png\")]\n",
    "test_ids = [f.stem for f in data_dir_test.glob(\"*.png\")]"
   ]
  },
  {
   "cell_type": "code",
   "execution_count": 7,
   "metadata": {},
   "outputs": [],
   "source": [
    "#train_ids"
   ]
  },
  {
   "cell_type": "code",
   "execution_count": 8,
   "metadata": {},
   "outputs": [],
   "source": [
    "class Dataset_skincancer_custom(Dataset):\n",
    "    def __init__(self, image_dir, ground_truth_file, ids, mask_dir, transform=None):\n",
    "        \"\"\"\n",
    "        Args:\n",
    "            image_dir (pathlib.Path): Directory with all the images.\n",
    "            ground truth: num\n",
    "            transform (callable, optional): Optional additional transform to be applied on an image/mask.\n",
    "        \"\"\"\n",
    "        self.image_dir = image_dir\n",
    "        self.ground_truth_file = ground_truth_file\n",
    "        self.mask_dir = mask_dir\n",
    "        self.ids = ids\n",
    "        self.transform = transform\n",
    "        self.to_tensor = ToTensor()  # Define ToTensor transformation\n",
    "\n",
    "    def __len__(self):\n",
    "        return len(self.ids)\n",
    "\n",
    "    def __getitem__(self, idx):\n",
    "        name = self.ids[idx]\n",
    "        # Load image and mask\n",
    "        image = np.array(Image.open(self.image_dir / f\"{name}.png\").convert(\"RGB\"))\n",
    "        image = self.to_tensor(image)\n",
    "        mask = np.array(Image.open(self.mask_dir / f\"{name}_segmentation.png\").convert(\"L\"))\n",
    "        mask = self.to_tensor(mask)\n",
    "        \n",
    "        # Load ground truth\n",
    "        ground_truth_df = pd.read_csv(self.ground_truth_file)\n",
    "        ground_truth = ground_truth_df[ground_truth_df['image_id'] == name][['melanoma', 'seborrheic_keratosis', 'none']].values\n",
    "        ground_truth = torch.tensor(ground_truth, dtype=torch.float32)\n",
    "        ground_truth = ground_truth.squeeze()\n",
    "        #mask = np.array(mask)\n",
    "\n",
    "        # Apply ToTensor transformation\n",
    "        #image = self.to_tensor(image)\n",
    "        #mask = self.to_tensor(mask)\n",
    "\n",
    "\n",
    "        ## Apply additional transformations if provided\n",
    "        #if self.transform:\n",
    "        #    image = self.transform(image)\n",
    "        #    mask = self.transform(mask)\n",
    "        \n",
    "        #print(image)\n",
    "        #print(ground_truth)\n",
    "\n",
    "        return image, ground_truth, mask"
   ]
  },
  {
   "cell_type": "code",
   "execution_count": 9,
   "metadata": {},
   "outputs": [],
   "source": [
    "batch_size = 16"
   ]
  },
  {
   "cell_type": "code",
   "execution_count": 10,
   "metadata": {},
   "outputs": [],
   "source": [
    "# Create datasets with transformations\n",
    "dataset_train = Dataset_skincancer_custom(data_dir_train, ground_truth_file_train, train_ids, mask_dir_train)\n",
    "dataset_test = Dataset_skincancer_custom(data_dir_test, ground_truth_file_test, test_ids, mask_dir_test)\n",
    "\n",
    "# Create dataloaders\n",
    "train_loader = DataLoader(dataset_train, batch_size=batch_size, shuffle=True, num_workers=4)\n",
    "test_loader = DataLoader(dataset_test, batch_size=1, shuffle=False, num_workers=4)"
   ]
  },
  {
   "cell_type": "code",
   "execution_count": 11,
   "metadata": {},
   "outputs": [
    {
     "name": "stdout",
     "output_type": "stream",
     "text": [
      "[tensor([[[[0.0314, 0.0275, 0.0353,  ..., 0.1059, 0.0706, 0.0784],\n",
      "          [0.0314, 0.0196, 0.1529,  ..., 0.2392, 0.0627, 0.0784],\n",
      "          [0.0275, 0.0314, 0.3412,  ..., 0.4392, 0.0863, 0.0706],\n",
      "          ...,\n",
      "          [0.3922, 0.3490, 0.3412,  ..., 0.4824, 0.4627, 0.4471],\n",
      "          [0.3961, 0.3451, 0.3451,  ..., 0.5059, 0.4941, 0.4196],\n",
      "          [0.2784, 0.3451, 0.3451,  ..., 0.4941, 0.4706, 0.2706]],\n",
      "\n",
      "         [[0.0314, 0.0275, 0.0353,  ..., 0.1059, 0.0745, 0.0824],\n",
      "          [0.0314, 0.0196, 0.1412,  ..., 0.2314, 0.0627, 0.0784],\n",
      "          [0.0314, 0.0314, 0.3137,  ..., 0.4235, 0.0863, 0.0706],\n",
      "          ...,\n",
      "          [0.3137, 0.2471, 0.2275,  ..., 0.4588, 0.4353, 0.4235],\n",
      "          [0.3529, 0.2392, 0.2275,  ..., 0.4863, 0.4745, 0.4039],\n",
      "          [0.2549, 0.2431, 0.2314,  ..., 0.4706, 0.4471, 0.2588]],\n",
      "\n",
      "         [[0.0314, 0.0314, 0.0353,  ..., 0.1137, 0.0784, 0.0902],\n",
      "          [0.0314, 0.0196, 0.1412,  ..., 0.2353, 0.0706, 0.0863],\n",
      "          [0.0314, 0.0353, 0.3176,  ..., 0.4314, 0.0902, 0.0784],\n",
      "          ...,\n",
      "          [0.3176, 0.2353, 0.2157,  ..., 0.4745, 0.4471, 0.4314],\n",
      "          [0.3647, 0.2275, 0.2157,  ..., 0.5137, 0.4980, 0.4196],\n",
      "          [0.2706, 0.2314, 0.2157,  ..., 0.4941, 0.4667, 0.2667]]]]), tensor([[0., 0., 1.]]), tensor([[[[0., 0., 0.,  ..., 0., 0., 0.],\n",
      "          [0., 0., 0.,  ..., 0., 0., 0.],\n",
      "          [0., 0., 0.,  ..., 0., 0., 0.],\n",
      "          ...,\n",
      "          [0., 0., 0.,  ..., 0., 0., 0.],\n",
      "          [0., 0., 0.,  ..., 0., 0., 0.],\n",
      "          [0., 0., 0.,  ..., 0., 0., 0.]]]])]\n"
     ]
    }
   ],
   "source": [
    "for i, item in enumerate(test_loader):\n",
    "    print(item)\n",
    "    if i == 0:\n",
    "        break"
   ]
  },
  {
   "cell_type": "code",
   "execution_count": 12,
   "metadata": {},
   "outputs": [
    {
     "name": "stdout",
     "output_type": "stream",
     "text": [
      "[tensor([[[[0.1098, 0.1333, 0.2275,  ..., 0.1686, 0.2078, 0.2980],\n",
      "          [0.1176, 0.1373, 0.3725,  ..., 0.1804, 0.2392, 0.3294],\n",
      "          [0.1059, 0.1961, 0.5020,  ..., 0.2157, 0.2196, 0.2745],\n",
      "          ...,\n",
      "          [0.4902, 0.4941, 0.5020,  ..., 0.1608, 0.1294, 0.1294],\n",
      "          [0.4863, 0.4824, 0.4980,  ..., 0.1333, 0.1373, 0.1373],\n",
      "          [0.4196, 0.4784, 0.4941,  ..., 0.1373, 0.1490, 0.1294]],\n",
      "\n",
      "         [[0.1098, 0.1333, 0.2157,  ..., 0.1843, 0.2275, 0.3216],\n",
      "          [0.1176, 0.1333, 0.3451,  ..., 0.2039, 0.2588, 0.3490],\n",
      "          [0.1059, 0.1882, 0.4627,  ..., 0.2353, 0.2392, 0.3020],\n",
      "          ...,\n",
      "          [0.4510, 0.4510, 0.4667,  ..., 0.1608, 0.1255, 0.1333],\n",
      "          [0.4510, 0.4392, 0.4588,  ..., 0.1373, 0.1373, 0.1373],\n",
      "          [0.3922, 0.4392, 0.4510,  ..., 0.1412, 0.1490, 0.1294]],\n",
      "\n",
      "         [[0.1176, 0.1412, 0.2196,  ..., 0.2353, 0.2863, 0.3804],\n",
      "          [0.1255, 0.1451, 0.3412,  ..., 0.2667, 0.3137, 0.4118],\n",
      "          [0.1137, 0.1961, 0.4588,  ..., 0.2941, 0.3020, 0.3725],\n",
      "          ...,\n",
      "          [0.4549, 0.4588, 0.4706,  ..., 0.1804, 0.1451, 0.1490],\n",
      "          [0.4627, 0.4471, 0.4627,  ..., 0.1569, 0.1569, 0.1569],\n",
      "          [0.4078, 0.4471, 0.4549,  ..., 0.1569, 0.1725, 0.1490]]],\n",
      "\n",
      "\n",
      "        [[[0.8588, 0.8588, 0.8588,  ..., 0.8353, 0.8314, 0.8314],\n",
      "          [0.8667, 0.8745, 0.8706,  ..., 0.8471, 0.8431, 0.8392],\n",
      "          [0.8667, 0.8667, 0.8667,  ..., 0.8431, 0.8431, 0.8353],\n",
      "          ...,\n",
      "          [0.8392, 0.8431, 0.8431,  ..., 0.6824, 0.6824, 0.6784],\n",
      "          [0.8431, 0.8549, 0.8549,  ..., 0.6902, 0.6863, 0.6824],\n",
      "          [0.8471, 0.8471, 0.8471,  ..., 0.6941, 0.6863, 0.6863]],\n",
      "\n",
      "         [[0.7608, 0.7529, 0.7608,  ..., 0.7569, 0.7490, 0.7529],\n",
      "          [0.7569, 0.7569, 0.7608,  ..., 0.7569, 0.7451, 0.7412],\n",
      "          [0.7529, 0.7490, 0.7569,  ..., 0.7490, 0.7333, 0.7255],\n",
      "          ...,\n",
      "          [0.6784, 0.6824, 0.6980,  ..., 0.4902, 0.4941, 0.5059],\n",
      "          [0.6980, 0.7059, 0.7020,  ..., 0.5176, 0.5137, 0.4941],\n",
      "          [0.6980, 0.7098, 0.7137,  ..., 0.5255, 0.5137, 0.5020]],\n",
      "\n",
      "         [[0.6745, 0.6706, 0.6745,  ..., 0.7294, 0.7216, 0.7294],\n",
      "          [0.6745, 0.6667, 0.6784,  ..., 0.7333, 0.7216, 0.7216],\n",
      "          [0.6706, 0.6549, 0.6706,  ..., 0.7216, 0.7176, 0.7098],\n",
      "          ...,\n",
      "          [0.6078, 0.6235, 0.6431,  ..., 0.4745, 0.4824, 0.4784],\n",
      "          [0.6353, 0.6510, 0.6588,  ..., 0.4902, 0.4902, 0.4745],\n",
      "          [0.6431, 0.6471, 0.6627,  ..., 0.4902, 0.4863, 0.4902]]],\n",
      "\n",
      "\n",
      "        [[[0.1098, 0.1020, 0.1098,  ..., 0.1529, 0.1804, 0.1725],\n",
      "          [0.1137, 0.1137, 0.1176,  ..., 0.1451, 0.1725, 0.1765],\n",
      "          [0.1059, 0.1216, 0.1176,  ..., 0.1647, 0.1569, 0.1804],\n",
      "          ...,\n",
      "          [0.3176, 0.4314, 0.4353,  ..., 0.3529, 0.2980, 0.2627],\n",
      "          [0.2275, 0.3765, 0.4392,  ..., 0.3176, 0.2784, 0.2314],\n",
      "          [0.2000, 0.2784, 0.4078,  ..., 0.2902, 0.2510, 0.2039]],\n",
      "\n",
      "         [[0.0824, 0.0863, 0.0902,  ..., 0.1255, 0.1373, 0.1333],\n",
      "          [0.0824, 0.0824, 0.0902,  ..., 0.1137, 0.1294, 0.1373],\n",
      "          [0.0824, 0.0863, 0.0902,  ..., 0.1137, 0.1216, 0.1333],\n",
      "          ...,\n",
      "          [0.2314, 0.2902, 0.2941,  ..., 0.2353, 0.1922, 0.1608],\n",
      "          [0.1725, 0.2588, 0.2941,  ..., 0.2118, 0.1725, 0.1490],\n",
      "          [0.1569, 0.2118, 0.2745,  ..., 0.1922, 0.1569, 0.1373]],\n",
      "\n",
      "         [[0.0745, 0.0745, 0.0745,  ..., 0.1020, 0.1176, 0.1098],\n",
      "          [0.0745, 0.0745, 0.0824,  ..., 0.1059, 0.1176, 0.1216],\n",
      "          [0.0784, 0.0784, 0.0784,  ..., 0.1059, 0.1098, 0.1216],\n",
      "          ...,\n",
      "          [0.2000, 0.2196, 0.2314,  ..., 0.2353, 0.1882, 0.1647],\n",
      "          [0.1725, 0.2078, 0.2314,  ..., 0.2118, 0.1725, 0.1451],\n",
      "          [0.1569, 0.1922, 0.2196,  ..., 0.1922, 0.1529, 0.1373]]],\n",
      "\n",
      "\n",
      "        ...,\n",
      "\n",
      "\n",
      "        [[[0.3608, 0.4314, 0.4980,  ..., 0.0157, 0.0824, 0.0980],\n",
      "          [0.3725, 0.4745, 0.5098,  ..., 0.0235, 0.0510, 0.0784],\n",
      "          [0.4196, 0.5216, 0.5333,  ..., 0.0157, 0.0275, 0.0706],\n",
      "          ...,\n",
      "          [0.4118, 0.4196, 0.4588,  ..., 0.5529, 0.5412, 0.5529],\n",
      "          [0.4314, 0.4157, 0.4235,  ..., 0.5529, 0.5529, 0.5490],\n",
      "          [0.4353, 0.4157, 0.4235,  ..., 0.5569, 0.5569, 0.5451]],\n",
      "\n",
      "         [[0.2745, 0.3843, 0.4510,  ..., 0.4078, 0.4039, 0.3843],\n",
      "          [0.3020, 0.4314, 0.4667,  ..., 0.4118, 0.4078, 0.3843],\n",
      "          [0.3725, 0.4745, 0.5020,  ..., 0.4000, 0.4157, 0.3922],\n",
      "          ...,\n",
      "          [0.3020, 0.2941, 0.3882,  ..., 0.4902, 0.4863, 0.5020],\n",
      "          [0.3333, 0.2941, 0.3176,  ..., 0.4824, 0.4902, 0.4863],\n",
      "          [0.3451, 0.2980, 0.3059,  ..., 0.4824, 0.4902, 0.4745]],\n",
      "\n",
      "         [[0.2039, 0.3333, 0.4000,  ..., 0.5804, 0.5255, 0.5059],\n",
      "          [0.2471, 0.3804, 0.4196,  ..., 0.5961, 0.5529, 0.5098],\n",
      "          [0.3216, 0.4314, 0.4667,  ..., 0.6000, 0.5804, 0.5216],\n",
      "          ...,\n",
      "          [0.2549, 0.2471, 0.3490,  ..., 0.4157, 0.4235, 0.4431],\n",
      "          [0.2941, 0.2471, 0.2706,  ..., 0.4118, 0.4275, 0.4275],\n",
      "          [0.3059, 0.2510, 0.2588,  ..., 0.4196, 0.4275, 0.4157]]],\n",
      "\n",
      "\n",
      "        [[[0.2588, 0.4588, 0.6078,  ..., 0.4549, 0.4510, 0.4314],\n",
      "          [0.2824, 0.5686, 0.6118,  ..., 0.5294, 0.4078, 0.4196],\n",
      "          [0.4196, 0.5922, 0.6275,  ..., 0.6039, 0.3569, 0.4196],\n",
      "          ...,\n",
      "          [0.3294, 0.4706, 0.4784,  ..., 0.4275, 0.3059, 0.3490],\n",
      "          [0.2863, 0.4431, 0.4980,  ..., 0.4157, 0.3216, 0.3608],\n",
      "          [0.3137, 0.4000, 0.4745,  ..., 0.4706, 0.3882, 0.3255]],\n",
      "\n",
      "         [[0.2863, 0.3647, 0.4667,  ..., 0.5451, 0.5608, 0.5451],\n",
      "          [0.2667, 0.4431, 0.4863,  ..., 0.5647, 0.5255, 0.5294],\n",
      "          [0.3333, 0.4549, 0.5020,  ..., 0.5647, 0.4549, 0.5373],\n",
      "          ...,\n",
      "          [0.4157, 0.4824, 0.4392,  ..., 0.4784, 0.3529, 0.4039],\n",
      "          [0.3608, 0.4745, 0.4627,  ..., 0.5020, 0.3804, 0.4039],\n",
      "          [0.3765, 0.4510, 0.4706,  ..., 0.5373, 0.4549, 0.3765]],\n",
      "\n",
      "         [[0.3490, 0.4078, 0.5059,  ..., 0.6863, 0.7020, 0.6902],\n",
      "          [0.3216, 0.4824, 0.5255,  ..., 0.6902, 0.6784, 0.6784],\n",
      "          [0.3725, 0.4902, 0.5529,  ..., 0.6510, 0.5961, 0.6863],\n",
      "          ...,\n",
      "          [0.5569, 0.5804, 0.4902,  ..., 0.5765, 0.4353, 0.4824],\n",
      "          [0.4863, 0.5765, 0.5216,  ..., 0.5961, 0.4706, 0.4824],\n",
      "          [0.4902, 0.5686, 0.5569,  ..., 0.6275, 0.5490, 0.4706]]],\n",
      "\n",
      "\n",
      "        [[[0.5686, 0.5804, 0.5922,  ..., 0.5765, 0.5569, 0.5333],\n",
      "          [0.5765, 0.5882, 0.6000,  ..., 0.5843, 0.5647, 0.5490],\n",
      "          [0.5804, 0.5961, 0.6039,  ..., 0.5843, 0.5725, 0.5569],\n",
      "          ...,\n",
      "          [0.5961, 0.6039, 0.6235,  ..., 0.6118, 0.5961, 0.5843],\n",
      "          [0.5922, 0.6039, 0.6078,  ..., 0.6039, 0.5882, 0.5765],\n",
      "          [0.5843, 0.5961, 0.6000,  ..., 0.5922, 0.5804, 0.5765]],\n",
      "\n",
      "         [[0.5373, 0.5529, 0.5647,  ..., 0.5255, 0.4980, 0.4745],\n",
      "          [0.5333, 0.5569, 0.5725,  ..., 0.5294, 0.5098, 0.4863],\n",
      "          [0.5333, 0.5529, 0.5647,  ..., 0.5294, 0.5176, 0.5020],\n",
      "          ...,\n",
      "          [0.5608, 0.5686, 0.5961,  ..., 0.5725, 0.5647, 0.5608],\n",
      "          [0.5569, 0.5647, 0.5804,  ..., 0.5686, 0.5569, 0.5490],\n",
      "          [0.5647, 0.5725, 0.5725,  ..., 0.5686, 0.5608, 0.5490]],\n",
      "\n",
      "         [[0.6000, 0.6118, 0.6157,  ..., 0.5529, 0.5137, 0.4863],\n",
      "          [0.5922, 0.6039, 0.6275,  ..., 0.5529, 0.5294, 0.5020],\n",
      "          [0.5765, 0.6000, 0.6039,  ..., 0.5451, 0.5412, 0.5255],\n",
      "          ...,\n",
      "          [0.5843, 0.5843, 0.6157,  ..., 0.6078, 0.6078, 0.6196],\n",
      "          [0.5922, 0.5922, 0.6000,  ..., 0.6039, 0.6078, 0.6196],\n",
      "          [0.5922, 0.6000, 0.5882,  ..., 0.6235, 0.6157, 0.6157]]]]), tensor([[0., 0., 1.],\n",
      "        [0., 0., 1.],\n",
      "        [0., 1., 0.],\n",
      "        [0., 1., 0.],\n",
      "        [0., 0., 1.],\n",
      "        [0., 0., 1.],\n",
      "        [0., 0., 1.],\n",
      "        [0., 0., 1.],\n",
      "        [0., 1., 0.],\n",
      "        [0., 0., 1.],\n",
      "        [0., 0., 1.],\n",
      "        [0., 0., 1.],\n",
      "        [0., 0., 1.],\n",
      "        [0., 0., 1.],\n",
      "        [0., 0., 1.],\n",
      "        [0., 0., 1.]]), tensor([[[[0., 0., 0.,  ..., 0., 0., 0.],\n",
      "          [0., 0., 0.,  ..., 0., 0., 0.],\n",
      "          [0., 0., 0.,  ..., 0., 0., 0.],\n",
      "          ...,\n",
      "          [0., 0., 0.,  ..., 0., 0., 0.],\n",
      "          [0., 0., 0.,  ..., 0., 0., 0.],\n",
      "          [0., 0., 0.,  ..., 0., 0., 0.]]],\n",
      "\n",
      "\n",
      "        [[[0., 0., 0.,  ..., 0., 0., 0.],\n",
      "          [0., 0., 0.,  ..., 0., 0., 0.],\n",
      "          [0., 0., 0.,  ..., 0., 0., 0.],\n",
      "          ...,\n",
      "          [0., 0., 0.,  ..., 0., 0., 0.],\n",
      "          [0., 0., 0.,  ..., 0., 0., 0.],\n",
      "          [0., 0., 0.,  ..., 0., 0., 0.]]],\n",
      "\n",
      "\n",
      "        [[[0., 0., 0.,  ..., 0., 0., 0.],\n",
      "          [0., 0., 0.,  ..., 0., 0., 0.],\n",
      "          [0., 0., 0.,  ..., 0., 0., 0.],\n",
      "          ...,\n",
      "          [0., 0., 0.,  ..., 0., 0., 0.],\n",
      "          [0., 0., 0.,  ..., 0., 0., 0.],\n",
      "          [0., 0., 0.,  ..., 0., 0., 0.]]],\n",
      "\n",
      "\n",
      "        ...,\n",
      "\n",
      "\n",
      "        [[[0., 0., 0.,  ..., 0., 0., 0.],\n",
      "          [0., 0., 0.,  ..., 0., 0., 0.],\n",
      "          [0., 0., 0.,  ..., 0., 0., 0.],\n",
      "          ...,\n",
      "          [0., 0., 0.,  ..., 0., 0., 0.],\n",
      "          [0., 0., 0.,  ..., 0., 0., 0.],\n",
      "          [0., 0., 0.,  ..., 0., 0., 0.]]],\n",
      "\n",
      "\n",
      "        [[[0., 0., 0.,  ..., 0., 0., 0.],\n",
      "          [0., 0., 0.,  ..., 0., 0., 0.],\n",
      "          [0., 0., 0.,  ..., 0., 0., 0.],\n",
      "          ...,\n",
      "          [0., 0., 0.,  ..., 0., 0., 0.],\n",
      "          [0., 0., 0.,  ..., 0., 0., 0.],\n",
      "          [0., 0., 0.,  ..., 0., 0., 0.]]],\n",
      "\n",
      "\n",
      "        [[[0., 0., 0.,  ..., 0., 0., 0.],\n",
      "          [0., 0., 0.,  ..., 0., 0., 0.],\n",
      "          [0., 0., 0.,  ..., 0., 0., 0.],\n",
      "          ...,\n",
      "          [0., 0., 0.,  ..., 0., 0., 0.],\n",
      "          [0., 0., 0.,  ..., 0., 0., 0.],\n",
      "          [0., 0., 0.,  ..., 0., 0., 0.]]]])]\n"
     ]
    }
   ],
   "source": [
    "for i, item in enumerate(train_loader):\n",
    "    print(item)\n",
    "    if i == 0:\n",
    "        break"
   ]
  },
  {
   "cell_type": "code",
   "execution_count": 13,
   "metadata": {},
   "outputs": [
    {
     "data": {
      "image/png": "[encoded data removed]",
      "text/plain": [
       "<Figure size 1500x300 with 5 Axes>"
      ]
     },
     "metadata": {},
     "output_type": "display_data"
    }
   ],
   "source": [
    "# plot the first 5 images in the training set, the first 5 images in the test set\n",
    "def plot_images(loader, title):\n",
    "    fig, axs = plt.subplots(1, 5, figsize=(15, 3))\n",
    "    for i, (image, _, _) in enumerate(loader):\n",
    "        if i == 5:\n",
    "            break\n",
    "        axs[i].imshow(image[i].permute(1, 2, 0))\n",
    "        axs[i].axis(\"off\")\n",
    "    fig.suptitle(title)\n",
    "    plt.show()\n",
    "\n",
    "plot_images(train_loader, \"Training Set\")\n",
    "#plot_images(test_loader, \"Test Set\")"
   ]
  },
  {
   "cell_type": "code",
   "execution_count": 14,
   "metadata": {},
   "outputs": [
    {
     "data": {
      "text/plain": [
       "CustomCNN(\n",
       "  (conv1): Conv2d(3, 64, kernel_size=(11, 11), stride=(4, 4), padding=(2, 2))\n",
       "  (bn1): BatchNorm2d(64, eps=1e-05, momentum=0.1, affine=True, track_running_stats=True)\n",
       "  (relu1): LeakyReLU(negative_slope=0.01)\n",
       "  (pool1): MaxPool2d(kernel_size=3, stride=2, padding=0, dilation=1, ceil_mode=False)\n",
       "  (conv2): Conv2d(64, 192, kernel_size=(5, 5), stride=(1, 1), padding=(2, 2))\n",
       "  (bn2): BatchNorm2d(192, eps=1e-05, momentum=0.1, affine=True, track_running_stats=True)\n",
       "  (relu2): LeakyReLU(negative_slope=0.01)\n",
       "  (pool2): MaxPool2d(kernel_size=3, stride=2, padding=0, dilation=1, ceil_mode=False)\n",
       "  (conv3): Conv2d(192, 384, kernel_size=(3, 3), stride=(1, 1), padding=(1, 1))\n",
       "  (bn3): BatchNorm2d(384, eps=1e-05, momentum=0.1, affine=True, track_running_stats=True)\n",
       "  (relu3): LeakyReLU(negative_slope=0.01)\n",
       "  (conv4): Conv2d(384, 256, kernel_size=(3, 3), stride=(1, 1), padding=(1, 1))\n",
       "  (bn4): BatchNorm2d(256, eps=1e-05, momentum=0.1, affine=True, track_running_stats=True)\n",
       "  (relu4): LeakyReLU(negative_slope=0.01)\n",
       "  (conv5): Conv2d(256, 256, kernel_size=(3, 3), stride=(1, 1), padding=(1, 1))\n",
       "  (bn5): BatchNorm2d(256, eps=1e-05, momentum=0.1, affine=True, track_running_stats=True)\n",
       "  (relu5): LeakyReLU(negative_slope=0.01)\n",
       "  (pool3): MaxPool2d(kernel_size=3, stride=2, padding=0, dilation=1, ceil_mode=False)\n",
       "  (flatten): Flatten(start_dim=1, end_dim=-1)\n",
       "  (fc1): Linear(in_features=2304, out_features=512, bias=True)\n",
       "  (relu6): LeakyReLU(negative_slope=0.01)\n",
       "  (dropout1): Dropout(p=0.5, inplace=False)\n",
       "  (fc2): Linear(in_features=512, out_features=256, bias=True)\n",
       "  (relu7): LeakyReLU(negative_slope=0.01)\n",
       "  (dropout2): Dropout(p=0.3, inplace=False)\n",
       "  (fc3): Linear(in_features=256, out_features=3, bias=True)\n",
       ")"
      ]
     },
     "execution_count": 14,
     "metadata": {},
     "output_type": "execute_result"
    }
   ],
   "source": [
    "# create a custom convolutional neural network model for the classification task\n",
    "\n",
    "class CustomCNN(torch.nn.Module):\n",
    "    def __init__(self):\n",
    "        super(CustomCNN, self).__init__()\n",
    "        self.conv1 = torch.nn.Conv2d(3, 64, kernel_size=11, stride=4, padding=2)\n",
    "        self.bn1 = torch.nn.BatchNorm2d(64)\n",
    "        self.relu1 = torch.nn.LeakyReLU()\n",
    "        self.pool1 = torch.nn.MaxPool2d(kernel_size=3, stride=2)\n",
    "\n",
    "        self.conv2 = torch.nn.Conv2d(64, 192, kernel_size=5, padding=2)\n",
    "        self.bn2 = torch.nn.BatchNorm2d(192)\n",
    "        self.relu2 = torch.nn.LeakyReLU()\n",
    "        self.pool2 = torch.nn.MaxPool2d(kernel_size=3, stride=2)\n",
    "\n",
    "        self.conv3 = torch.nn.Conv2d(192, 384, kernel_size=3, padding=1)\n",
    "        self.bn3 = torch.nn.BatchNorm2d(384)\n",
    "        self.relu3 = torch.nn.LeakyReLU()\n",
    "\n",
    "        self.conv4 = torch.nn.Conv2d(384, 256, kernel_size=3, padding=1)\n",
    "        self.bn4 = torch.nn.BatchNorm2d(256)\n",
    "        self.relu4 = torch.nn.LeakyReLU()\n",
    "\n",
    "        self.conv5 = torch.nn.Conv2d(256, 256, kernel_size=3, padding=1)\n",
    "        self.bn5 = torch.nn.BatchNorm2d(256)\n",
    "        self.relu5 = torch.nn.LeakyReLU()\n",
    "        self.pool3 = torch.nn.MaxPool2d(kernel_size=3, stride=2)\n",
    "\n",
    "        self.flatten = torch.nn.Flatten()\n",
    "\n",
    "        self.fc1 = torch.nn.Linear(256 * 3 * 3, 512)\n",
    "        self.relu6 = torch.nn.LeakyReLU()\n",
    "        self.dropout1 = torch.nn.Dropout(0.5)\n",
    "\n",
    "        self.fc2 = torch.nn.Linear(512, 256)\n",
    "        self.relu7 = torch.nn.LeakyReLU()\n",
    "        self.dropout2 = torch.nn.Dropout(0.3)\n",
    "\n",
    "        self.fc3 = torch.nn.Linear(256, 3)\n",
    "        #self.sigmoid = torch.nn.Sigmoid()\n",
    "\n",
    "    def forward(self, x):\n",
    "        x = self.pool1(self.relu1(self.bn1(self.conv1(x))))\n",
    "        x = self.pool2(self.relu2(self.bn2(self.conv2(x))))\n",
    "        x = self.relu3(self.bn3(self.conv3(x)))\n",
    "        x = self.relu4(self.bn4(self.conv4(x)))\n",
    "        x = self.pool3(self.relu5(self.bn5(self.conv5(x))))\n",
    "        \n",
    "        x = self.flatten(x)\n",
    "\n",
    "        x = self.relu6(self.fc1(x))\n",
    "        x = self.dropout1(x)\n",
    "\n",
    "        x = self.relu7(self.fc2(x))\n",
    "        x = self.dropout2(x)\n",
    "\n",
    "        x = self.fc3(x)\n",
    "        return x\n",
    "    \n",
    "# create model\n",
    "model = CustomCNN().to(device)\n",
    "model.to(device)"
   ]
  },
  {
   "cell_type": "code",
   "execution_count": 15,
   "metadata": {},
   "outputs": [
    {
     "name": "stdout",
     "output_type": "stream",
     "text": [
      "tensor([[ 0.1004,  0.0376, -0.2247]], device='cuda:0',\n",
      "       grad_fn=<AddmmBackward0>)\n"
     ]
    }
   ],
   "source": [
    "# test model with a random input\n",
    "x = torch.randn(1, 3, 128, 128).to(device)\n",
    "y = model(x)\n",
    "print(y)"
   ]
  },
  {
   "cell_type": "code",
   "execution_count": 16,
   "metadata": {},
   "outputs": [
    {
     "name": "stdout",
     "output_type": "stream",
     "text": [
      "tensor([[ 0.2854,  0.0271, -0.2083],\n",
      "        [-0.0664, -0.4823, -0.2183],\n",
      "        [ 0.2664, -0.2010, -0.0293],\n",
      "        [ 0.2260, -0.0702, -0.0839],\n",
      "        [ 0.1867, -0.1653, -0.0993],\n",
      "        [ 0.1200, -0.3522, -0.1994],\n",
      "        [ 0.2915, -0.0649, -0.0597],\n",
      "        [ 0.3625, -0.3093, -0.2807],\n",
      "        [ 0.0988, -0.2250, -0.3012],\n",
      "        [ 0.2373, -0.1347, -0.1741],\n",
      "        [-0.0184,  0.1743,  0.1898],\n",
      "        [ 0.4316, -0.1802, -0.0288],\n",
      "        [-0.0772,  0.1170, -0.5129],\n",
      "        [-0.0768, -0.1090, -0.0532],\n",
      "        [ 0.2083, -0.2482, -0.0889],\n",
      "        [-0.0286, -0.1948, -0.1777]], device='cuda:0',\n",
      "       grad_fn=<AddmmBackward0>)\n",
      "tensor([[1., 0., 0.],\n",
      "        [1., 0., 0.],\n",
      "        [1., 0., 0.],\n",
      "        [1., 0., 0.],\n",
      "        [1., 0., 0.],\n",
      "        [1., 0., 0.],\n",
      "        [1., 0., 0.],\n",
      "        [1., 0., 0.],\n",
      "        [1., 0., 0.],\n",
      "        [1., 0., 0.],\n",
      "        [0., 0., 1.],\n",
      "        [1., 0., 0.],\n",
      "        [0., 1., 0.],\n",
      "        [0., 0., 1.],\n",
      "        [1., 0., 0.],\n",
      "        [1., 0., 0.]], device='cuda:0')\n",
      "tensor([[1., 0., 0.],\n",
      "        [1., 0., 0.],\n",
      "        [0., 0., 1.],\n",
      "        [0., 1., 0.],\n",
      "        [0., 1., 0.],\n",
      "        [0., 0., 1.],\n",
      "        [0., 0., 1.],\n",
      "        [0., 0., 1.],\n",
      "        [0., 0., 1.],\n",
      "        [0., 1., 0.],\n",
      "        [0., 0., 1.],\n",
      "        [0., 0., 1.],\n",
      "        [0., 0., 1.],\n",
      "        [0., 0., 1.],\n",
      "        [0., 0., 1.],\n",
      "        [0., 0., 1.]], device='cuda:0')\n",
      "torch.Size([16, 3])\n"
     ]
    }
   ],
   "source": [
    "# test model with the first batch of the training data\n",
    "for i, (image, ground_truth, _) in enumerate(train_loader):\n",
    "    if i == 1:\n",
    "        break\n",
    "    image = image.to(device)\n",
    "    ground_truth = ground_truth.to(device)\n",
    "    output = model(image)\n",
    "    # convert output to tensor with 1 on the predicted class and 0 on the other classes\n",
    "    _, predicted_max = torch.max(output, 1)\n",
    "    print(output)\n",
    "    output = torch.zeros_like(output)\n",
    "    output[torch.arange(output.size(0)), predicted_max] = 1\n",
    "    print(output)\n",
    "    print(ground_truth)\n",
    "    print(ground_truth.shape)"
   ]
  },
  {
   "cell_type": "code",
   "execution_count": 17,
   "metadata": {},
   "outputs": [
    {
     "name": "stderr",
     "output_type": "stream",
     "text": [
      "/home/davide/Desktop/SAM_tests/SAM_tests/env/lib/python3.12/site-packages/torchvision/models/_utils.py:208: UserWarning: The parameter 'pretrained' is deprecated since 0.13 and may be removed in the future, please use 'weights' instead.\n",
      "  warnings.warn(\n",
      "/home/davide/Desktop/SAM_tests/SAM_tests/env/lib/python3.12/site-packages/torchvision/models/_utils.py:223: UserWarning: Arguments other than a weight enum or `None` for 'weights' are deprecated since 0.13 and may be removed in the future. The current behavior is equivalent to passing `weights=ResNet18_Weights.IMAGENET1K_V1`. You can also use `weights=ResNet18_Weights.DEFAULT` to get the most up-to-date weights.\n",
      "  warnings.warn(msg)\n"
     ]
    }
   ],
   "source": [
    "import torchvision.models as models\n",
    "\n",
    "model = models.resnet18(pretrained=True)\n",
    "model.fc = torch.nn.Linear(512, 3)  # Change final layer for 3-class classification\n",
    "model = model.to(device)"
   ]
  },
  {
   "cell_type": "code",
   "execution_count": 18,
   "metadata": {},
   "outputs": [
    {
     "name": "stdout",
     "output_type": "stream",
     "text": [
      "Epoch 1, Loss: 1.0428204278945923, Accuracy: 0.534\n",
      "Epoch 2, Loss: 0.7275586113929748, Accuracy: 0.7645\n",
      "Epoch 3, Loss: 0.605632086277008, Accuracy: 0.887\n",
      "Epoch 4, Loss: 0.5330651454925537, Accuracy: 0.9485\n",
      "Epoch 5, Loss: 0.5138580284118652, Accuracy: 0.9705\n"
     ]
    }
   ],
   "source": [
    "optimizer = torch.optim.Adam(model.parameters(), lr=0.0001, weight_decay=1e-4)\n",
    "criterion = torch.nn.CrossEntropyLoss(label_smoothing=0.1, weight=torch.tensor([(2000/374), (2000/254), (2000/1372)], device=device)) #\n",
    "\n",
    "# train the model\n",
    "accumulation_steps = 4\n",
    "model.train()\n",
    "for epoch in range(5):\n",
    "    #if epoch == 1:\n",
    "    #    break\n",
    "    epoch_loss = 0\n",
    "    epoch_accuracy = 0\n",
    "    num_batches = len(train_loader)\n",
    "\n",
    "    optimizer.zero_grad()\n",
    "\n",
    "    for i, (images, ground_truth, _) in enumerate(train_loader):\n",
    "        images, ground_truth = images.to(device), ground_truth.to(device)\n",
    "        #ground_truth = ground_truth.float()\n",
    "        \n",
    "        outputs = model(images)\n",
    "        #loss = criterion(outputs, ground_truth)\n",
    "        loss = criterion(outputs, ground_truth.argmax(dim=1))#(((outputs - ground_truth)* tensor_weights)**2).mean()\n",
    "        #print(\"outputs\")\n",
    "        #print(outputs)\n",
    "\n",
    "        loss.backward()\n",
    "\n",
    "        if (i + 1) % accumulation_steps == 0:\n",
    "            optimizer.step()\n",
    "            optimizer.zero_grad()\n",
    "\n",
    "        predictions = torch.argmax(outputs, dim=1)\n",
    "        #print(\"predictions\")\n",
    "        #print(predictions)\n",
    "        #print(\"ground_truth\")\n",
    "        #print(ground_truth)\n",
    "\n",
    "        #optimizer.step()\n",
    "        \n",
    "        accuracy = (predictions == ground_truth.argmax(dim=1)).float().mean()\n",
    "        epoch_loss += loss.item()\n",
    "        epoch_accuracy += accuracy.item()\n",
    "    print(f\"Epoch {epoch + 1}, Loss: {epoch_loss/num_batches}, Accuracy: {epoch_accuracy/num_batches}\")"
   ]
  },
  {
   "cell_type": "code",
   "execution_count": 19,
   "metadata": {},
   "outputs": [],
   "source": [
    "# evaluate the model\n",
    "model.eval()\n",
    "predictions = []\n",
    "with torch.no_grad():\n",
    "    for images, ground_truth, _ in test_loader:\n",
    "        images, ground_truth = images.to(device), ground_truth.to(device)\n",
    "        outputs = model(images)\n",
    "        predicted = torch.argmax(outputs, dim=1)\n",
    "        prediction_list = [0, 0, 0]\n",
    "        prediction_list[predicted.cpu().numpy()[0]] = 1\n",
    "        predictions.append(prediction_list)"
   ]
  },
  {
   "cell_type": "code",
   "execution_count": 20,
   "metadata": {},
   "outputs": [
    {
     "data": {
      "text/html": [
       "<div>\n",
       "<style scoped>\n",
       "    .dataframe tbody tr th:only-of-type {\n",
       "        vertical-align: middle;\n",
       "    }\n",
       "\n",
       "    .dataframe tbody tr th {\n",
       "        vertical-align: top;\n",
       "    }\n",
       "\n",
       "    .dataframe thead th {\n",
       "        text-align: right;\n",
       "    }\n",
       "</style>\n",
       "<table border=\"1\" class=\"dataframe\">\n",
       "  <thead>\n",
       "    <tr style=\"text-align: right;\">\n",
       "      <th></th>\n",
       "      <th>melanoma</th>\n",
       "      <th>seborrheic_keratosis</th>\n",
       "      <th>none</th>\n",
       "    </tr>\n",
       "  </thead>\n",
       "  <tbody>\n",
       "    <tr>\n",
       "      <th>ISIC_0012086</th>\n",
       "      <td>0</td>\n",
       "      <td>1</td>\n",
       "      <td>0</td>\n",
       "    </tr>\n",
       "    <tr>\n",
       "      <th>ISIC_0012092</th>\n",
       "      <td>0</td>\n",
       "      <td>0</td>\n",
       "      <td>1</td>\n",
       "    </tr>\n",
       "    <tr>\n",
       "      <th>ISIC_0012095</th>\n",
       "      <td>0</td>\n",
       "      <td>0</td>\n",
       "      <td>1</td>\n",
       "    </tr>\n",
       "    <tr>\n",
       "      <th>ISIC_0012134</th>\n",
       "      <td>0</td>\n",
       "      <td>1</td>\n",
       "      <td>0</td>\n",
       "    </tr>\n",
       "    <tr>\n",
       "      <th>ISIC_0012136</th>\n",
       "      <td>0</td>\n",
       "      <td>1</td>\n",
       "      <td>0</td>\n",
       "    </tr>\n",
       "    <tr>\n",
       "      <th>...</th>\n",
       "      <td>...</td>\n",
       "      <td>...</td>\n",
       "      <td>...</td>\n",
       "    </tr>\n",
       "    <tr>\n",
       "      <th>ISIC_0016068</th>\n",
       "      <td>1</td>\n",
       "      <td>0</td>\n",
       "      <td>0</td>\n",
       "    </tr>\n",
       "    <tr>\n",
       "      <th>ISIC_0016069</th>\n",
       "      <td>0</td>\n",
       "      <td>0</td>\n",
       "      <td>1</td>\n",
       "    </tr>\n",
       "    <tr>\n",
       "      <th>ISIC_0016070</th>\n",
       "      <td>0</td>\n",
       "      <td>0</td>\n",
       "      <td>1</td>\n",
       "    </tr>\n",
       "    <tr>\n",
       "      <th>ISIC_0016071</th>\n",
       "      <td>0</td>\n",
       "      <td>0</td>\n",
       "      <td>1</td>\n",
       "    </tr>\n",
       "    <tr>\n",
       "      <th>ISIC_0016072</th>\n",
       "      <td>1</td>\n",
       "      <td>0</td>\n",
       "      <td>0</td>\n",
       "    </tr>\n",
       "  </tbody>\n",
       "</table>\n",
       "<p>600 rows × 3 columns</p>\n",
       "</div>"
      ],
      "text/plain": [
       "              melanoma  seborrheic_keratosis  none\n",
       "ISIC_0012086         0                     1     0\n",
       "ISIC_0012092         0                     0     1\n",
       "ISIC_0012095         0                     0     1\n",
       "ISIC_0012134         0                     1     0\n",
       "ISIC_0012136         0                     1     0\n",
       "...                ...                   ...   ...\n",
       "ISIC_0016068         1                     0     0\n",
       "ISIC_0016069         0                     0     1\n",
       "ISIC_0016070         0                     0     1\n",
       "ISIC_0016071         0                     0     1\n",
       "ISIC_0016072         1                     0     0\n",
       "\n",
       "[600 rows x 3 columns]"
      ]
     },
     "execution_count": 20,
     "metadata": {},
     "output_type": "execute_result"
    }
   ],
   "source": [
    "df_predicted = pd.DataFrame(predictions, columns=['melanoma', 'seborrheic_keratosis','none'], index=test_ids)\n",
    "df_predicted = df_predicted.sort_index()\n",
    "df_predicted"
   ]
  },
  {
   "cell_type": "code",
   "execution_count": 21,
   "metadata": {},
   "outputs": [
    {
     "data": {
      "text/plain": [
       "melanoma                115\n",
       "seborrheic_keratosis    194\n",
       "none                    291\n",
       "dtype: int64"
      ]
     },
     "execution_count": 21,
     "metadata": {},
     "output_type": "execute_result"
    }
   ],
   "source": [
    "df_predicted.sum()"
   ]
  },
  {
   "cell_type": "code",
   "execution_count": 22,
   "metadata": {},
   "outputs": [
    {
     "data": {
      "text/html": [
       "<div>\n",
       "<style scoped>\n",
       "    .dataframe tbody tr th:only-of-type {\n",
       "        vertical-align: middle;\n",
       "    }\n",
       "\n",
       "    .dataframe tbody tr th {\n",
       "        vertical-align: top;\n",
       "    }\n",
       "\n",
       "    .dataframe thead th {\n",
       "        text-align: right;\n",
       "    }\n",
       "</style>\n",
       "<table border=\"1\" class=\"dataframe\">\n",
       "  <thead>\n",
       "    <tr style=\"text-align: right;\">\n",
       "      <th></th>\n",
       "      <th>melanoma</th>\n",
       "      <th>seborrheic_keratosis</th>\n",
       "      <th>none</th>\n",
       "    </tr>\n",
       "    <tr>\n",
       "      <th>image_id</th>\n",
       "      <th></th>\n",
       "      <th></th>\n",
       "      <th></th>\n",
       "    </tr>\n",
       "  </thead>\n",
       "  <tbody>\n",
       "    <tr>\n",
       "      <th>ISIC_0012086</th>\n",
       "      <td>0.0</td>\n",
       "      <td>1.0</td>\n",
       "      <td>0.0</td>\n",
       "    </tr>\n",
       "    <tr>\n",
       "      <th>ISIC_0012092</th>\n",
       "      <td>0.0</td>\n",
       "      <td>0.0</td>\n",
       "      <td>1.0</td>\n",
       "    </tr>\n",
       "    <tr>\n",
       "      <th>ISIC_0012095</th>\n",
       "      <td>0.0</td>\n",
       "      <td>0.0</td>\n",
       "      <td>1.0</td>\n",
       "    </tr>\n",
       "    <tr>\n",
       "      <th>ISIC_0012134</th>\n",
       "      <td>0.0</td>\n",
       "      <td>1.0</td>\n",
       "      <td>0.0</td>\n",
       "    </tr>\n",
       "    <tr>\n",
       "      <th>ISIC_0012136</th>\n",
       "      <td>0.0</td>\n",
       "      <td>1.0</td>\n",
       "      <td>0.0</td>\n",
       "    </tr>\n",
       "    <tr>\n",
       "      <th>...</th>\n",
       "      <td>...</td>\n",
       "      <td>...</td>\n",
       "      <td>...</td>\n",
       "    </tr>\n",
       "    <tr>\n",
       "      <th>ISIC_0016068</th>\n",
       "      <td>0.0</td>\n",
       "      <td>0.0</td>\n",
       "      <td>1.0</td>\n",
       "    </tr>\n",
       "    <tr>\n",
       "      <th>ISIC_0016069</th>\n",
       "      <td>0.0</td>\n",
       "      <td>0.0</td>\n",
       "      <td>1.0</td>\n",
       "    </tr>\n",
       "    <tr>\n",
       "      <th>ISIC_0016070</th>\n",
       "      <td>0.0</td>\n",
       "      <td>0.0</td>\n",
       "      <td>1.0</td>\n",
       "    </tr>\n",
       "    <tr>\n",
       "      <th>ISIC_0016071</th>\n",
       "      <td>0.0</td>\n",
       "      <td>0.0</td>\n",
       "      <td>1.0</td>\n",
       "    </tr>\n",
       "    <tr>\n",
       "      <th>ISIC_0016072</th>\n",
       "      <td>0.0</td>\n",
       "      <td>0.0</td>\n",
       "      <td>1.0</td>\n",
       "    </tr>\n",
       "  </tbody>\n",
       "</table>\n",
       "<p>600 rows × 3 columns</p>\n",
       "</div>"
      ],
      "text/plain": [
       "              melanoma  seborrheic_keratosis  none\n",
       "image_id                                          \n",
       "ISIC_0012086       0.0                   1.0   0.0\n",
       "ISIC_0012092       0.0                   0.0   1.0\n",
       "ISIC_0012095       0.0                   0.0   1.0\n",
       "ISIC_0012134       0.0                   1.0   0.0\n",
       "ISIC_0012136       0.0                   1.0   0.0\n",
       "...                ...                   ...   ...\n",
       "ISIC_0016068       0.0                   0.0   1.0\n",
       "ISIC_0016069       0.0                   0.0   1.0\n",
       "ISIC_0016070       0.0                   0.0   1.0\n",
       "ISIC_0016071       0.0                   0.0   1.0\n",
       "ISIC_0016072       0.0                   0.0   1.0\n",
       "\n",
       "[600 rows x 3 columns]"
      ]
     },
     "execution_count": 22,
     "metadata": {},
     "output_type": "execute_result"
    }
   ],
   "source": [
    "df_ground_truth = pd.read_csv(ground_truth_file_test, index_col='image_id')\n",
    "df_ground_truth"
   ]
  },
  {
   "cell_type": "code",
   "execution_count": 23,
   "metadata": {},
   "outputs": [
    {
     "data": {
      "text/plain": [
       "melanoma                117.0\n",
       "seborrheic_keratosis     90.0\n",
       "none                    393.0\n",
       "dtype: float64"
      ]
     },
     "execution_count": 23,
     "metadata": {},
     "output_type": "execute_result"
    }
   ],
   "source": [
    "df_ground_truth.sum()"
   ]
  },
  {
   "cell_type": "code",
   "execution_count": 24,
   "metadata": {},
   "outputs": [
    {
     "name": "stdout",
     "output_type": "stream",
     "text": [
      "Mean Absolute Error:\n",
      "melanoma                0.213333\n",
      "seborrheic_keratosis    0.216667\n",
      "none                    0.286667\n",
      "dtype: float64\n"
     ]
    }
   ],
   "source": [
    "# print mean absolute error\n",
    "print(\"Mean Absolute Error:\")\n",
    "print((df_predicted - df_ground_truth).abs().mean())"
   ]
  },
  {
   "cell_type": "code",
   "execution_count": 25,
   "metadata": {},
   "outputs": [],
   "source": [
    "labels_predicted = df_predicted[['melanoma', 'seborrheic_keratosis', 'none']].idxmax(axis=1)\n",
    "labels_ground_truth = df_ground_truth[['melanoma', 'seborrheic_keratosis', 'none']].idxmax(axis=1)"
   ]
  },
  {
   "cell_type": "code",
   "execution_count": 26,
   "metadata": {},
   "outputs": [
    {
     "data": {
      "text/plain": [
       "ISIC_0012086    seborrheic_keratosis\n",
       "ISIC_0012092                    none\n",
       "ISIC_0012095                    none\n",
       "ISIC_0012134    seborrheic_keratosis\n",
       "ISIC_0012136    seborrheic_keratosis\n",
       "                        ...         \n",
       "ISIC_0016068                melanoma\n",
       "ISIC_0016069                    none\n",
       "ISIC_0016070                    none\n",
       "ISIC_0016071                    none\n",
       "ISIC_0016072                melanoma\n",
       "Length: 600, dtype: object"
      ]
     },
     "execution_count": 26,
     "metadata": {},
     "output_type": "execute_result"
    }
   ],
   "source": [
    "labels_predicted"
   ]
  },
  {
   "cell_type": "code",
   "execution_count": 27,
   "metadata": {},
   "outputs": [
    {
     "data": {
      "text/plain": [
       "image_id\n",
       "ISIC_0012086    seborrheic_keratosis\n",
       "ISIC_0012092                    none\n",
       "ISIC_0012095                    none\n",
       "ISIC_0012134    seborrheic_keratosis\n",
       "ISIC_0012136    seborrheic_keratosis\n",
       "                        ...         \n",
       "ISIC_0016068                    none\n",
       "ISIC_0016069                    none\n",
       "ISIC_0016070                    none\n",
       "ISIC_0016071                    none\n",
       "ISIC_0016072                    none\n",
       "Length: 600, dtype: object"
      ]
     },
     "execution_count": 27,
     "metadata": {},
     "output_type": "execute_result"
    }
   ],
   "source": [
    "labels_ground_truth"
   ]
  },
  {
   "cell_type": "code",
   "execution_count": 28,
   "metadata": {},
   "outputs": [
    {
     "name": "stdout",
     "output_type": "stream",
     "text": [
      "Classification Report\n",
      "                      precision    recall  f1-score   support\n",
      "\n",
      "            melanoma       0.45      0.44      0.45       117\n",
      "                none       0.88      0.65      0.75       393\n",
      "seborrheic_keratosis       0.40      0.86      0.54        90\n",
      "\n",
      "            accuracy                           0.64       600\n",
      "           macro avg       0.58      0.65      0.58       600\n",
      "        weighted avg       0.72      0.64      0.66       600\n",
      "\n"
     ]
    }
   ],
   "source": [
    "# evaluate the model\n",
    "print(\"Classification Report\")\n",
    "print(classification_report(labels_ground_truth, labels_predicted))"
   ]
  },
  {
   "cell_type": "code",
   "execution_count": 29,
   "metadata": {},
   "outputs": [
    {
     "data": {
      "text/plain": [
       "array([[ 52,  26,  39],\n",
       "       [ 59, 256,  78],\n",
       "       [  4,   9,  77]])"
      ]
     },
     "execution_count": 29,
     "metadata": {},
     "output_type": "execute_result"
    }
   ],
   "source": [
    "cm = confusion_matrix(labels_ground_truth, labels_predicted)\n",
    "cm"
   ]
  },
  {
   "cell_type": "code",
   "execution_count": 30,
   "metadata": {},
   "outputs": [
    {
     "data": {
      "application/vnd.plotly.v1+json": {
       "config": {
        "plotlyServerURL": "https://plot.ly"
       },
       "data": [
        {
         "coloraxis": "coloraxis",
         "hovertemplate": "Predicted: %{x}<br>True: %{y}<br>Count: %{z}<extra></extra>",
         "name": "0",
         "texttemplate": "%{z}",
         "type": "heatmap",
         "x": [
          "Melanoma",
          "None",
          "Seborrheic Keratosis"
         ],
         "xaxis": "x",
         "y": [
          "Melanoma",
          "None",
          "Seborrheic Keratosis"
         ],
         "yaxis": "y",
         "z": [
          [
           52,
           26,
           39
          ],
          [
           59,
           256,
           78
          ],
          [
           4,
           9,
           77
          ]
         ]
        }
       ],
       "layout": {
        "coloraxis": {
         "colorbar": {
          "title": {
           "text": "Count"
          }
         },
         "colorscale": [
          [
           0,
           "rgb(255,245,240)"
          ],
          [
           0.125,
           "rgb(254,224,210)"
          ],
          [
           0.25,
           "rgb(252,187,161)"
          ],
          [
           0.375,
           "rgb(252,146,114)"
          ],
          [
           0.5,
           "rgb(251,106,74)"
          ],
          [
           0.625,
           "rgb(239,59,44)"
          ],
          [
           0.75,
           "rgb(203,24,29)"
          ],
          [
           0.875,
           "rgb(165,15,21)"
          ],
          [
           1,
           "rgb(103,0,13)"
          ]
         ],
         "showscale": false
        },
        "height": 600,
        "template": {
         "data": {
          "bar": [
           {
            "error_x": {
             "color": "#2a3f5f"
            },
            "error_y": {
             "color": "#2a3f5f"
            },
            "marker": {
             "line": {
              "color": "#E5ECF6",
              "width": 0.5
             },
             "pattern": {
              "fillmode": "overlay",
              "size": 10,
              "solidity": 0.2
             }
            },
            "type": "bar"
           }
          ],
          "barpolar": [
           {
            "marker": {
             "line": {
              "color": "#E5ECF6",
              "width": 0.5
             },
             "pattern": {
              "fillmode": "overlay",
              "size": 10,
              "solidity": 0.2
             }
            },
            "type": "barpolar"
           }
          ],
          "carpet": [
           {
            "aaxis": {
             "endlinecolor": "#2a3f5f",
             "gridcolor": "white",
             "linecolor": "white",
             "minorgridcolor": "white",
             "startlinecolor": "#2a3f5f"
            },
            "baxis": {
             "endlinecolor": "#2a3f5f",
             "gridcolor": "white",
             "linecolor": "white",
             "minorgridcolor": "white",
             "startlinecolor": "#2a3f5f"
            },
            "type": "carpet"
           }
          ],
          "choropleth": [
           {
            "colorbar": {
             "outlinewidth": 0,
             "ticks": ""
            },
            "type": "choropleth"
           }
          ],
          "contour": [
           {
            "colorbar": {
             "outlinewidth": 0,
             "ticks": ""
            },
            "colorscale": [
             [
              0,
              "#0d0887"
             ],
             [
              0.1111111111111111,
              "#46039f"
             ],
             [
              0.2222222222222222,
              "#7201a8"
             ],
             [
              0.3333333333333333,
              "#9c179e"
             ],
             [
              0.4444444444444444,
              "#bd3786"
             ],
             [
              0.5555555555555556,
              "#d8576b"
             ],
             [
              0.6666666666666666,
              "#ed7953"
             ],
             [
              0.7777777777777778,
              "#fb9f3a"
             ],
             [
              0.8888888888888888,
              "#fdca26"
             ],
             [
              1,
              "#f0f921"
             ]
            ],
            "type": "contour"
           }
          ],
          "contourcarpet": [
           {
            "colorbar": {
             "outlinewidth": 0,
             "ticks": ""
            },
            "type": "contourcarpet"
           }
          ],
          "heatmap": [
           {
            "colorbar": {
             "outlinewidth": 0,
             "ticks": ""
            },
            "colorscale": [
             [
              0,
              "#0d0887"
             ],
             [
              0.1111111111111111,
              "#46039f"
             ],
             [
              0.2222222222222222,
              "#7201a8"
             ],
             [
              0.3333333333333333,
              "#9c179e"
             ],
             [
              0.4444444444444444,
              "#bd3786"
             ],
             [
              0.5555555555555556,
              "#d8576b"
             ],
             [
              0.6666666666666666,
              "#ed7953"
             ],
             [
              0.7777777777777778,
              "#fb9f3a"
             ],
             [
              0.8888888888888888,
              "#fdca26"
             ],
             [
              1,
              "#f0f921"
             ]
            ],
            "type": "heatmap"
           }
          ],
          "heatmapgl": [
           {
            "colorbar": {
             "outlinewidth": 0,
             "ticks": ""
            },
            "colorscale": [
             [
              0,
              "#0d0887"
             ],
             [
              0.1111111111111111,
              "#46039f"
             ],
             [
              0.2222222222222222,
              "#7201a8"
             ],
             [
              0.3333333333333333,
              "#9c179e"
             ],
             [
              0.4444444444444444,
              "#bd3786"
             ],
             [
              0.5555555555555556,
              "#d8576b"
             ],
             [
              0.6666666666666666,
              "#ed7953"
             ],
             [
              0.7777777777777778,
              "#fb9f3a"
             ],
             [
              0.8888888888888888,
              "#fdca26"
             ],
             [
              1,
              "#f0f921"
             ]
            ],
            "type": "heatmapgl"
           }
          ],
          "histogram": [
           {
            "marker": {
             "pattern": {
              "fillmode": "overlay",
              "size": 10,
              "solidity": 0.2
             }
            },
            "type": "histogram"
           }
          ],
          "histogram2d": [
           {
            "colorbar": {
             "outlinewidth": 0,
             "ticks": ""
            },
            "colorscale": [
             [
              0,
              "#0d0887"
             ],
             [
              0.1111111111111111,
              "#46039f"
             ],
             [
              0.2222222222222222,
              "#7201a8"
             ],
             [
              0.3333333333333333,
              "#9c179e"
             ],
             [
              0.4444444444444444,
              "#bd3786"
             ],
             [
              0.5555555555555556,
              "#d8576b"
             ],
             [
              0.6666666666666666,
              "#ed7953"
             ],
             [
              0.7777777777777778,
              "#fb9f3a"
             ],
             [
              0.8888888888888888,
              "#fdca26"
             ],
             [
              1,
              "#f0f921"
             ]
            ],
            "type": "histogram2d"
           }
          ],
          "histogram2dcontour": [
           {
            "colorbar": {
             "outlinewidth": 0,
             "ticks": ""
            },
            "colorscale": [
             [
              0,
              "#0d0887"
             ],
             [
              0.1111111111111111,
              "#46039f"
             ],
             [
              0.2222222222222222,
              "#7201a8"
             ],
             [
              0.3333333333333333,
              "#9c179e"
             ],
             [
              0.4444444444444444,
              "#bd3786"
             ],
             [
              0.5555555555555556,
              "#d8576b"
             ],
             [
              0.6666666666666666,
              "#ed7953"
             ],
             [
              0.7777777777777778,
              "#fb9f3a"
             ],
             [
              0.8888888888888888,
              "#fdca26"
             ],
             [
              1,
              "#f0f921"
             ]
            ],
            "type": "histogram2dcontour"
           }
          ],
          "mesh3d": [
           {
            "colorbar": {
             "outlinewidth": 0,
             "ticks": ""
            },
            "type": "mesh3d"
           }
          ],
          "parcoords": [
           {
            "line": {
             "colorbar": {
              "outlinewidth": 0,
              "ticks": ""
             }
            },
            "type": "parcoords"
           }
          ],
          "pie": [
           {
            "automargin": true,
            "type": "pie"
           }
          ],
          "scatter": [
           {
            "fillpattern": {
             "fillmode": "overlay",
             "size": 10,
             "solidity": 0.2
            },
            "type": "scatter"
           }
          ],
          "scatter3d": [
           {
            "line": {
             "colorbar": {
              "outlinewidth": 0,
              "ticks": ""
             }
            },
            "marker": {
             "colorbar": {
              "outlinewidth": 0,
              "ticks": ""
             }
            },
            "type": "scatter3d"
           }
          ],
          "scattercarpet": [
           {
            "marker": {
             "colorbar": {
              "outlinewidth": 0,
              "ticks": ""
             }
            },
            "type": "scattercarpet"
           }
          ],
          "scattergeo": [
           {
            "marker": {
             "colorbar": {
              "outlinewidth": 0,
              "ticks": ""
             }
            },
            "type": "scattergeo"
           }
          ],
          "scattergl": [
           {
            "marker": {
             "colorbar": {
              "outlinewidth": 0,
              "ticks": ""
             }
            },
            "type": "scattergl"
           }
          ],
          "scattermapbox": [
           {
            "marker": {
             "colorbar": {
              "outlinewidth": 0,
              "ticks": ""
             }
            },
            "type": "scattermapbox"
           }
          ],
          "scatterpolar": [
           {
            "marker": {
             "colorbar": {
              "outlinewidth": 0,
              "ticks": ""
             }
            },
            "type": "scatterpolar"
           }
          ],
          "scatterpolargl": [
           {
            "marker": {
             "colorbar": {
              "outlinewidth": 0,
              "ticks": ""
             }
            },
            "type": "scatterpolargl"
           }
          ],
          "scatterternary": [
           {
            "marker": {
             "colorbar": {
              "outlinewidth": 0,
              "ticks": ""
             }
            },
            "type": "scatterternary"
           }
          ],
          "surface": [
           {
            "colorbar": {
             "outlinewidth": 0,
             "ticks": ""
            },
            "colorscale": [
             [
              0,
              "#0d0887"
             ],
             [
              0.1111111111111111,
              "#46039f"
             ],
             [
              0.2222222222222222,
              "#7201a8"
             ],
             [
              0.3333333333333333,
              "#9c179e"
             ],
             [
              0.4444444444444444,
              "#bd3786"
             ],
             [
              0.5555555555555556,
              "#d8576b"
             ],
             [
              0.6666666666666666,
              "#ed7953"
             ],
             [
              0.7777777777777778,
              "#fb9f3a"
             ],
             [
              0.8888888888888888,
              "#fdca26"
             ],
             [
              1,
              "#f0f921"
             ]
            ],
            "type": "surface"
           }
          ],
          "table": [
           {
            "cells": {
             "fill": {
              "color": "#EBF0F8"
             },
             "line": {
              "color": "white"
             }
            },
            "header": {
             "fill": {
              "color": "#C8D4E3"
             },
             "line": {
              "color": "white"
             }
            },
            "type": "table"
           }
          ]
         },
         "layout": {
          "annotationdefaults": {
           "arrowcolor": "#2a3f5f",
           "arrowhead": 0,
           "arrowwidth": 1
          },
          "autotypenumbers": "strict",
          "coloraxis": {
           "colorbar": {
            "outlinewidth": 0,
            "ticks": ""
           }
          },
          "colorscale": {
           "diverging": [
            [
             0,
             "#8e0152"
            ],
            [
             0.1,
             "#c51b7d"
            ],
            [
             0.2,
             "#de77ae"
            ],
            [
             0.3,
             "#f1b6da"
            ],
            [
             0.4,
             "#fde0ef"
            ],
            [
             0.5,
             "#f7f7f7"
            ],
            [
             0.6,
             "#e6f5d0"
            ],
            [
             0.7,
             "#b8e186"
            ],
            [
             0.8,
             "#7fbc41"
            ],
            [
             0.9,
             "#4d9221"
            ],
            [
             1,
             "#276419"
            ]
           ],
           "sequential": [
            [
             0,
             "#0d0887"
            ],
            [
             0.1111111111111111,
             "#46039f"
            ],
            [
             0.2222222222222222,
             "#7201a8"
            ],
            [
             0.3333333333333333,
             "#9c179e"
            ],
            [
             0.4444444444444444,
             "#bd3786"
            ],
            [
             0.5555555555555556,
             "#d8576b"
            ],
            [
             0.6666666666666666,
             "#ed7953"
            ],
            [
             0.7777777777777778,
             "#fb9f3a"
            ],
            [
             0.8888888888888888,
             "#fdca26"
            ],
            [
             1,
             "#f0f921"
            ]
           ],
           "sequentialminus": [
            [
             0,
             "#0d0887"
            ],
            [
             0.1111111111111111,
             "#46039f"
            ],
            [
             0.2222222222222222,
             "#7201a8"
            ],
            [
             0.3333333333333333,
             "#9c179e"
            ],
            [
             0.4444444444444444,
             "#bd3786"
            ],
            [
             0.5555555555555556,
             "#d8576b"
            ],
            [
             0.6666666666666666,
             "#ed7953"
            ],
            [
             0.7777777777777778,
             "#fb9f3a"
            ],
            [
             0.8888888888888888,
             "#fdca26"
            ],
            [
             1,
             "#f0f921"
            ]
           ]
          },
          "colorway": [
           "#636efa",
           "#EF553B",
           "#00cc96",
           "#ab63fa",
           "#FFA15A",
           "#19d3f3",
           "#FF6692",
           "#B6E880",
           "#FF97FF",
           "#FECB52"
          ],
          "font": {
           "color": "#2a3f5f"
          },
          "geo": {
           "bgcolor": "white",
           "lakecolor": "white",
           "landcolor": "#E5ECF6",
           "showlakes": true,
           "showland": true,
           "subunitcolor": "white"
          },
          "hoverlabel": {
           "align": "left"
          },
          "hovermode": "closest",
          "mapbox": {
           "style": "light"
          },
          "paper_bgcolor": "white",
          "plot_bgcolor": "#E5ECF6",
          "polar": {
           "angularaxis": {
            "gridcolor": "white",
            "linecolor": "white",
            "ticks": ""
           },
           "bgcolor": "#E5ECF6",
           "radialaxis": {
            "gridcolor": "white",
            "linecolor": "white",
            "ticks": ""
           }
          },
          "scene": {
           "xaxis": {
            "backgroundcolor": "#E5ECF6",
            "gridcolor": "white",
            "gridwidth": 2,
            "linecolor": "white",
            "showbackground": true,
            "ticks": "",
            "zerolinecolor": "white"
           },
           "yaxis": {
            "backgroundcolor": "#E5ECF6",
            "gridcolor": "white",
            "gridwidth": 2,
            "linecolor": "white",
            "showbackground": true,
            "ticks": "",
            "zerolinecolor": "white"
           },
           "zaxis": {
            "backgroundcolor": "#E5ECF6",
            "gridcolor": "white",
            "gridwidth": 2,
            "linecolor": "white",
            "showbackground": true,
            "ticks": "",
            "zerolinecolor": "white"
           }
          },
          "shapedefaults": {
           "line": {
            "color": "#2a3f5f"
           }
          },
          "ternary": {
           "aaxis": {
            "gridcolor": "white",
            "linecolor": "white",
            "ticks": ""
           },
           "baxis": {
            "gridcolor": "white",
            "linecolor": "white",
            "ticks": ""
           },
           "bgcolor": "#E5ECF6",
           "caxis": {
            "gridcolor": "white",
            "linecolor": "white",
            "ticks": ""
           }
          },
          "title": {
           "x": 0.05
          },
          "xaxis": {
           "automargin": true,
           "gridcolor": "white",
           "linecolor": "white",
           "ticks": "",
           "title": {
            "standoff": 15
           },
           "zerolinecolor": "white",
           "zerolinewidth": 2
          },
          "yaxis": {
           "automargin": true,
           "gridcolor": "white",
           "linecolor": "white",
           "ticks": "",
           "title": {
            "standoff": 15
           },
           "zerolinecolor": "white",
           "zerolinewidth": 2
          }
         }
        },
        "title": {
         "text": "Confusion Matrix"
        },
        "width": 600,
        "xaxis": {
         "anchor": "y",
         "constrain": "domain",
         "domain": [
          0,
          1
         ],
         "scaleanchor": "y",
         "title": {
          "text": "Predicted"
         }
        },
        "yaxis": {
         "anchor": "x",
         "autorange": "reversed",
         "constrain": "domain",
         "domain": [
          0,
          1
         ],
         "title": {
          "text": "True"
         }
        }
       }
      }
     },
     "metadata": {},
     "output_type": "display_data"
    }
   ],
   "source": [
    "import plotly.express as px\n",
    "# plot confusion matrix\n",
    "fig = px.imshow(cm, labels=dict(x=\"Predicted\", y=\"True\", color=\"Count\"), x=['Melanoma', 'None', 'Seborrheic Keratosis'],\n",
    "                 y=['Melanoma', 'None', 'Seborrheic Keratosis'], text_auto=True, width=600, height=600, color_continuous_scale='reds',\n",
    "                   title=\"Confusion Matrix\")\n",
    "# remove colorbar\n",
    "fig.update_layout(coloraxis_showscale=False)\n",
    "fig.show()"
   ]
  },
  {
   "cell_type": "code",
   "execution_count": 31,
   "metadata": {},
   "outputs": [],
   "source": [
    "# save the model\n",
    "#torch.save(model.state_dict(), \"customCNN_new_skincancer_3classes_upgraded.pth\")"
   ]
  },
  {
   "cell_type": "markdown",
   "metadata": {},
   "source": [
    "---"
   ]
  }
 ],
 "metadata": {
  "kernelspec": {
   "display_name": "env",
   "language": "python",
   "name": "python3"
  },
  "language_info": {
   "codemirror_mode": {
    "name": "ipython",
    "version": 3
   },
   "file_extension": ".py",
   "mimetype": "text/x-python",
   "name": "python",
   "nbconvert_exporter": "python",
   "pygments_lexer": "ipython3",
   "version": "3.12.3"
  }
 },
 "nbformat": 4,
 "nbformat_minor": 2
}
